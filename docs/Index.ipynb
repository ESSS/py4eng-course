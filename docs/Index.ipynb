{
 "metadata": {
  "name": ""
 },
 "nbformat": 3,
 "nbformat_minor": 0,
 "worksheets": [
  {
   "cells": [
    {
     "cell_type": "markdown",
     "metadata": {},
     "source": [
      "# Python 4 Engineers - 1-day training"
     ]
    },
    {
     "cell_type": "code",
     "collapsed": false,
     "input": [
      "from IPython.display import display, HTML\n",
      "import glob\n",
      "for nb_filename in glob.glob('*.ipynb'):\n",
      "    if nb_filename.startswith(\"Index\"):\n",
      "        continue\n",
      "    display(HTML(\"<a href={0}>{0}</a>\".format(nb_filename)))"
     ],
     "language": "python",
     "metadata": {},
     "outputs": [
      {
       "html": [
        "<a href=1. Python Basics.ipynb>1. Python Basics.ipynb</a>"
       ],
       "metadata": {},
       "output_type": "display_data",
       "text": [
        "<IPython.core.display.HTML at 0x6f05570>"
       ]
      },
      {
       "html": [
        "<a href=2. The Scipy stack.ipynb>2. The Scipy stack.ipynb</a>"
       ],
       "metadata": {},
       "output_type": "display_data",
       "text": [
        "<IPython.core.display.HTML at 0x6f05570>"
       ]
      },
      {
       "html": [
        "<a href=3. Optimization problem using ANSYS Mechanical.ipynb>3. Optimization problem using ANSYS Mechanical.ipynb</a>"
       ],
       "metadata": {},
       "output_type": "display_data",
       "text": [
        "<IPython.core.display.HTML at 0x6f05570>"
       ]
      },
      {
       "html": [
        "<a href=3c. Regular Expressions.ipynb>3c. Regular Expressions.ipynb</a>"
       ],
       "metadata": {},
       "output_type": "display_data",
       "text": [
        "<IPython.core.display.HTML at 0x6f05570>"
       ]
      },
      {
       "html": [
        "<a href=4. Building graphical applications - the fast and easy way.ipynb>4. Building graphical applications - the fast and easy way.ipynb</a>"
       ],
       "metadata": {},
       "output_type": "display_data",
       "text": [
        "<IPython.core.display.HTML at 0x6f05570>"
       ]
      }
     ],
     "prompt_number": 32
    },
    {
     "cell_type": "code",
     "collapsed": false,
     "input": [],
     "language": "python",
     "metadata": {},
     "outputs": []
    }
   ],
   "metadata": {}
  }
 ]
}