{
 "metadata": {
  "name": "GUI"
 },
 "nbformat": 3,
 "nbformat_minor": 0,
 "worksheets": [
  {
   "cells": [
    {
     "cell_type": "code",
     "collapsed": false,
     "input": [
      "from guidata.dataset.datatypes import DataSet\n",
      "from guidata.dataset.dataitems import FloatItem\n",
      "import guidata\n",
      "\n",
      "class OptimizationInput(DataSet):\n",
      "    \n",
      "    stress_ratio = FloatItem('Stress Ratio', default=3)\n",
      "    copper_initial = FloatItem('Copper Initial Cross-section',\n",
      "                               min=0.1, max=1.0, default=0.5)\n",
      "    steel_initial = FloatItem('Steel Initial Cross-section',\n",
      "                               min=0.1, max=1.0, default=0.5)\n",
      "\n",
      "\n",
      "app = guidata.qapplication()\n",
      "inputs = OptimizationInput()\n",
      "inputs.edit()"
     ],
     "language": "python",
     "metadata": {},
     "outputs": [
      {
       "output_type": "stream",
       "stream": "stdout",
       "text": [
        "3.0\n",
        "0.5\n",
        "0.5\n"
       ]
      }
     ],
     "prompt_number": 1
    },
    {
     "cell_type": "code",
     "collapsed": false,
     "input": [],
     "language": "python",
     "metadata": {},
     "outputs": []
    }
   ],
   "metadata": {}
  }
 ]
}