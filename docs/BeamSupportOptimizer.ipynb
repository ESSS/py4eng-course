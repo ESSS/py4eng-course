{
 "metadata": {
  "name": "BeamSupportOptimizer"
 },
 "nbformat": 3,
 "nbformat_minor": 0,
 "worksheets": [
  {
   "cells": [
    {
     "cell_type": "markdown",
     "metadata": {},
     "source": [
      "## Beam Support Optimizer\n",
      "\n",
      "In this exercise we'll implement an optimizer for a thermally loaded support structure (Ansys Mechanical Verification Test Case 3). Our optimization variables are the the wires cross-sectional area. The objective is to minimize the total cost of steel and cooper wires."
     ]
    },
    {
     "cell_type": "markdown",
     "metadata": {},
     "source": [
      "### Creating  the template file\n",
      "\n",
      "First thing, we'll use the [vm3.dat](vm3.dat) file to create a template to our optimization, replacing the values we must optimize by keywords (using $ char) as below"
     ]
    },
    {
     "cell_type": "raw",
     "metadata": {},
     "source": [
      "/COM,ANSYS MEDIA REL. 145 (8/13/2012) REF. VERIF. MANUAL: REL. 145\n",
      "/VERIFY,VM3\n",
      "/PREP7\n",
      "/TITLE, VM3, THERMALLY LOADED SUPPORT STRUCTURE\n",
      "C***      STR. OF MATL., TIMOSHENKO, PART 1, 3RD ED., PAGE 30, PROB. 9\n",
      "ANTYPE,STATIC             ! STATIC ANALYSIS\n",
      "ET,1,LINK180\n",
      "SECTYPE,1,LINK   \n",
      "SECDATA,$copper_area      ! REPLACING ORIGINAL VALUE OF COPPER CROSS-SECTION AREA\n",
      "SECTYPE,2,LINK   \n",
      "SECDATA,$steel_area       ! REPLACING ORIGINAL VALUE OF STEEK CROSS-SECTION AREA\n",
      "MP,EX,1,16E6\n",
      "..."
     ]
    },
    {
     "cell_type": "markdown",
     "metadata": {},
     "source": [
      "Then we implement a Python function which gets the template file contents, replace keywords with valid values and create a new file."
     ]
    },
    {
     "cell_type": "code",
     "collapsed": false,
     "input": [
      "def create_from_template(template_filename, output_filename, keyword_values):\n",
      "    \"\"\"\n",
      "    Create a new file by replacing keywords in a given template file\n",
      "    \"\"\"\n",
      "    template_file = open(template_filename, \"r\")\n",
      "    try:\n",
      "        template_content = template_file.read()\n",
      "        template = Template(template_content)\n",
      "        content = template.substitute(keyword_values)\n",
      "    finally:\n",
      "        template_file.close()\n",
      "    \n",
      "    output_file = open(output_filename, \"w\")\n",
      "    try:\n",
      "        output_file.write(content)\n",
      "    finally:\n",
      "        output_file.close()"
     ],
     "language": "python",
     "metadata": {},
     "outputs": [],
     "prompt_number": 2
    },
    {
     "cell_type": "markdown",
     "metadata": {},
     "source": [
      "Call the function and see if it works:"
     ]
    },
    {
     "cell_type": "code",
     "collapsed": true,
     "input": [
      "areas = {}\n",
      "areas[\"copper_area\"] = 0.32\n",
      "areas[\"steel_area\"] = 0.18\n",
      "create_from_template(\"vm3.tpl\", \"vm3.dat\", areas)"
     ],
     "language": "python",
     "metadata": {},
     "outputs": [
      {
       "ename": "IOError",
       "evalue": "[Errno 2] No such file or directory: 'vm3.tpl'",
       "output_type": "pyerr",
       "traceback": [
        "\u001b[1;31m---------------------------------------------------------------------------\u001b[0m\n\u001b[1;31mIOError\u001b[0m                                   Traceback (most recent call last)",
        "\u001b[1;32m<ipython-input-3-ddf38bb5e237>\u001b[0m in \u001b[0;36m<module>\u001b[1;34m()\u001b[0m\n\u001b[0;32m      2\u001b[0m \u001b[0mareas\u001b[0m\u001b[1;33m[\u001b[0m\u001b[1;34m\"copper_area\"\u001b[0m\u001b[1;33m]\u001b[0m \u001b[1;33m=\u001b[0m \u001b[1;36m0.32\u001b[0m\u001b[1;33m\u001b[0m\u001b[0m\n\u001b[0;32m      3\u001b[0m \u001b[0mareas\u001b[0m\u001b[1;33m[\u001b[0m\u001b[1;34m\"steel_area\"\u001b[0m\u001b[1;33m]\u001b[0m \u001b[1;33m=\u001b[0m \u001b[1;36m0.18\u001b[0m\u001b[1;33m\u001b[0m\u001b[0m\n\u001b[1;32m----> 4\u001b[1;33m \u001b[0mcreate_from_template\u001b[0m\u001b[1;33m(\u001b[0m\u001b[1;34m\"vm3.tpl\"\u001b[0m\u001b[1;33m,\u001b[0m \u001b[1;34m\"vm3.dat\"\u001b[0m\u001b[1;33m,\u001b[0m \u001b[0mareas\u001b[0m\u001b[1;33m)\u001b[0m\u001b[1;33m\u001b[0m\u001b[0m\n\u001b[0m",
        "\u001b[1;32m<ipython-input-2-a4f8fe99767f>\u001b[0m in \u001b[0;36mcreate_from_template\u001b[1;34m(template_filename, output_filename, keyword_values)\u001b[0m\n\u001b[0;32m      3\u001b[0m     \u001b[0mCreate\u001b[0m \u001b[0ma\u001b[0m \u001b[0mnew\u001b[0m \u001b[0mfile\u001b[0m \u001b[0mby\u001b[0m \u001b[0mreplacing\u001b[0m \u001b[0mkeywords\u001b[0m \u001b[1;32min\u001b[0m \u001b[0ma\u001b[0m \u001b[0mgiven\u001b[0m \u001b[0mtemplate\u001b[0m \u001b[0mfile\u001b[0m\u001b[1;33m\u001b[0m\u001b[0m\n\u001b[0;32m      4\u001b[0m     \"\"\"\n\u001b[1;32m----> 5\u001b[1;33m     \u001b[0mtemplate_file\u001b[0m \u001b[1;33m=\u001b[0m \u001b[0mopen\u001b[0m\u001b[1;33m(\u001b[0m\u001b[0mtemplate_filename\u001b[0m\u001b[1;33m,\u001b[0m \u001b[1;34m\"r\"\u001b[0m\u001b[1;33m)\u001b[0m\u001b[1;33m\u001b[0m\u001b[0m\n\u001b[0m\u001b[0;32m      6\u001b[0m     \u001b[1;32mtry\u001b[0m\u001b[1;33m:\u001b[0m\u001b[1;33m\u001b[0m\u001b[0m\n\u001b[0;32m      7\u001b[0m         \u001b[0mtemplate_content\u001b[0m \u001b[1;33m=\u001b[0m \u001b[0mtemplate_file\u001b[0m\u001b[1;33m.\u001b[0m\u001b[0mread\u001b[0m\u001b[1;33m(\u001b[0m\u001b[1;33m)\u001b[0m\u001b[1;33m\u001b[0m\u001b[0m\n",
        "\u001b[1;31mIOError\u001b[0m: [Errno 2] No such file or directory: 'vm3.tpl'"
       ]
      }
     ],
     "prompt_number": 3
    },
    {
     "cell_type": "markdown",
     "metadata": {},
     "source": [
      "### Running ANSYS Mechanical\n",
      "\n",
      "Now we'll use Python [subprocess module](http://docs.python.org/2/library/subprocess.html) to run a simulation in batch mode. Using [subprocess.call](http://docs.python.org/2/library/subprocess.html#subprocess.call) function we could execute any system executable within a Python script. The command line is given by a Python list, like above:"
     ]
    },
    {
     "cell_type": "code",
     "collapsed": false,
     "input": [
      "import subprocess\n",
      "\n",
      "def run_ansys(input_filename, output_filename):\n",
      "    job_name = \"vm3-optimz\"\n",
      "    cmd_params = [\n",
      "        r\"C:\\Program Files\\ANSYS Inc\\v145\\ANSYS\\bin\\winx64\\ansys145.exe\",\n",
      "        \"-b\",\n",
      "        \"-p\",\n",
      "        \"ane3fl\",\n",
      "        \"-j\",\n",
      "        job_name,\n",
      "        \"-i\",\n",
      "        input_filename,\n",
      "        \"-o\",\n",
      "        output_filename,\n",
      "    ]\n",
      "    subprocess.call(cmd_params, cwd=os.path.dirname(input_filename))\n",
      "    "
     ],
     "language": "python",
     "metadata": {},
     "outputs": [],
     "prompt_number": 4
    },
    {
     "cell_type": "markdown",
     "metadata": {},
     "source": [
      "### Post-processing results\n",
      "\n",
      "Our case file was designed to print the stream forces as output, like above:"
     ]
    },
    {
     "cell_type": "raw",
     "metadata": {},
     "source": [
      "  ------------------- VM3 RESULTS ---------------------\n",
      "  \n",
      "  STRSS_ST (psi)             19695.\n",
      "  STRSS_CO (psi)             10152."
     ]
    },
    {
     "cell_type": "markdown",
     "metadata": {},
     "source": [
      "Implement a function to parse these results using regular expressions"
     ]
    },
    {
     "cell_type": "markdown",
     "metadata": {},
     "source": [
      "### Implementing the Objective Function\n",
      "\n",
      "As explained, our objective is to minimize the cost of materials to assembly the beam support structure. The cost of material is calculated by the function $20A_c price_c + 10A_s price_s$ (each wire has 10 inches, the structure is composed of 2 copper wires and 1 steel wire). Price values are  copper 3.33 in\u00b3 for copper and 0.67 in\u00b3 for steel.\n",
      "\n",
      "We'll use function [minimize](http://docs.scipy.org/doc/scipy/reference/generated/scipy.optimize.minimize.html#scipy.optimize.minimize) of [scipy.optimize](http://docs.scipy.org/doc/scipy/reference/tutorial/optimize.html) module. Minimize will call the objective function passing an array of values (optimization variables) several times, in an attemp to minimize the returning value.\n",
      "\n",
      "#### Exercise:\n",
      "\n",
      "Implement a function which receive an array of two values (copper and steel wires cross-section area) and return the cost of materials. The function must\n",
      "\n",
      "* Create the Mechanical case file from the template file assigning cross-section area values\n",
      "* Run ANSYS Mechanical simulation for the case file\n",
      "* Read stress results from output file"
     ]
    },
    {
     "cell_type": "code",
     "collapsed": false,
     "input": [],
     "language": "python",
     "metadata": {},
     "outputs": []
    }
   ],
   "metadata": {}
  }
 ]
}