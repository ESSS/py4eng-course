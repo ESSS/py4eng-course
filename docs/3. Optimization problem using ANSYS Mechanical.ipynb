{
 "metadata": {
  "name": ""
 },
 "nbformat": 3,
 "nbformat_minor": 0,
 "worksheets": [
  {
   "cells": [
    {
     "cell_type": "markdown",
     "metadata": {},
     "source": [
      "## Beam Support Optimizer\n",
      "\n",
      "In this exercise we'll implement an optimizer for a thermally loaded support structure (ANSYS Mechanical\u00ae Verification Test Case 3). The objective is to adjust wires cross-sectional area until the stress on copper wires are 3x lower than stress in steel wire.\n",
      "\n",
      "![](https://www.sharcnet.ca/Software/Fluent14/help/ans_vm/graphics/gvm3-1.png)\n",
      "\n",
      "Basically we'll implement Python functions for:\n",
      "\n",
      "1. Create the ANSYS Mechanical\u00ae case file from wires cross-section area values\n",
      "1. Run ANSYS Mechanical\u00ae simulation\n",
      "1. Read the stress results\n",
      "\n",
      "Then merge the 3 steps above in one function and give it to the optimizer."
     ]
    },
    {
     "cell_type": "markdown",
     "metadata": {},
     "source": [
      "### Using Template files\n",
      "\n",
      "First thing, we'll use the original case file to create a template. *Save as* [vm3.dat](files/vm3.dat) file and replace cross section values (SECDATA parameters) for keywords, using \"$\" char as below."
     ]
    },
    {
     "cell_type": "raw",
     "metadata": {},
     "source": [
      "<pre><code>\n",
      "...\n",
      "ET,1,LINK180\n",
      "SECTYPE,1,LINK\n",
      "SECDATA,$copper_area      ! REPLACING ORIGINAL VALUE OF COPPER CROSS-SECTION AREA\n",
      "SECTYPE,2,LINK\n",
      "SECDATA,$steel_area       ! REPLACING ORIGINAL VALUE OF STEEK CROSS-SECTION AREA\n",
      "MP,EX,1,16E6\n",
      "...\n",
      "</code></pre>"
     ]
    },
    {
     "cell_type": "markdown",
     "metadata": {},
     "source": [
      "Then we create a Python function which gets the template file contents, replace keywords with valid values and create a new file."
     ]
    },
    {
     "cell_type": "code",
     "collapsed": false,
     "input": [
      "from string import Template\n",
      "\n",
      "def create_from_template(template_filename, output_filename, keyword_values):\n",
      "    \"\"\"\n",
      "    Create a new file by replacing keywords in a given template file\n",
      "    \"\"\"\n",
      "    template_file = open(template_filename, \"r\")\n",
      "    # God Practice: always close a file\n",
      "    try:\n",
      "        template_content = template_file.read()\n",
      "        template = Template(template_content)\n",
      "        content = template.substitute(keyword_values)\n",
      "    finally:\n",
      "        template_file.close()\n",
      "    \n",
      "    output_file = open(output_filename, \"w\")\n",
      "    try:\n",
      "        output_file.write(content)\n",
      "    finally:\n",
      "        output_file.close()"
     ],
     "language": "python",
     "metadata": {},
     "outputs": [],
     "prompt_number": 5
    },
    {
     "cell_type": "markdown",
     "metadata": {},
     "source": [
      "Call the function and see if it works ([vm3.out.dat](files/vm3.out.dat) file should be created with the given cross section values):"
     ]
    },
    {
     "cell_type": "code",
     "collapsed": true,
     "input": [
      "areas = {}\n",
      "areas[\"copper_area\"] = 0.32\n",
      "areas[\"steel_area\"] = 0.18\n",
      "create_from_template(\"vm3.tpl\", \"vm3.out.dat\", areas)"
     ],
     "language": "python",
     "metadata": {},
     "outputs": [],
     "prompt_number": 6
    },
    {
     "cell_type": "markdown",
     "metadata": {},
     "source": [
      "### Running ANSYS Mechanical\n",
      "\n",
      "Now we'll use Python [subprocess module](http://docs.python.org/2/library/subprocess.html) to run a simulation in batch mode. Using [subprocess.call](http://docs.python.org/2/library/subprocess.html#subprocess.call) function we could execute any system executable within a Python script. The command parameters is given by a Python list. See below."
     ]
    },
    {
     "cell_type": "code",
     "collapsed": false,
     "input": [
      "import subprocess\n",
      "\n",
      "\n",
      "def run_ansys(input_filename, output_filename):\n",
      "    job_name = \"vm3-optimz\"\n",
      "    cmd_params = [\n",
      "        r\"C:\\Program Files\\ANSYS Inc\\v145\\ANSYS\\bin\\winx64\\ansys145.exe\",\n",
      "        \"-b\",\n",
      "        \"-p\",\n",
      "        \"ane3fl\",\n",
      "        \"-j\",\n",
      "        job_name,\n",
      "        \"-i\",\n",
      "        input_filename,\n",
      "        \"-o\",\n",
      "        output_filename,\n",
      "    ]\n",
      "    subprocess.call(cmd_params, cwd=os.path.dirname(input_filename))"
     ],
     "language": "python",
     "metadata": {},
     "outputs": [],
     "prompt_number": 20
    },
    {
     "cell_type": "markdown",
     "metadata": {},
     "source": [
      "### Exercise 3.1: Post-processing results\n",
      "\n",
      "Our case file was designed to print the stream forces as output, like above:"
     ]
    },
    {
     "cell_type": "raw",
     "metadata": {},
     "source": [
      "  ------------------- VM3 RESULTS ---------------------\n",
      "  \n",
      "  STRSS_ST (psi)             19695.<br>\n",
      "  STRSS_CO (psi)             10152.<br>"
     ]
    },
    {
     "cell_type": "markdown",
     "metadata": {},
     "source": [
      "Read [Chapter 3c: Regular Expressions](3c.%20Regular%20Expressions.ipynb) and try to implement a function to parse the Stress values from the above text."
     ]
    },
    {
     "cell_type": "markdown",
     "metadata": {},
     "source": [
      "### Exercise 3.2: Implementing the Objective Function\n",
      "\n",
      "As explained, our objective is to adjust wires cross-sectional area until the stress on copper wires are 3x lower than stress in steel wires.\n",
      "\n",
      "We'll use function [minimize](http://docs.scipy.org/doc/scipy/reference/generated/scipy.optimize.minimize.html#scipy.optimize.minimize) of [scipy.optimize](http://docs.scipy.org/doc/scipy/reference/tutorial/optimize.html) module. [Minimize](http://docs.scipy.org/doc/scipy/reference/generated/scipy.optimize.minimize.html#scipy.optimize.minimize) call the objective function passing an array of values (optimization variables) several times, in an attemp to minimize the returning value.\n",
      "\n",
      "Implement a function which receive an array of two values (copper and steel wires cross-section area) and return the cost of materials. The function must\n",
      "\n",
      "* Create the Mechanical case file from the template file assigning cross-section area values\n",
      "* Run ANSYS Mechanical simulation for the case file\n",
      "* Read stress results from output file\n",
      "* Return the stress ratio of copper and \n",
      "\n",
      "Then call [minimize](http://docs.scipy.org/doc/scipy/reference/generated/scipy.optimize.minimize.html#scipy.optimize.minimize) and pass the created function as 1st parameter.\n",
      "\n",
      "### A very simple UI\n",
      "\n",
      "Use [raw_input](http://docs.python.org/2/library/functions.html) function to create scripts with simple user interfaces:"
     ]
    },
    {
     "cell_type": "code",
     "collapsed": true,
     "input": [
      "if __name__ == \"__main__\":\n",
      "    ratio = raw_input(\"Desired Ratio steel/copper stress: \")\n",
      "    st_copper = raw_input(\"Initial Copper Cross-section: \")\n",
      "    st_steel = raw_input(\"Initial Steel Cross-section: \")\n",
      "    ratio = int(ratio)\n",
      "    st_copper = float(st_copper)\n",
      "    st_steel = float(st_steel)\n",
      "    \n",
      "    # ...run optimizer...\n",
      "    \n",
      "    print\n",
      "    print \"Cross-sections: Steel {0} | Copper {1}\".format(st_steel, st_copper)"
     ],
     "language": "python",
     "metadata": {},
     "outputs": [
      {
       "name": "stdout",
       "output_type": "stream",
       "stream": "stdout",
       "text": [
        "Desired Ratio steel/copper stress: 1\n"
       ]
      },
      {
       "name": "stdout",
       "output_type": "stream",
       "stream": "stdout",
       "text": [
        "Initial Copper Cross-section: 1\n"
       ]
      },
      {
       "name": "stdout",
       "output_type": "stream",
       "stream": "stdout",
       "text": [
        "Initial Steel Cross-section: 2\n"
       ]
      },
      {
       "output_type": "stream",
       "stream": "stdout",
       "text": [
        "\n",
        "Cross-sections: Steel 2.0 | Copper 1.0\n"
       ]
      }
     ],
     "prompt_number": 8
    },
    {
     "cell_type": "code",
     "collapsed": false,
     "input": [
      "def optimize():\n",
      "    res = minimize(\n",
      "        evaluate, \n",
      "        (0.2, 0.5),\n",
      "        method=\"COBYLA\",\n",
      "        constraints =[{'type': 'ineq', 'fun': lambda x: x[0] - 0.1},\n",
      "                      {'type': 'ineq', 'fun': lambda x: x[1] - 0.1},\n",
      "                      {'type': 'ineq', 'fun': lambda x: 1 - x[0]},\n",
      "        ],\n",
      "        options={'disp': True, 'maxiter': 20},\n",
      "        )\n",
      "    return res\n"
     ],
     "language": "python",
     "metadata": {},
     "outputs": [],
     "prompt_number": 2
    },
    {
     "cell_type": "markdown",
     "metadata": {},
     "source": [
      "<center>__... End of Chapter ...__</center>"
     ]
    }
   ],
   "metadata": {}
  }
 ]
}