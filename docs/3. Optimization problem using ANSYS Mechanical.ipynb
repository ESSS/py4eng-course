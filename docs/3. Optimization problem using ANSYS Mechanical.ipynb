{
 "metadata": {
  "name": ""
 },
 "nbformat": 3,
 "nbformat_minor": 0,
 "worksheets": [
  {
   "cells": [
    {
     "cell_type": "markdown",
     "metadata": {},
     "source": [
      "## Beam Support Optimizer\n",
      "\n",
      "In this exercise we'll implement an optimizer for a thermally loaded support structure (ANSYS Mechanical\u00ae Verification Test Case 3). The objective is to adjust wires cross-sectional area until the stress on copper wires are 3x lower than stress in steel wire.\n",
      "\n",
      "![](https://www.sharcnet.ca/Software/Fluent14/help/ans_vm/graphics/gvm3-1.png)\n",
      "\n",
      "Basically we'll implement Python functions for:\n",
      "\n",
      "1. Create the ANSYS Mechanical\u00ae case file from wires cross-section area values\n",
      "1. Run ANSYS Mechanical\u00ae simulation\n",
      "1. Read the stress results\n",
      "\n",
      "Then merge the 3 steps above in one function and give it to the optimizer."
     ]
    },
    {
     "cell_type": "markdown",
     "metadata": {},
     "source": [
      "### Using Template files\n",
      "\n",
      "First thing, we'll use the original case file to create a template. Save as the file [vm3.dat](files/vm3.dat) file and replace SECDATA values for keywords (using \"$\" char) as below."
     ]
    },
    {
     "cell_type": "raw",
     "metadata": {},
     "source": [
      "...\n",
      "ET,1,LINK180\n",
      "SECTYPE,1,LINK   \n",
      "SECDATA,$copper_area      ! REPLACING ORIGINAL VALUE OF COPPER CROSS-SECTION AREA\n",
      "SECTYPE,2,LINK   \n",
      "SECDATA,$steel_area       ! REPLACING ORIGINAL VALUE OF STEEK CROSS-SECTION AREA\n",
      "MP,EX,1,16E6\n",
      "..."
     ]
    },
    {
     "cell_type": "markdown",
     "metadata": {},
     "source": [
      "Then we create a Python function which gets the template file contents, replace keywords with valid values and create a new file."
     ]
    },
    {
     "cell_type": "code",
     "collapsed": false,
     "input": [
      "from string import Template\n",
      "\n",
      "def create_from_template(template_filename, output_filename, keyword_values):\n",
      "    \"\"\"\n",
      "    Create a new file by replacing keywords in a given template file\n",
      "    \"\"\"\n",
      "    template_file = open(template_filename, \"r\")\n",
      "    # God Practice: always close a file\n",
      "    try:\n",
      "        template_content = template_file.read()\n",
      "        template = Template(template_content)\n",
      "        content = template.substitute(keyword_values)\n",
      "    finally:\n",
      "        template_file.close()\n",
      "    \n",
      "    output_file = open(output_filename, \"w\")\n",
      "    try:\n",
      "        output_file.write(content)\n",
      "    finally:\n",
      "        output_file.close()"
     ],
     "language": "python",
     "metadata": {},
     "outputs": [],
     "prompt_number": 5
    },
    {
     "cell_type": "markdown",
     "metadata": {},
     "source": [
      "Call the function and see if it works:"
     ]
    },
    {
     "cell_type": "code",
     "collapsed": true,
     "input": [
      "areas = {}\n",
      "areas[\"copper_area\"] = 0.32\n",
      "areas[\"steel_area\"] = 0.18\n",
      "create_from_template(\"vm3.tpl\", \"vm3.out.dat\", areas)"
     ],
     "language": "python",
     "metadata": {},
     "outputs": [],
     "prompt_number": 6
    },
    {
     "cell_type": "markdown",
     "metadata": {},
     "source": [
      "### Running ANSYS Mechanical\n",
      "\n",
      "Now we'll use Python [subprocess module](http://docs.python.org/2/library/subprocess.html) to run a simulation in batch mode. Using [subprocess.call](http://docs.python.org/2/library/subprocess.html#subprocess.call) function we could execute any system executable within a Python script. The command line is given by a Python list, like above:"
     ]
    },
    {
     "cell_type": "code",
     "collapsed": false,
     "input": [
      "import subprocess\n",
      "\n",
      "\n",
      "def run_ansys(input_filename, output_filename):\n",
      "    job_name = \"vm3-optimz\"\n",
      "    cmd_params = [\n",
      "        r\"C:\\Program Files\\ANSYS Inc\\v145\\ANSYS\\bin\\winx64\\ansys145.exe\",\n",
      "        \"-b\",\n",
      "        \"-p\",\n",
      "        \"ane3fl\",\n",
      "        \"-j\",\n",
      "        job_name,\n",
      "        \"-i\",\n",
      "        input_filename,\n",
      "        \"-o\",\n",
      "        output_filename,\n",
      "    ]\n",
      "    subprocess.call(cmd_params, cwd=os.path.dirname(input_filename))"
     ],
     "language": "python",
     "metadata": {},
     "outputs": [],
     "prompt_number": 20
    },
    {
     "cell_type": "markdown",
     "metadata": {},
     "source": [
      "### Post-processing results\n",
      "\n",
      "Our case file was designed to print the stream forces as output, like above:"
     ]
    },
    {
     "cell_type": "raw",
     "metadata": {},
     "source": [
      "  ------------------- VM3 RESULTS ---------------------\n",
      "  \n",
      "  STRSS_ST (psi)             19695.\n",
      "  STRSS_CO (psi)             10152."
     ]
    },
    {
     "cell_type": "markdown",
     "metadata": {},
     "source": [
      "Implement a function to parse these results using [regular expression](http://rjptdevnb002:8888/3c.%20Regular%20Expressions.ipynb)"
     ]
    },
    {
     "cell_type": "markdown",
     "metadata": {},
     "source": [
      "### Implementing the Objective Function\n",
      "\n",
      "As explained, our objective is to adjust wires cross-sectional area until the stress on copper wires are 3x lower than stress in steel wires.\n",
      "\n",
      "We'll use function [minimize](http://docs.scipy.org/doc/scipy/reference/generated/scipy.optimize.minimize.html#scipy.optimize.minimize) of [scipy.optimize](http://docs.scipy.org/doc/scipy/reference/tutorial/optimize.html) module. [Minimize](http://docs.scipy.org/doc/scipy/reference/generated/scipy.optimize.minimize.html#scipy.optimize.minimize) call the objective function passing an array of values (optimization variables) several times, in an attemp to minimize the returning value.\n",
      "\n",
      "#### Exercise:\n",
      "\n",
      "Implement a function which receive an array of two values (copper and steel wires cross-section area) and return the cost of materials. The function must\n",
      "\n",
      "* Create the Mechanical case file from the template file assigning cross-section area values\n",
      "* Run ANSYS Mechanical simulation for the case file\n",
      "* Read stress results from output file\n",
      "* Return the stress ratio of copper and \n",
      "\n",
      "Then call [minimize](http://docs.scipy.org/doc/scipy/reference/generated/scipy.optimize.minimize.html#scipy.optimize.minimize) and pass the created function as 1st parameter.\n",
      "\n",
      "### A very simple UI\n",
      "\n",
      "Use [raw_input](http://docs.python.org/2/library/functions.html) function to create scripts with simple user interfaces:"
     ]
    },
    {
     "cell_type": "code",
     "collapsed": true,
     "input": [
      "ratio = raw_input(\"Desired Ratio steel/copper stress: \")\n",
      "st_copper = raw_input(\"Initial Copper Cross-section: \")\n",
      "st_steel = raw_input(\"Initial Steel Cross-section: \")\n",
      "ratio = int(ratio)\n",
      "st_copper = float(st_copper)\n",
      "st_steel = float(st_steel)\n",
      "\n",
      "# ...run optimizer...\n",
      "\n",
      "print\n",
      "print \"Cross-sections: Steel {0} | Copper {1}\".format(st_steel, st_copper)"
     ],
     "language": "python",
     "metadata": {},
     "outputs": [
      {
       "ename": "StdinNotImplementedError",
       "evalue": "raw_input was called, but this frontend does not support stdin.",
       "output_type": "pyerr",
       "traceback": [
        "\u001b[1;31m---------------------------------------------------------------------------\u001b[0m\n\u001b[1;31mStdinNotImplementedError\u001b[0m                  Traceback (most recent call last)",
        "\u001b[1;32m<ipython-input-1-fd4c5a61eb62>\u001b[0m in \u001b[0;36m<module>\u001b[1;34m()\u001b[0m\n\u001b[1;32m----> 1\u001b[1;33m \u001b[0mratio\u001b[0m \u001b[1;33m=\u001b[0m \u001b[0mraw_input\u001b[0m\u001b[1;33m(\u001b[0m\u001b[1;34m\"Desired Ratio steel/copper stress: \"\u001b[0m\u001b[1;33m)\u001b[0m\u001b[1;33m\u001b[0m\u001b[0m\n\u001b[0m\u001b[0;32m      2\u001b[0m \u001b[0mst_copper\u001b[0m \u001b[1;33m=\u001b[0m \u001b[0mraw_input\u001b[0m\u001b[1;33m(\u001b[0m\u001b[1;34m\"Initial Copper Cross-section: \"\u001b[0m\u001b[1;33m)\u001b[0m\u001b[1;33m\u001b[0m\u001b[0m\n\u001b[0;32m      3\u001b[0m \u001b[0mst_steel\u001b[0m \u001b[1;33m=\u001b[0m \u001b[0mraw_input\u001b[0m\u001b[1;33m(\u001b[0m\u001b[1;34m\"Initial Steel Cross-section: \"\u001b[0m\u001b[1;33m)\u001b[0m\u001b[1;33m\u001b[0m\u001b[0m\n\u001b[0;32m      4\u001b[0m \u001b[0mratio\u001b[0m \u001b[1;33m=\u001b[0m \u001b[0mint\u001b[0m\u001b[1;33m(\u001b[0m\u001b[0mratio\u001b[0m\u001b[1;33m)\u001b[0m\u001b[1;33m\u001b[0m\u001b[0m\n\u001b[0;32m      5\u001b[0m \u001b[0mst_copper\u001b[0m \u001b[1;33m=\u001b[0m \u001b[0mfloat\u001b[0m\u001b[1;33m(\u001b[0m\u001b[0mst_copper\u001b[0m\u001b[1;33m)\u001b[0m\u001b[1;33m\u001b[0m\u001b[0m\n",
        "\u001b[1;32mD:\\WinPython-2.7\\python-2.7.5\\lib\\site-packages\\IPython\\zmq\\ipkernel.pyc\u001b[0m in \u001b[0;36m<lambda>\u001b[1;34m(prompt)\u001b[0m\n\u001b[0;32m    343\u001b[0m             \u001b[0mraw_input\u001b[0m \u001b[1;33m=\u001b[0m \u001b[1;32mlambda\u001b[0m \u001b[0mprompt\u001b[0m\u001b[1;33m=\u001b[0m\u001b[1;34m''\u001b[0m\u001b[1;33m:\u001b[0m \u001b[0mself\u001b[0m\u001b[1;33m.\u001b[0m\u001b[0m_raw_input\u001b[0m\u001b[1;33m(\u001b[0m\u001b[0mprompt\u001b[0m\u001b[1;33m,\u001b[0m \u001b[0mident\u001b[0m\u001b[1;33m,\u001b[0m \u001b[0mparent\u001b[0m\u001b[1;33m)\u001b[0m\u001b[1;33m\u001b[0m\u001b[0m\n\u001b[0;32m    344\u001b[0m         \u001b[1;32melse\u001b[0m\u001b[1;33m:\u001b[0m\u001b[1;33m\u001b[0m\u001b[0m\n\u001b[1;32m--> 345\u001b[1;33m             \u001b[0mraw_input\u001b[0m \u001b[1;33m=\u001b[0m \u001b[1;32mlambda\u001b[0m \u001b[0mprompt\u001b[0m\u001b[1;33m=\u001b[0m\u001b[1;34m''\u001b[0m \u001b[1;33m:\u001b[0m \u001b[0mself\u001b[0m\u001b[1;33m.\u001b[0m\u001b[0m_no_raw_input\u001b[0m\u001b[1;33m(\u001b[0m\u001b[1;33m)\u001b[0m\u001b[1;33m\u001b[0m\u001b[0m\n\u001b[0m\u001b[0;32m    346\u001b[0m \u001b[1;33m\u001b[0m\u001b[0m\n\u001b[0;32m    347\u001b[0m         \u001b[1;32mif\u001b[0m \u001b[0mpy3compat\u001b[0m\u001b[1;33m.\u001b[0m\u001b[0mPY3\u001b[0m\u001b[1;33m:\u001b[0m\u001b[1;33m\u001b[0m\u001b[0m\n",
        "\u001b[1;32mD:\\WinPython-2.7\\python-2.7.5\\lib\\site-packages\\IPython\\zmq\\ipkernel.pyc\u001b[0m in \u001b[0;36m_no_raw_input\u001b[1;34m(self)\u001b[0m\n\u001b[0;32m    698\u001b[0m         \"\"\"Raise StdinNotImplentedError if active frontend doesn't support\n\u001b[0;32m    699\u001b[0m         stdin.\"\"\"\n\u001b[1;32m--> 700\u001b[1;33m         raise StdinNotImplementedError(\"raw_input was called, but this \"\n\u001b[0m\u001b[0;32m    701\u001b[0m                                        \"frontend does not support stdin.\") \n\u001b[0;32m    702\u001b[0m \u001b[1;33m\u001b[0m\u001b[0m\n",
        "\u001b[1;31mStdinNotImplementedError\u001b[0m: raw_input was called, but this frontend does not support stdin."
       ]
      }
     ],
     "prompt_number": 1
    },
    {
     "cell_type": "code",
     "collapsed": false,
     "input": [
      "def optimize():\n",
      "    res = minimize(\n",
      "        evaluate, \n",
      "        (0.2, 0.5),\n",
      "        method=\"COBYLA\",\n",
      "        constraints =[{'type': 'ineq', 'fun': lambda x: x[0] - 0.1},\n",
      "                      {'type': 'ineq', 'fun': lambda x: x[1] - 0.1},\n",
      "                      {'type': 'ineq', 'fun': lambda x: 1 - x[0]},\n",
      "        ],\n",
      "        options={'disp': True, 'maxiter': 20},\n",
      "        )\n",
      "    return res\n"
     ],
     "language": "python",
     "metadata": {},
     "outputs": [],
     "prompt_number": 2
    },
    {
     "cell_type": "markdown",
     "metadata": {},
     "source": [
      "<center>__... End of Chapter ...__</center>"
     ]
    }
   ],
   "metadata": {}
  }
 ]
}