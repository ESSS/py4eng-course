{
 "metadata": {
  "name": "Python Sci Course"
 },
 "nbformat": 3,
 "nbformat_minor": 0,
 "worksheets": [
  {
   "cells": [
    {
     "cell_type": "markdown",
     "metadata": {},
     "source": [
      "## Python Basics\n",
      "\n",
      "> *Python\u2019s elegant syntax and dynamic typing, together with its interpreted nature, make it an ideal language for scripting and rapid application development in many areas on most platforms* -- Python v2.7.2 Manual\n",
      "\n",
      "### Why Python:\n",
      "\n",
      "+ Easy, concise, elegant and powerfull\n",
      "+ Batteries inlcuded\n",
      "+ The larger open source library collection for scientific computation\n",
      "\n",
      "### Hello World:"
     ]
    },
    {
     "cell_type": "code",
     "collapsed": false,
     "input": [
      "print \"Hello World\""
     ],
     "language": "python",
     "metadata": {},
     "outputs": [
      {
       "output_type": "stream",
       "stream": "stdout",
       "text": [
        "Hello World\n"
       ]
      }
     ],
     "prompt_number": 10
    },
    {
     "cell_type": "markdown",
     "metadata": {},
     "source": [
      "### Basic Data Structures\n",
      "\n",
      "+ Lists\n",
      "+ Maps\n",
      "+ Sets"
     ]
    },
    {
     "cell_type": "code",
     "collapsed": false,
     "input": [
      "# Lists\n",
      "fruits = [\"apple\", \"orange\", \"mango\"]\n",
      "print \"Fruit 0: \", fruits[0]\n",
      "\n",
      "numbers = [1, 2, 3]\n",
      "numbers = range(1, 4)\n",
      "print \"numbers using range(): \", numbers"
     ],
     "language": "python",
     "metadata": {},
     "outputs": [
      {
       "output_type": "stream",
       "stream": "stdout",
       "text": [
        "Fruit 0:  apple\n",
        "numbers using range():  [1, 2, 3]\n"
       ]
      }
     ],
     "prompt_number": 11
    },
    {
     "cell_type": "code",
     "collapsed": false,
     "input": [
      "#Map\n",
      "fruit_calories = {}\n",
      "fruit_calories[\"apple\"] = 53\n",
      "fruit_calories[\"banana\"] = 95\n",
      "fruit_calories[\"orange\"] = 63\n",
      "\n",
      "print \"Orange calories:\", fruit_kcal[\"orange\"]\n",
      "print \"Orange has {0} calories\".format(fruit_kcal[\"orange\"])"
     ],
     "language": "python",
     "metadata": {},
     "outputs": [
      {
       "output_type": "stream",
       "stream": "stdout",
       "text": [
        "Orange calories: 63\n",
        "Orange has 63 calories\n"
       ]
      }
     ],
     "prompt_number": 16
    },
    {
     "cell_type": "code",
     "collapsed": false,
     "input": [
      "#Sets\n",
      "marvel = set([\"ironman\", \"hulk\", \"america\"])\n",
      "st_fighter = set([\"ken\", \"ryu\", \"blanka\"])\n",
      "marvel_vs_st_fighter = marvel.union(st_fighter)\n",
      "print marvel_vs_st_fighter\n",
      "marvel_vs_st_fighter.add(\"hulk\")\n",
      "print marvel_vs_st_fighter, \"Must be only one hulk!\" "
     ],
     "language": "python",
     "metadata": {},
     "outputs": [
      {
       "output_type": "stream",
       "stream": "stdout",
       "text": [
        "set(['ken', 'ryu', 'blanka', 'ironman', 'america', 'hulk'])\n",
        "set(['ken', 'ryu', 'blanka', 'ironman', 'america', 'hulk']) Must be only one hulk!\n"
       ]
      }
     ],
     "prompt_number": 28
    },
    {
     "cell_type": "markdown",
     "metadata": {},
     "source": [
      "### Basic Controw Flow\n",
      "\n",
      "## If...else"
     ]
    },
    {
     "cell_type": "code",
     "collapsed": false,
     "input": [
      "hero = marvel_vs_st_fighter.pop()\n",
      "\n",
      "if hero == \"ken\":\n",
      "    buddy = \"ryu\"\n",
      "elif hero == \"hulk\":\n",
      "    buddy = \"blanka\"\n",
      "else:\n",
      "    buddy = None\n",
      "    \n",
      "print hero, buddy\n",
      "\n",
      "\n",
      "\n"
     ],
     "language": "python",
     "metadata": {},
     "outputs": [
      {
       "output_type": "stream",
       "stream": "stdout",
       "text": [
        "ryu None\n"
       ]
      }
     ],
     "prompt_number": 30
    },
    {
     "cell_type": "markdown",
     "metadata": {},
     "source": [
      "### for...in"
     ]
    },
    {
     "cell_type": "code",
     "collapsed": false,
     "input": [
      "for x in fruits:\n",
      "    print x"
     ],
     "language": "python",
     "metadata": {},
     "outputs": [
      {
       "output_type": "stream",
       "stream": "stdout",
       "text": [
        "apple\n",
        "orange\n",
        "mango\n"
       ]
      }
     ],
     "prompt_number": 31
    },
    {
     "cell_type": "code",
     "collapsed": false,
     "input": [
      "for i in range(4):\n",
      "    print i"
     ],
     "language": "python",
     "metadata": {},
     "outputs": [
      {
       "output_type": "stream",
       "stream": "stdout",
       "text": [
        "0\n",
        "1\n",
        "2\n",
        "3\n"
       ]
      }
     ],
     "prompt_number": 32
    },
    {
     "cell_type": "markdown",
     "metadata": {},
     "source": [
      "## Basic Scientific Package\n",
      "\n",
      "+ Numpy - efficient array a matrix library\n",
      "+ Scipy - numerical routines (optimization, integration, linear algebra)\n",
      "+ matplotlib - rich plot library"
     ]
    },
    {
     "cell_type": "code",
     "collapsed": false,
     "input": [
      "import numpy as np\n",
      "import matplotlib.pyplot as plt\n",
      "\n",
      "x = np.zeros(20, \"d\")\n",
      "for i in range(20):\n",
      "    x[i] = i / 2.0\n",
      "\n",
      "print x"
     ],
     "language": "python",
     "metadata": {},
     "outputs": [
      {
       "output_type": "stream",
       "stream": "stdout",
       "text": [
        "[ 0.   0.5  1.   1.5  2.   2.5  3.   3.5  4.   4.5  5.   5.5  6.   6.5  7.\n",
        "  7.5  8.   8.5  9.   9.5]\n"
       ]
      }
     ],
     "prompt_number": 21
    },
    {
     "cell_type": "code",
     "collapsed": false,
     "input": [
      "plt.plot(x)"
     ],
     "language": "python",
     "metadata": {},
     "outputs": [
      {
       "output_type": "pyout",
       "prompt_number": 22,
       "text": [
        "[<matplotlib.lines.Line2D at 0x7218d10>]"
       ]
      },
      {
       "output_type": "display_data",
       "png": "[encoded data removed]"
      }
     ],
     "prompt_number": 22
    },
    {
     "cell_type": "code",
     "collapsed": false,
     "input": [
      "plt.plot(x, np.sin(x), \"ro-\", label=\"sin\")\n",
      "plt.legend()\n",
      "plt.grid()\n",
      "t = plt.xticks(np.arange(10))"
     ],
     "language": "python",
     "metadata": {},
     "outputs": [
      {
       "output_type": "display_data",
       "png": "[encoded data removed]"
      }
     ],
     "prompt_number": 23
    },
    {
     "cell_type": "code",
     "collapsed": false,
     "input": [
      "from scipy.integrate import trapz, quad\n",
      "\n",
      "quad(np.sin, 0, np.pi)"
     ],
     "language": "python",
     "metadata": {},
     "outputs": [
      {
       "output_type": "pyout",
       "prompt_number": 51,
       "text": [
        "(2.0, 2.220446049250313e-14)"
       ]
      }
     ],
     "prompt_number": 51
    },
    {
     "cell_type": "code",
     "collapsed": false,
     "input": [
      "from IPython.display import HTML\n",
      "HTML('<iframe src=http://www.wolframalpha.com/input/?i=integrate%28sin%28x%29+from+0+to+1%29 width=1280 height=550></iframe>')"
     ],
     "language": "python",
     "metadata": {},
     "outputs": [
      {
       "html": [
        "<iframe src=http://www.wolframalpha.com/input/?i=integrate%28sin%28x%29+from+0+to+1%29 width=1280 height=550></iframe>"
       ],
       "output_type": "pyout",
       "prompt_number": 9,
       "text": [
        "<IPython.core.display.HTML at 0x5bf0bd0>"
       ]
      }
     ],
     "prompt_number": 9
    },
    {
     "cell_type": "code",
     "collapsed": false,
     "input": [],
     "language": "python",
     "metadata": {},
     "outputs": []
    }
   ],
   "metadata": {}
  }
 ]
}