{
 "metadata": {
  "name": ""
 },
 "nbformat": 3,
 "nbformat_minor": 0,
 "worksheets": [
  {
   "cells": [
    {
     "cell_type": "markdown",
     "metadata": {},
     "source": [
      "## Exercise 1:"
     ]
    },
    {
     "cell_type": "code",
     "collapsed": false,
     "input": [
      "import numpy as np\n",
      "import matplotlib.pyplot as plt\n",
      "import matplotlib.animation as animation\n",
      "\n",
      "###variable declarations\n",
      "nx = 81\n",
      "ny = 81\n",
      "c = 1\n",
      "dt = 5e-3\n",
      "\n",
      "\n",
      "def solve(nt):\n",
      "    dx = 2.0/(nx-1)\n",
      "    dy = 2.0/(ny-1)\n",
      "\n",
      "    x = np.linspace(0,2,nx)\n",
      "    y = np.linspace(0,2,ny)\n",
      "    \n",
      "    u = np.ones((ny,nx)) ##create a 1xn vector of 1's\n",
      "    un = np.ones((ny,nx)) ##\n",
      "    ###Assign initial conditions\n",
      "    u[.5/dy:1/dy+1,.5/dx:1/dx+1]=2 ##set hat function I.C. : u(.5<=x<=1 && .5<=y<=1 ) is 2\n",
      "\n",
      "\n",
      "    for n in range(nt+1): ##loop across number of time steps\n",
      "        un[:] = u[:]\n",
      "        u[1:,1:]=un[1:,1:]-(c*dt/dx*(un[1:,1:]-un[0:-1,1:]))-(c*dt/dy*(un[1:,1:]-un[1:,0:-1]))\n",
      "        u[0,:] = 1\n",
      "        u[-1,:] = 1\n",
      "        u[:,0] = 1\n",
      "        u[:,-1] = 1\n",
      "    return x, y, u"
     ],
     "language": "python",
     "metadata": {},
     "outputs": [],
     "prompt_number": 2
    },
    {
     "cell_type": "code",
     "collapsed": false,
     "input": [
      "from mpl_toolkits.mplot3d import Axes3D    ##New Library required for projected 3d plots\n",
      "\n",
      "def plot_surface(x, y, u):\n",
      "    fig = plt.figure(figsize=(11,7), dpi=100)          ##the figsize parameter can be used to produce different sized images\n",
      "    ax = fig.gca(projection='3d')\n",
      "    X, Y = np.meshgrid(x,y)\n",
      "    surf = ax.plot_surface(X,Y,u)\n",
      "\n",
      "x, y, u = solve(100)\n"
     ],
     "language": "python",
     "metadata": {},
     "outputs": []
    }
   ],
   "metadata": {}
  }
 ]
}