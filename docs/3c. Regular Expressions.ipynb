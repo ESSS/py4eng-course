{
 "metadata": {
  "name": ""
 },
 "nbformat": 3,
 "nbformat_minor": 0,
 "worksheets": [
  {
   "cells": [
    {
     "cell_type": "markdown",
     "metadata": {},
     "source": [
      "## Introduction\n",
      "\n",
      "*\"A regular expression is a special sequence of characters that helps you match or find other strings or sets of strings, using a specialized syntax held in a pattern.\"* - tutorialspoint.com\n",
      "\n",
      "http://docs.python.org/2/library/re.html"
     ]
    },
    {
     "cell_type": "markdown",
     "metadata": {},
     "source": [
      "### Sample 1\n",
      "\n",
      "Find the names starting with letter \"I\" in the following list:"
     ]
    },
    {
     "cell_type": "code",
     "collapsed": false,
     "input": [
      "names = [\"Isac\",\n",
      "         \"Albert\",\n",
      "         \"Thomas\",\n",
      "         \"Ivory\",\n",
      "         ]"
     ],
     "language": "python",
     "metadata": {},
     "outputs": [],
     "prompt_number": 1
    },
    {
     "cell_type": "code",
     "collapsed": false,
     "input": [
      "import re\n",
      "\n",
      "for name in names:\n",
      "    if re.match(\"I\\w*\", name):\n",
      "        print name"
     ],
     "language": "python",
     "metadata": {},
     "outputs": [
      {
       "output_type": "stream",
       "stream": "stdout",
       "text": [
        "Isac\n",
        "Ivory\n"
       ]
      }
     ],
     "prompt_number": 3
    },
    {
     "cell_type": "markdown",
     "metadata": {},
     "source": [
      "### Sample 2\n",
      "\n",
      "Find phone number in the following text:"
     ]
    },
    {
     "cell_type": "code",
     "collapsed": false,
     "input": [
      "sms = \"Richard told me his phone number. Is 214-0942, but I'm not sure if should call\""
     ],
     "language": "python",
     "metadata": {},
     "outputs": [],
     "prompt_number": 29
    },
    {
     "cell_type": "code",
     "collapsed": false,
     "input": [
      "match = re.search(\"\\d{3}-\\d{4}\", sms)\n",
      "print match.group(0)"
     ],
     "language": "python",
     "metadata": {},
     "outputs": [
      {
       "output_type": "stream",
       "stream": "stdout",
       "text": [
        "214-0942\n"
       ]
      }
     ],
     "prompt_number": 30
    },
    {
     "cell_type": "markdown",
     "metadata": {},
     "source": [
      "Format the following list of phone numbers"
     ]
    },
    {
     "cell_type": "code",
     "collapsed": false,
     "input": [
      "phones = [\"48 2203-0320\",\n",
      "          \"21 99202-3021\",\n",
      "          \"11 789303020\",\n",
      "          \"4833001192\",\n",
      "          \"21992290011\",\n",
      "          ]          "
     ],
     "language": "python",
     "metadata": {},
     "outputs": [],
     "prompt_number": 23
    },
    {
     "cell_type": "code",
     "collapsed": false,
     "input": [
      "for phone in phones:\n",
      "    match = re.match(\"(\\d{2})\\s?(\\d{4,5})-?(\\d{4})\", phone)\n",
      "    print \"Area Code\", match.group(1), \"Phone\", match.group(2),  match.group(3)"
     ],
     "language": "python",
     "metadata": {},
     "outputs": [
      {
       "output_type": "stream",
       "stream": "stdout",
       "text": [
        "Area Code 48 Phone 2203 0320\n",
        "Area Code 21 Phone 99202 3021\n",
        "Area Code 11 Phone 78930 3020\n",
        "Area Code 48 Phone 3300 1192\n",
        "Area Code 21 Phone 99229 0011\n"
       ]
      }
     ],
     "prompt_number": 53
    },
    {
     "cell_type": "code",
     "collapsed": false,
     "input": [
      "for phone in phones:\n",
      "    match = re.match(\"(\\d{2})\\s?(\\d{4,5})-?(\\d{4})\", phone)\n",
      "    print \"({0}){1:>5}-{2}\".format(*match.groups())    "
     ],
     "language": "python",
     "metadata": {},
     "outputs": [
      {
       "output_type": "stream",
       "stream": "stdout",
       "text": [
        "(48) 2203-0320\n",
        "(21)99202-3021\n",
        "(11)78930-3020\n",
        "(48) 3300-1192\n",
        "(21)99229-0011\n"
       ]
      }
     ],
     "prompt_number": 56
    },
    {
     "cell_type": "markdown",
     "metadata": {},
     "source": [
      "See more about string formatting at http://docs.python.org/2/library/string.html#format-examples"
     ]
    },
    {
     "cell_type": "markdown",
     "metadata": {},
     "source": [
      "### Sample 3\n",
      "\n",
      "Find the CPU time in the following output using regular expression:"
     ]
    },
    {
     "cell_type": "code",
     "collapsed": false,
     "input": [
      "output = \"\"\"\n",
      "*---------------------------------------------------------------------------*\n",
      "|                                                                           |\n",
      "|                           RUN COMPLETED                                   |\n",
      "|                                                                           |\n",
      "|---------------------------------------------------------------------------|\n",
      "|                                                                           |\n",
      "|            Release 28.2.2014         U034316         WINDOWS x64          |\n",
      "|                                                                           |\n",
      "|---------------------------------------------------------------------------|\n",
      "|                                                                           |\n",
      "| Database Requested(-db)   512 MB    Scratch Memory Requested       512 MB |\n",
      "| Maximum Database Used       1 MB    Maximum Scratch Memory Used     20 MB |\n",
      "|                                                                           |\n",
      "|---------------------------------------------------------------------------|\n",
      "|                                                                           |\n",
      "|        CP Time      (sec) =          0.936       Time  =  17:53:36        |\n",
      "|        Elapsed Time (sec) =          2.000       Date  =  01/07/2014      |\n",
      "|                                                                           |\n",
      "*---------------------------------------------------------------------------*\n",
      "\"\"\""
     ],
     "language": "python",
     "metadata": {},
     "outputs": [],
     "prompt_number": 2
    },
    {
     "cell_type": "code",
     "collapsed": false,
     "input": [
      "match = re.search(\"CP Time.*?([\\d\\.]+)\", output, re.M)\n",
      "print match.group(1)"
     ],
     "language": "python",
     "metadata": {},
     "outputs": [
      {
       "output_type": "stream",
       "stream": "stdout",
       "text": [
        "0.936\n"
       ]
      }
     ],
     "prompt_number": 3
    },
    {
     "cell_type": "markdown",
     "metadata": {},
     "source": [
      "To better explain the above pattern, let's go by parts:\n",
      "\n",
      "    \"CP Time\"   # search for the string \"CP Time\"\n",
      "    \".*?\"       # consume 0 or more characters (spaces included) after \"CP Time\"\n",
      "    \"(\"         # create a group \n",
      "    \"[\\d\\.]*\"   # consume digits or dots (0 or more) and record then in the group\n",
      "    \")\"         # end the group"
     ]
    },
    {
     "cell_type": "markdown",
     "metadata": {},
     "source": [
      "**Tip**\n",
      "\n",
      "The difference between patterns `.*` and `.*?` is that the latter consume the shortest possible string. See sample below."
     ]
    },
    {
     "cell_type": "code",
     "collapsed": false,
     "input": [
      "text = \"Record:  0.322   16   109\"\n",
      "\n",
      "# Here \".*\" consumes the longest possible string after \"Record\".\n",
      "# The only restriction been that it must end with a digit\n",
      "print re.search(\"Record.*([\\d\\.]+)\", text).group(1)\n",
      "# Here \".*?\" consumes any char till the first digit appears\n",
      "print re.search(\"Record.*?([\\d\\.]+)\", text).group(1)"
     ],
     "language": "python",
     "metadata": {},
     "outputs": [
      {
       "output_type": "stream",
       "stream": "stdout",
       "text": [
        "9\n",
        "0.322\n"
       ]
      }
     ],
     "prompt_number": 33
    },
    {
     "cell_type": "code",
     "collapsed": false,
     "input": [],
     "language": "python",
     "metadata": {},
     "outputs": []
    }
   ],
   "metadata": {}
  }
 ]
}