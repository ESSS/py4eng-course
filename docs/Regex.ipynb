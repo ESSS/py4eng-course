{
 "metadata": {
  "name": "Regex"
 },
 "nbformat": 3,
 "nbformat_minor": 0,
 "worksheets": [
  {
   "cells": [
    {
     "cell_type": "markdown",
     "metadata": {},
     "source": [
      "## Introduction\n",
      "\n",
      "*\"A regular expression is a special sequence of characters that helps you match or find other strings or sets of strings, using a specialized syntax held in a pattern.\"* - tutorialspoint.com\n",
      "\n",
      "*\"The most usefull single technology that a programmer could learn\"* - Ghisi, I."
     ]
    },
    {
     "cell_type": "markdown",
     "metadata": {},
     "source": [
      "## Exercise 1\n",
      "\n",
      "Find the names starting with letter \"I\" in the following list:"
     ]
    },
    {
     "cell_type": "code",
     "collapsed": false,
     "input": [
      "names = [\"Isac\",\n",
      "         \"Albert\",\n",
      "         \"Thomas\",\n",
      "         \"Ivory\",\n",
      "         ]"
     ],
     "language": "python",
     "metadata": {},
     "outputs": [],
     "prompt_number": 2
    },
    {
     "cell_type": "code",
     "collapsed": false,
     "input": [
      "import re\n",
      "\n",
      "for name in names:\n",
      "    if re.match(\"I\\S*\", name):\n",
      "        print name"
     ],
     "language": "python",
     "metadata": {},
     "outputs": [
      {
       "output_type": "stream",
       "stream": "stdout",
       "text": [
        "Isac\n",
        "Ivory\n"
       ]
      }
     ],
     "prompt_number": 7
    },
    {
     "cell_type": "markdown",
     "metadata": {},
     "source": [
      "## Exercise 2\n",
      "\n",
      "Find phone number in the following text:"
     ]
    },
    {
     "cell_type": "code",
     "collapsed": false,
     "input": [
      "text = \"Richard told me his phone number. Is 214-0942, but I'm afraid to call\""
     ],
     "language": "python",
     "metadata": {},
     "outputs": [],
     "prompt_number": 13
    },
    {
     "cell_type": "code",
     "collapsed": false,
     "input": [
      "match = re.search(\"\\d{3}-\\d{4}\", text)\n",
      "print match.group(0)"
     ],
     "language": "python",
     "metadata": {},
     "outputs": [
      {
       "output_type": "stream",
       "stream": "stdout",
       "text": [
        "214-0942\n"
       ]
      }
     ],
     "prompt_number": 17
    },
    {
     "cell_type": "markdown",
     "metadata": {},
     "source": [
      "Format the following list of phone numbers"
     ]
    },
    {
     "cell_type": "code",
     "collapsed": false,
     "input": [
      "phones = [\"48 2203-0320\",\n",
      "          \"21 99202-3021\",\n",
      "          \"11 789303020\",\n",
      "          \"4833001192\",\n",
      "          \"21992290011\",\n",
      "          ]          "
     ],
     "language": "python",
     "metadata": {},
     "outputs": [],
     "prompt_number": 23
    },
    {
     "cell_type": "code",
     "collapsed": false,
     "input": [
      "for phone in phones:\n",
      "    match = re.match(\"(\\d{2})\\s?(\\d{4,5})-?(\\d{4})\", phone)\n",
      "    print \"Area Code\", match.group(1), \"Phone\", match.group(2),  match.group(3)"
     ],
     "language": "python",
     "metadata": {},
     "outputs": [
      {
       "output_type": "stream",
       "stream": "stdout",
       "text": [
        "Area Code 48 Phone 2203 0320\n",
        "Area Code 21 Phone 99202 3021\n",
        "Area Code 11 Phone 78930 3020\n",
        "Area Code 48 Phone 3300 1192\n",
        "Area Code 21 Phone 99229 0011\n"
       ]
      }
     ],
     "prompt_number": 53
    },
    {
     "cell_type": "code",
     "collapsed": false,
     "input": [
      "for phone in phones:\n",
      "    match = re.match(\"(\\d{2})\\s?(\\d{4,5})-?(\\d{4})\", phone)\n",
      "    print \"({0}){1:>5}-{2}\".format(*match.groups())    "
     ],
     "language": "python",
     "metadata": {},
     "outputs": [
      {
       "output_type": "stream",
       "stream": "stdout",
       "text": [
        "(48) 2203-0320\n",
        "(21)99202-3021\n",
        "(11)78930-3020\n",
        "(48) 3300-1192\n",
        "(21)99229-0011\n"
       ]
      }
     ],
     "prompt_number": 56
    },
    {
     "cell_type": "markdown",
     "metadata": {},
     "source": [
      "See more about string formatting at http://docs.python.org/2/library/string.html#format-examples"
     ]
    },
    {
     "cell_type": "markdown",
     "metadata": {},
     "source": [
      "### Exercise 3\n",
      "\n",
      "Find the CPU time in the following output:"
     ]
    },
    {
     "cell_type": "code",
     "collapsed": false,
     "input": [
      "output = \"\"\"\n",
      " *---------------------------------------------------------------------------*\n",
      " |                                                                           |\n",
      " |                            ANSYS RUN COMPLETED                            |\n",
      " |                                                                           |\n",
      " |---------------------------------------------------------------------------|\n",
      " |                                                                           |\n",
      " |            Release 14.5.7         UP20130316         WINDOWS x64          |\n",
      " |                                                                           |\n",
      " |---------------------------------------------------------------------------|\n",
      " |                                                                           |\n",
      " | Database Requested(-db)   512 MB    Scratch Memory Requested       512 MB |\n",
      " | Maximum Database Used       1 MB    Maximum Scratch Memory Used     20 MB |\n",
      " |                                                                           |\n",
      " |---------------------------------------------------------------------------|\n",
      " |                                                                           |\n",
      " |        CP Time      (sec) =          0.936       Time  =  17:53:36        |\n",
      " |        Elapsed Time (sec) =          2.000       Date  =  01/07/2014      |\n",
      " |                                                                           |\n",
      " *---------------------------------------------------------------------------*\n",
      "\"\"\""
     ],
     "language": "python",
     "metadata": {},
     "outputs": [],
     "prompt_number": 20
    }
   ],
   "metadata": {}
  }
 ]
}