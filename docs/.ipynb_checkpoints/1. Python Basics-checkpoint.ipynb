{
 "metadata": {
  "name": ""
 },
 "nbformat": 3,
 "nbformat_minor": 0,
 "worksheets": [
  {
   "cells": [
    {
     "cell_type": "markdown",
     "metadata": {},
     "source": [
      "# Python Basics\n",
      "\n",
      "> *Python\u2019s elegant syntax and dynamic typing, together with its interpreted nature, make it an ideal language for scripting and rapid application development in many areas on most platforms* -- Python v2.7.2 Manual\n",
      "\n",
      "### Where Python Excels:\n",
      "\n",
      "+ Easy, concise, elegant and powerfull\n",
      "+ Batteries inlcuded\n",
      "+ The larger open source library collection for scientific computation [(Python(x,y) Package Index)](https://code.google.com/p/pythonxy/wiki/StandardPlugins)\n",
      "\n",
      "### Where it falls short:\n",
      "\n",
      "+ Low performance (there's a lot of workarrounds for that issue, some of we'll see here)\n",
      "+ No concurrency \"in its veins\" (as in [Scala](http://www.scala-lang.org/) or [Go](http://golang.org/))\n",
      "+ No compile-time error check\n",
      "+ Deployment could be painfull (Windows)\n",
      "\n",
      "## Platforms\n",
      "\n",
      "+ Linux/OS X: Python and Scipy stack already included on most distros\n",
      "+ Windows: the official Python distribution alone (from [python.org](http://www.python.org)) do not have scientific libraries. We'll be using [WinPython](http://http://winpython.sourceforge.net/) - a very complete Python scientific distribution.\n",
      "\n",
      "## IDEs\n",
      "\n",
      "+ Vi, Notepad++ (__#not__)\n",
      "+ [PyCharm](http://www.jetbrains.com/pycharm/), [Eclipse w/ PyDev](http://www.eclipse.org/) (for a more app driven development)\n",
      "+ Spyder (MATLAB\u00ae like IDE)\n"
     ]
    },
    {
     "cell_type": "markdown",
     "metadata": {},
     "source": [
      "## Hello World"
     ]
    },
    {
     "cell_type": "code",
     "collapsed": false,
     "input": [
      "print \"Hello World\""
     ],
     "language": "python",
     "metadata": {},
     "outputs": [
      {
       "output_type": "stream",
       "stream": "stdout",
       "text": [
        "Hello World\n"
       ]
      }
     ],
     "prompt_number": 4
    },
    {
     "cell_type": "markdown",
     "metadata": {},
     "source": [
      "### Basic Data Structures\n",
      "\n",
      "+ Lists\n",
      "+ Dicts\n",
      "+ Sets\n",
      "+ Tuple and Namedtuples\n",
      "+ Arrays (later)"
     ]
    },
    {
     "cell_type": "code",
     "collapsed": false,
     "input": [
      "# Lists\n",
      "fruits = [\"apple\", \"orange\", \"mango\"]\n",
      "print \"Fruit 0: \", fruits[0]\n",
      "\n",
      "isnt_vector = [\"apple\", 1, 15.3, 0xA]\n",
      "\n",
      "numbers = [1, 2, 3]\n",
      "print \"numbers: \", numbers\n",
      "numbers = range(1, 4)\n",
      "print \"numbers using range(): \", numbers"
     ],
     "language": "python",
     "metadata": {},
     "outputs": [
      {
       "output_type": "stream",
       "stream": "stdout",
       "text": [
        "Fruit 0:  apple\n",
        "numbers:  [1, 2, 3]\n",
        "numbers using range():  [1, 2, 3]\n"
       ]
      }
     ],
     "prompt_number": 4
    },
    {
     "cell_type": "code",
     "collapsed": false,
     "input": [
      "    #Map\n",
      "    fruit_calories = {}\n",
      "    fruit_calories[\"apple\"] = 53\n",
      "    fruit_calories[\"banana\"] = 95\n",
      "    fruit_calories[\"orange\"] = 63\n",
      "\n",
      "print \"Orange calories:\", fruit_calories[\"orange\"]\n",
      "print \"Orange has {0} calories\".format(fruit_calories[\"orange\"])"
     ],
     "language": "python",
     "metadata": {},
     "outputs": [
      {
       "output_type": "stream",
       "stream": "stdout",
       "text": [
        "Orange calories: 63\n",
        "Orange has 63 calories\n"
       ]
      }
     ],
     "prompt_number": 5
    },
    {
     "cell_type": "code",
     "collapsed": false,
     "input": [
      "#Sets\n",
      "marvel = set([\"ironman\", \"hulk\", \"america\"])\n",
      "st_fighter = set([\"ken\", \"ryu\", \"blanka\"])\n",
      "marvel_vs_st_fighter = marvel.union(st_fighter)\n",
      "print marvel_vs_st_fighter\n",
      "marvel_vs_st_fighter.add(\"hulk\")\n",
      "print marvel_vs_st_fighter, \"Hulk is Hulk!\" "
     ],
     "language": "python",
     "metadata": {},
     "outputs": [
      {
       "output_type": "stream",
       "stream": "stdout",
       "text": [
        "set(['ken', 'ryu', 'blanka', 'ironman', 'america', 'hulk'])\n",
        "set(['ken', 'ryu', 'blanka', 'ironman', 'america', 'hulk']) Hulk is Hulk!\n"
       ]
      }
     ],
     "prompt_number": 6
    },
    {
     "cell_type": "markdown",
     "metadata": {},
     "source": [
      "### Basic Controw Flow\n",
      "\n",
      "## If...else"
     ]
    },
    {
     "cell_type": "code",
     "collapsed": false,
     "input": [
      "hero = marvel_vs_st_fighter.pop() #remove and return an arbitrary element from the set\n",
      "\n",
      "if hero == \"ken\":\n",
      "    buddy = \"ryu\"\n",
      "elif hero == \"hulk\":\n",
      "    buddy = \"blanka\"\n",
      "else:\n",
      "    buddy = None\n",
      "    \n",
      "print hero, \"is buddy of\", buddy"
     ],
     "language": "python",
     "metadata": {},
     "outputs": [
      {
       "output_type": "stream",
       "stream": "stdout",
       "text": [
        "ken is buddy of ryu\n"
       ]
      }
     ],
     "prompt_number": 7
    },
    {
     "cell_type": "markdown",
     "metadata": {},
     "source": [
      "### for...in"
     ]
    },
    {
     "cell_type": "code",
     "collapsed": false,
     "input": [
      "# Iterate over fruits list\n",
      "for fruit in fruits:\n",
      "    print fruit"
     ],
     "language": "python",
     "metadata": {},
     "outputs": [
      {
       "output_type": "stream",
       "stream": "stdout",
       "text": [
        "apple\n",
        "orange\n",
        "mango\n"
       ]
      }
     ],
     "prompt_number": 8
    },
    {
     "cell_type": "markdown",
     "metadata": {},
     "source": [
      "Compare with a for loop in C++. Isn't Python more concise and elegant?\n",
      "\n",
      "    for (int i = 0; i < fruits.size(); i++) {\n",
      "        std::cout << fruits[i];\n",
      "    }"
     ]
    },
    {
     "cell_type": "code",
     "collapsed": false,
     "input": [
      "# For from 0 to 3\n",
      "for i in range(3):\n",
      "    print i"
     ],
     "language": "python",
     "metadata": {},
     "outputs": [
      {
       "output_type": "stream",
       "stream": "stdout",
       "text": [
        "0\n",
        "1\n",
        "2\n"
       ]
      }
     ],
     "prompt_number": 9
    },
    {
     "cell_type": "code",
     "collapsed": false,
     "input": [
      "# Iterate over fruits list and get the index of each fruit\n",
      "for i, fruit in enumerate(fruits):\n",
      "    print i+1, fruit"
     ],
     "language": "python",
     "metadata": {},
     "outputs": [
      {
       "output_type": "stream",
       "stream": "stdout",
       "text": [
        "1 apple\n",
        "2 orange\n",
        "3 mango\n"
       ]
      }
     ],
     "prompt_number": 10
    },
    {
     "cell_type": "code",
     "collapsed": false,
     "input": [
      "# Go from 0 to 10, print only even numbers and break the loop when x >== 8\n",
      "for x in range(10):\n",
      "    if x % 2 != 0:\n",
      "        continue\n",
      "    if x >= 8:\n",
      "        break\n",
      "    print x, math.pow(2,x), math.sin(x), math.cos(x)"
     ],
     "language": "python",
     "metadata": {},
     "outputs": [
      {
       "output_type": "stream",
       "stream": "stdout",
       "text": [
        "0 1.0 0.0 1.0\n",
        "2 4.0 0.909297426826 -0.416146836547\n",
        "4 16.0 -0.756802495308 -0.653643620864\n",
        "6 64.0 -0.279415498199 0.96017028665\n"
       ]
      }
     ],
     "prompt_number": 12
    },
    {
     "cell_type": "markdown",
     "metadata": {},
     "source": [
      "#### while"
     ]
    },
    {
     "cell_type": "code",
     "collapsed": false,
     "input": [
      "x = 0\n",
      "while x < 10:\n",
      "    x += 1\n",
      "print x"
     ],
     "language": "python",
     "metadata": {},
     "outputs": [
      {
       "output_type": "stream",
       "stream": "stdout",
       "text": [
        "10\n"
       ]
      }
     ],
     "prompt_number": 25
    },
    {
     "cell_type": "markdown",
     "metadata": {},
     "source": [
      "### functions"
     ]
    },
    {
     "cell_type": "code",
     "collapsed": false,
     "input": [
      "def sum(a, b):\n",
      "    return a + b\n",
      "\n",
      "sum(3, 4)"
     ],
     "language": "python",
     "metadata": {},
     "outputs": [
      {
       "metadata": {},
       "output_type": "pyout",
       "prompt_number": 27,
       "text": [
        "7"
       ]
      }
     ],
     "prompt_number": 27
    },
    {
     "cell_type": "code",
     "collapsed": false,
     "input": [
      "# Default arguments\n",
      "\n",
      "def power(x, y=2):\n",
      "    return x ** y\n",
      "\n",
      "print power(3), \"- using the default arg for 'y'\"\n",
      "print power(3, 3), \"- set another value for 'y'\""
     ],
     "language": "python",
     "metadata": {},
     "outputs": [
      {
       "output_type": "stream",
       "stream": "stdout",
       "text": [
        "9 - using the default arg for 'y'\n",
        "27 - set another value for 'y'\n"
       ]
      }
     ],
     "prompt_number": 15
    },
    {
     "cell_type": "code",
     "collapsed": false,
     "input": [
      "#Undefined number of arguments\n",
      "\n",
      "def print_deco(*args):\n",
      "    for arg in args:\n",
      "        print \"\\o/\", arg, \"/o\\\\\"\n",
      "\n",
      "print_deco(\"arg1\", \"other\", -312, 2j)"
     ],
     "language": "python",
     "metadata": {},
     "outputs": [
      {
       "output_type": "stream",
       "stream": "stdout",
       "text": [
        "\\o/ arg1 /o\\\n",
        "\\o/ other /o\\\n",
        "\\o/ -312 /o\\\n",
        "\\o/ 2j /o\\\n"
       ]
      }
     ],
     "prompt_number": 14
    },
    {
     "cell_type": "markdown",
     "metadata": {},
     "source": [
      "<center>__... End of Chapter ...__</center>"
     ]
    }
   ],
   "metadata": {}
  }
 ]
}