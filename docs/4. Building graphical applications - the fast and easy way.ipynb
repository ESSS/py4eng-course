{
 "metadata": {
  "name": "4. Building graphical applications - the fast and easy way"
 },
 "nbformat": 3,
 "nbformat_minor": 0,
 "worksheets": [
  {
   "cells": [
    {
     "cell_type": "markdown",
     "metadata": {},
     "source": [
      "Building Graphical Applications - the fast and easy way\n",
      "=======================================================\n",
      "\n",
      "## Qt and the guidata package\n",
      "\n",
      "In this step we'll create a simple graphical application using the [guidata](https://code.google.com/p/guidata/) package. **guidata** defines a high level API to create graphical windows in (Qt)[http://qt.digia.com/]. **Qt** is a complete cross-platform library to build applications and graphical interfaces. To learn **Qt** we would need more time to get some depth knowledge in UI application concepts. So, let's stick with the powerfull and simple guidata for now."
     ]
    },
    {
     "cell_type": "markdown",
     "metadata": {},
     "source": [
      "## A very simple GUI\n",
      "\n",
      "To create a window using guidata, first we define a class inheriting from *DataSet* and define the parameters we want to ask the user."
     ]
    },
    {
     "cell_type": "code",
     "collapsed": false,
     "input": [
      "from guidata.dataset.datatypes import DataSet\n",
      "from guidata.dataset.dataitems import FloatItem\n",
      "\n",
      "class OptimizationInput(DataSet):\n",
      "    \n",
      "    stress_ratio = FloatItem('Stress Ratio', default=3.0)\n",
      "    copper_initial = FloatItem('Copper Initial Cross-section',\n",
      "                               min=0.1, max=1.0, default=0.5)\n",
      "    steel_initial = FloatItem('Steel Initial Cross-section',\n",
      "                               min=0.1, max=1.0, default=0.5)\n",
      "\n"
     ],
     "language": "python",
     "metadata": {},
     "outputs": [],
     "prompt_number": 12
    },
    {
     "cell_type": "markdown",
     "metadata": {},
     "source": [
      "Now we create our window and call `edit()` method to show it up."
     ]
    },
    {
     "cell_type": "code",
     "collapsed": false,
     "input": [
      "import guidata\n",
      "\n",
      "app = guidata.qapplication()\n",
      "optinput = OptimizationInput()\n",
      "is_ok = optinput.edit()"
     ],
     "language": "python",
     "metadata": {},
     "outputs": [],
     "prompt_number": 17
    },
    {
     "cell_type": "code",
     "collapsed": false,
     "input": [
      "# Ignore this\n",
      "from IPython.display import Image; Image(filename=r'X:\\py4eng-course\\docs\\optimization_input.png')"
     ],
     "language": "python",
     "metadata": {},
     "outputs": [
      {
       "output_type": "pyout",
       "png": "[encoded data removed]",
       "prompt_number": 21,
       "text": [
        "<IPython.core.display.Image at 0x5f425d0>"
       ]
      }
     ],
     "prompt_number": 21
    },
    {
     "cell_type": "markdown",
     "metadata": {},
     "source": [
      "If the *OK* button is pressed, `is_ok` variable will get a True value. Then you could access the given values through the optinput object:"
     ]
    },
    {
     "cell_type": "code",
     "collapsed": false,
     "input": [
      "if is_ok:\n",
      "    print optinput.stress_ratio\n",
      "    print optinput.copper_initial\n",
      "    print optinput.steel_initial"
     ],
     "language": "python",
     "metadata": {},
     "outputs": [
      {
       "output_type": "stream",
       "stream": "stdout",
       "text": [
        "2.5\n",
        "0.2\n",
        "0.4\n"
       ]
      }
     ],
     "prompt_number": 22
    },
    {
     "cell_type": "markdown",
     "metadata": {},
     "source": [
      "## A richer GUI"
     ]
    },
    {
     "cell_type": "code",
     "collapsed": false,
     "input": [],
     "language": "python",
     "metadata": {},
     "outputs": []
    }
   ],
   "metadata": {}
  }
 ]
}