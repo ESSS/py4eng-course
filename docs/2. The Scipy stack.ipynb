{
 "metadata": {
  "name": ""
 },
 "nbformat": 3,
 "nbformat_minor": 0,
 "worksheets": [
  {
   "cells": [
    {
     "cell_type": "markdown",
     "metadata": {},
     "source": [
      "# The Scipy stack\n",
      "\n",
      "+ Numpy - efficient array a matrix library\n",
      "+ Scipy - numerical routines (optimization, integration, linear algebra)\n",
      "+ matplotlib - rich plot library"
     ]
    },
    {
     "cell_type": "markdown",
     "metadata": {},
     "source": [
      "## Numpy\n",
      "\n",
      "Feature rich, memory efficient and optimized N-dimensional array package"
     ]
    },
    {
     "cell_type": "code",
     "collapsed": false,
     "input": [
      "import numpy as np\n",
      "\n",
      "x = np.zeros(10, \"d\")\n",
      "for i in range(10):\n",
      "    x[i] = i * 10\n",
      "\n",
      "print x"
     ],
     "language": "python",
     "metadata": {},
     "outputs": [
      {
       "output_type": "stream",
       "stream": "stdout",
       "text": [
        " [  0.  10.  20.  30.  40.  50.  60.  70.  80.  90.]\n"
       ]
      }
     ],
     "prompt_number": 2
    },
    {
     "cell_type": "markdown",
     "metadata": {},
     "source": [
      "### Array creation"
     ]
    },
    {
     "cell_type": "code",
     "collapsed": false,
     "input": [
      "print \"arange:\", np.arange(0, 100, 10)\n",
      "print \"array: \", np.array([1, 2, 3, 4])\n",
      "print \"empty: \", np.empty(3, \"d\")\n",
      "print \"linspace: \", np.linspace(1, 5, 4)"
     ],
     "language": "python",
     "metadata": {},
     "outputs": [
      {
       "output_type": "stream",
       "stream": "stdout",
       "text": [
        "arange: [ 0 10 20 30 40 50 60 70 80 90]\n",
        "array:  [1 2 3 4]\n",
        "empty:  [  2.12199588e-314   8.48798317e-314   1.26213433e-291]\n",
        "linspace:  [ 1.          2.33333333  3.66666667  5.        ]\n"
       ]
      }
     ],
     "prompt_number": 3
    },
    {
     "cell_type": "markdown",
     "metadata": {},
     "source": [
      "http://docs.scipy.org/doc/numpy-1.7.0/reference/routines.array-creation.html"
     ]
    },
    {
     "cell_type": "markdown",
     "metadata": {},
     "source": [
      "### Array Indexing"
     ]
    },
    {
     "cell_type": "code",
     "collapsed": false,
     "input": [
      "print \"standard\", x[5]\n",
      "print \"slice:\", x[3:5]\n",
      "print \"slice:\", x[5:]\n",
      "print \"slice:\", x[:5]\n",
      "print \"neg indexing:\", x[-1]\n",
      "print \"neg sliceing:\", x[-2::-1]"
     ],
     "language": "python",
     "metadata": {},
     "outputs": [
      {
       "output_type": "stream",
       "stream": "stdout",
       "text": [
        "standard 50.0\n",
        "slice: [ 30.  40.]\n",
        "slice: [ 50.  60.  70.  80.  90.]\n",
        "slice: [  0.  10.  20.  30.  40.]\n",
        "neg indexing: 90.0\n",
        "neg sliceing: [ 80.  70.  60.  50.  40.  30.  20.  10.   0.]\n"
       ]
      }
     ],
     "prompt_number": 4
    },
    {
     "cell_type": "markdown",
     "metadata": {},
     "source": [
      "http://docs.scipy.org/doc/numpy-1.7.0/reference/arrays.indexing.html?highlight=slicing"
     ]
    },
    {
     "cell_type": "markdown",
     "metadata": {},
     "source": [
      "### Array operations"
     ]
    },
    {
     "cell_type": "code",
     "collapsed": false,
     "input": [
      "print \"vector-scalar:\", x * 3\n",
      "print \"vector-scalar:\", x[:4] ** 3\n",
      "print \"vector-vector:\", x + np.arange(10)\n",
      "print \"sum:          \", np.sum(x)\n",
      "\n",
      "print \"boolean:      \", x > 30\n",
      " (x > 30) & (x < 80)\n",
      "print \"compress:     \", x.compress((x > 30) & (x < 80))"
     ],
     "language": "python",
     "metadata": {},
     "outputs": [
      {
       "output_type": "stream",
       "stream": "stdout",
       "text": [
        "vector-scalar: [   0.   30.   60.   90.  120.  150.  180.  210.  240.  270.]\n",
        "vector-scalar: [     0.   1000.   8000.  27000.]\n",
        "vector-vector: [  0.  11.  22.  33.  44.  55.  66.  77.  88.  99.]\n",
        "sum:           450.0\n",
        "boolean:       [False False False False  True  True  True  True  True  True]\n",
        "x >30 & x< 80 [False False False False  True  True  True  True False False]\n",
        "compress:      [ 40.  50.  60.  70.]\n"
       ]
      }
     ],
     "prompt_number": 5
    },
    {
     "cell_type": "markdown",
     "metadata": {},
     "source": [
      "### 2D Arrays"
     ]
    },
    {
     "cell_type": "code",
     "collapsed": false,
     "input": [
      "M = np.array([[1, 3, 5], [2, 4, 6]])\n",
      "print \"2D Array\"\n",
      "print M\n",
      "print\n",
      "print \"Indexing\"\n",
      "print M[0,1]\n",
      "print M[1,:]\n",
      "Mt = M.transpose()\n",
      "print\n",
      "print \"Transposed\"\n",
      "print Mt\n",
      "print\n",
      "# print M * Mt # ValueError: Array multiplication\n",
      "print \"dot product\"\n",
      "print np.dot(M, Mt)\n",
      "print\n",
      "print \"flatten\"\n",
      "print M.flatten()"
     ],
     "language": "python",
     "metadata": {},
     "outputs": [
      {
       "output_type": "stream",
       "stream": "stdout",
       "text": [
        "2D Array\n",
        "[[1 3 5]\n",
        " [2 4 6]]\n",
        "\n",
        "Indexing\n",
        "3\n",
        "[2 4 6]\n",
        "\n",
        "Transposed\n",
        "[[1 2]\n",
        " [3 4]\n",
        " [5 6]]\n",
        "\n",
        "dot product\n",
        "[[35 44]\n",
        " [44 56]]\n",
        "\n",
        "flatten\n",
        "[1 3 5 2 4 6]\n"
       ]
      }
     ],
     "prompt_number": 7
    },
    {
     "cell_type": "markdown",
     "metadata": {},
     "source": [
      "http://wiki.scipy.org/NumPy_for_Matlab_Users"
     ]
    },
    {
     "cell_type": "markdown",
     "metadata": {},
     "source": [
      "## Scipy and Matplotlib"
     ]
    },
    {
     "cell_type": "code",
     "collapsed": false,
     "input": [
      "plt.plot(x)"
     ],
     "language": "python",
     "metadata": {},
     "outputs": [
      {
       "metadata": {},
       "output_type": "pyout",
       "prompt_number": 8,
       "text": [
        "[<matplotlib.lines.Line2D at 0x6fc3bd0>]"
       ]
      },
      {
       "metadata": {},
       "output_type": "display_data",
       "png": "[encoded data removed]",
       "text": [
        "<matplotlib.figure.Figure at 0x6ee3e30>"
       ]
      }
     ],
     "prompt_number": 8
    },
    {
     "cell_type": "code",
     "collapsed": false,
     "input": [
      "x = np.linspace(0, np.pi, 30)\n",
      "\n",
      "plt.plot(x, np.sin(x), \"ro-\", label=\"sin\")\n",
      "plt.legend()\n",
      "plt.grid()\n",
      "plt.xlim(0, np.pi)"
     ],
     "language": "python",
     "metadata": {},
     "outputs": [
      {
       "metadata": {},
       "output_type": "pyout",
       "prompt_number": 9,
       "text": [
        "(0, 3.141592653589793)"
       ]
      },
      {
       "metadata": {},
       "output_type": "display_data",
       "png": "[encoded data removed]",
       "text": [
        "<matplotlib.figure.Figure at 0x6fb0290>"
       ]
      }
     ],
     "prompt_number": 9
    },
    {
     "cell_type": "markdown",
     "metadata": {},
     "source": [
      "+ Tutorial: http://matplotlib.org/users/pyplot_tutorial.html\n",
      "+ `plot()` reference: http://matplotlib.org/api/pyplot_api.html#matplotlib.pyplot.plot"
     ]
    },
    {
     "cell_type": "code",
     "collapsed": false,
     "input": [
      "from scipy.integrate import quad, trapz\n",
      "\n",
      "trapz(np.sin(x), x)"
     ],
     "language": "python",
     "metadata": {},
     "outputs": [
      {
       "output_type": "pyout",
       "prompt_number": 106,
       "text": [
        "1.9980436909705546"
       ]
      }
     ],
     "prompt_number": 106
    },
    {
     "cell_type": "code",
     "collapsed": false,
     "input": [
      "plt.fill(x, np.sin(x), ec='r', fc='g', alpha=0.3)\n",
      "plt.annotate(r\"$\\int^{\\pi}_0 \\sin(x)dx = 2$\", xy=(0.3, 0.5), xycoords='figure fraction', size=16)"
     ],
     "language": "python",
     "metadata": {},
     "outputs": [
      {
       "output_type": "pyout",
       "prompt_number": 107,
       "text": [
        "<matplotlib.text.Annotation at 0x9c4b930>"
       ]
      },
      {
       "output_type": "display_data",
       "png": "[encoded data removed]"
      }
     ],
     "prompt_number": 107
    },
    {
     "cell_type": "code",
     "collapsed": false,
     "input": [
      "quad(np.sin, 0, np.pi)"
     ],
     "language": "python",
     "metadata": {},
     "outputs": [
      {
       "output_type": "pyout",
       "prompt_number": 109,
       "text": [
        "(2.0, 2.220446049250313e-14)"
       ]
      }
     ],
     "prompt_number": 109
    },
    {
     "cell_type": "markdown",
     "metadata": {},
     "source": [
      "http://matplotlib.org/gallery.html"
     ]
    },
    {
     "cell_type": "markdown",
     "metadata": {},
     "source": [
      "## 1-D Linear Convection PDE using FDM\n",
      "\n",
      "<em>This exercise was based on the Notebook [12 steps to Navier-Stokes](http://lorenabarba.com/blog/cfd-python-12-steps-to-navier-stokes/) from Prof. [Lorena A. Barba](https://twitter.com/LorenaABarba)</em>\n",
      "\n",
      "$$\\frac{\\partial u}{\\partial t}+c\\frac{\\partial u}{\\partial x} = 0$$\n",
      "\n",
      "our discretization of the PDE should be relatively straightforward:\n",
      "\n",
      "$$\\frac{u_{i}^{n+1}-u_{i}^n}{\\Delta t} + c\\frac{u_{i}^n-u_{i-1}^n}{\\Delta x}=0$$\n",
      "\n",
      "Isolating our unknown, we get the following:\n",
      "\n",
      "$$u_i^{n+1} = u_i^n - c \\frac{\\Delta t}{\\Delta x}(u_i^n - u_{i-1}^n)$$\n",
      "\n",
      "Initial Conditions are:\n",
      "\n",
      "$$u(x) = \\begin{cases}\n",
      "\\begin{matrix}\n",
      "2\\ \\text{for} & 0.5 \\leq x \\leq 1 \\cr\n",
      "1\\ \\text{for} & \\text{everywhere else}\\end{matrix}\\end{cases}$$\n",
      "\n",
      "Let's try to solve this in Python"
     ]
    },
    {
     "cell_type": "code",
     "collapsed": false,
     "input": [
      "import numpy as np\n",
      "import matplotlib.pyplot as plt\n",
      "\n",
      "###variable declarations\n",
      "nx = 41\n",
      "nt = 25\n",
      "c = 1\n",
      "dx = 2.0/(nx-1)\n",
      "dt = .025\n",
      "\n",
      "x = np.linspace(0,2,nx)\n",
      "\n",
      "u = np.ones(nx) ##create a 1xn vector of 1's\n",
      "###Assign initial conditions\n",
      "u[.5/dx:1/dx+1] = 2 ##set hat function I.C. : u(.5<=x<=1 && .5<=y<=1 ) is 2\n",
      "\n",
      "plt.plot(x,u)"
     ],
     "language": "python",
     "metadata": {},
     "outputs": [
      {
       "metadata": {},
       "output_type": "pyout",
       "prompt_number": 23,
       "text": [
        "[<matplotlib.lines.Line2D at 0x886ed50>]"
       ]
      },
      {
       "metadata": {},
       "output_type": "display_data",
       "png": "[encoded data removed]",
       "text": [
        "<matplotlib.figure.Figure at 0x8080f30>"
       ]
      }
     ],
     "prompt_number": 23
    },
    {
     "cell_type": "code",
     "collapsed": false,
     "input": [
      "un = np.array(u)\n",
      "\n",
      "for t in range(nt):\n",
      "    un[:] = u[:]\n",
      "    for i in range(1, nx):\n",
      "        u[i] = un[i] - c * dt/dx * (un[i] - un[i-1])\n",
      "        \n",
      "plt.plot(x, u)\n",
      "plt.title(\"$t = %d$\" % nt, size=16)"
     ],
     "language": "python",
     "metadata": {},
     "outputs": [
      {
       "metadata": {},
       "output_type": "pyout",
       "prompt_number": 24,
       "text": [
        "<matplotlib.text.Text at 0x88920d0>"
       ]
      },
      {
       "metadata": {},
       "output_type": "display_data",
       "png": "[encoded data removed]",
       "text": [
        "<matplotlib.figure.Figure at 0x8659f70>"
       ]
      }
     ],
     "prompt_number": 24
    },
    {
     "cell_type": "markdown",
     "metadata": {},
     "source": [
      "## Exercise 1: 2-D Linear Convection PDE using Finite Difference method\n",
      "\n"
     ]
    },
    {
     "cell_type": "markdown",
     "metadata": {},
     "source": [
      "The PDE governing 2-D Linear Convection could be written as\n",
      "\n",
      "$$\\frac{\\partial u}{\\partial t}+c\\frac{\\partial u}{\\partial x} + c\\frac{\\partial u}{\\partial y} = 0$$\n",
      "\n",
      "and it's discretization with FDM\n",
      "\n",
      "$$\\frac{u_{i,j}^{n+1}-u_{i,j}^n}{\\Delta t} + c\\frac{u_{i, j}^n-u_{i-1,j}^n}{\\Delta x} + c\\frac{u_{i,j}^n-u_{i,j-1}^n}{\\Delta y}=0$$\n",
      "\n",
      "As before, we isolate the only unknown:\n",
      "\n",
      "$$u_{i,j}^{n+1} = u_{i,j}^n-c \\frac{\\Delta t}{\\Delta x}(u_{i,j}^n-u_{i-1,j}^n)-c \\frac{\\Delta t}{\\Delta y}(u_{i,j}^n-u_{i,j-1}^n)$$\n",
      "\n",
      "We will solve this equation with the following initial conditions:\n",
      "\n",
      "$$u(x) = \\begin{cases}\n",
      "\\begin{matrix}\n",
      "2\\ \\text{for} & 0.5 \\leq x \\leq 1 \\cr\n",
      "1\\ \\text{for} & \\text{everywhere else}\\end{matrix}\\end{cases}$$\n",
      "\n",
      "$$u(y) = \\begin{cases}\n",
      "\\begin{matrix}\n",
      "2\\ \\text{for} & 0.5 \\leq y \\leq 1 \\cr\n",
      "1\\ \\text{for} & \\text{everywhere else}\\end{matrix}\\end{cases}$$\n",
      "\n",
      "and boundary conditions:\n",
      "\n",
      "$$u = 1\\ \\text{for } \\begin{cases}\n",
      "\\begin{matrix}\n",
      "x =  0,\\ 2 \\cr\n",
      "y =  0,\\ 2 \\end{matrix}\\end{cases}$$\n",
      "\n",
      "Try to solve the exercise with $\\Delta t = 0.05$, $t = 100$. \n",
      "\n",
      "When ready, use the following function to plot the results"
     ]
    },
    {
     "cell_type": "code",
     "collapsed": false,
     "input": [
      "from mpl_toolkits.mplot3d import Axes3D    ##New Library required for projected 3d plots\n",
      "\n",
      "def plot_surface(x, y, u):\n",
      "    fig = plt.figure(figsize=(11,7), dpi=100)          ##the figsize parameter can be used to produce different sized images\n",
      "    ax = fig.gca(projection='3d')\n",
      "    X, Y = np.meshgrid(x,y)\n",
      "    surf = ax.plot_surface(X,Y,u)"
     ],
     "language": "python",
     "metadata": {},
     "outputs": [],
     "prompt_number": 1
    },
    {
     "cell_type": "markdown",
     "metadata": {},
     "source": [
      "<center>__... End of Chapter ...__</center>"
     ]
    }
   ],
   "metadata": {}
  }
 ]
}