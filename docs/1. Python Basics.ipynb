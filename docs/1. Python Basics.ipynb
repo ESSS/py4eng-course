{
 "metadata": {
  "name": ""
 },
 "nbformat": 3,
 "nbformat_minor": 0,
 "worksheets": [
  {
   "cells": [
    {
     "cell_type": "markdown",
     "metadata": {},
     "source": [
      "# Python Basics\n",
      "\n",
      "> *Python\u2019s elegant syntax and dynamic typing, together with its interpreted nature, make it an ideal language for scripting and rapid application development in many areas on most platforms* -- Python v2.7.2 Manual\n",
      "\n",
      "### Where Python Excels:\n",
      "\n",
      "+ Easy, concise, elegant and powerfull\n",
      "+ Batteries inlcuded\n",
      "+ The larger open source library collection for scientific computation (see [Python(x,y) Package Index](https://code.google.com/p/pythonxy/wiki/StandardPlugins))\n",
      "\n",
      "### Where it falls short:\n",
      "\n",
      "+ Low performance (there's a lot of workarrounds for that issue, some of we'll see here)\n",
      "+ No concurrency \"in its veins\" (as in [Scala](http://www.scala-lang.org/) or [Go](http://golang.org/))\n",
      "+ No compile-time error check\n",
      "+ Deployment could be painfull (Windows)\n",
      "\n",
      "## Platforms\n",
      "\n",
      "+ Linux/OS X: Python and Scipy stack already included on most distros\n",
      "+ Windows: the official Python distribution alone (from [python.org](http://www.python.org)) do not have scientific libraries. We'll be using [WinPython](http://http://winpython.sourceforge.net/) - a very complete Python scientific distribution.\n",
      "\n",
      "## IDEs\n",
      "\n",
      "+ Vi, Notepad++ (__#not__)\n",
      "+ [PyCharm](http://www.jetbrains.com/pycharm/), [Eclipse w/ PyDev](http://www.eclipse.org/) (for a more app driven development)\n",
      "+ Spyder (MATLAB\u00ae like IDE)\n",
      "\n",
      "This course is intended to be done using **Spyder** (bundled with [WinPython](http://http://winpython.sourceforge.net/))"
     ]
    },
    {
     "cell_type": "markdown",
     "metadata": {},
     "source": [
      "## Coding\n",
      "\n",
      "Starting with **hello world**, as usual:"
     ]
    },
    {
     "cell_type": "code",
     "collapsed": false,
     "input": [
      "print \"Hello World\""
     ],
     "language": "python",
     "metadata": {},
     "outputs": [
      {
       "output_type": "stream",
       "stream": "stdout",
       "text": [
        "Hello World\n"
       ]
      }
     ],
     "prompt_number": 4
    },
    {
     "cell_type": "markdown",
     "metadata": {},
     "source": [
      "Python comes with some basic structures. Let's start with the main ones:\n",
      "\n",
      "+ Lists - a collection of \"things\" that could be indexed\n",
      "+ Dicts - maps a \"key\" to a value\n",
      "+ Sets - collections with support for set operations (union, intersection)\n",
      "+ Tuples - like lists, but you can't change them after created\n",
      "+ Arrays (later)"
     ]
    },
    {
     "cell_type": "code",
     "collapsed": false,
     "input": [
      "# Lists\n",
      "fruits = [\"apple\", \"orange\", \"mango\"]\n",
      "print \"Fruit 0: \", fruits[0]\n",
      "\n",
      "# List items could have different types (although it's not a good practice to do it)\n",
      "different_types = [\"apple\", 1, 15.3, 0xA]\n",
      "\n",
      "# List of numbers could be created with range() function\n",
      "numbers = range(1, 4)\n",
      "print \"numbers using range(): \", numbers"
     ],
     "language": "python",
     "metadata": {},
     "outputs": [
      {
       "output_type": "stream",
       "stream": "stdout",
       "text": [
        "Fruit 0:  apple\n",
        "numbers using range():  [1, 2, 3]\n"
       ]
      }
     ],
     "prompt_number": 1
    },
    {
     "cell_type": "code",
     "collapsed": false,
     "input": [
      "# Dicts\n",
      "fruit_calories = {}\n",
      "fruit_calories[\"apple\"] = 53\n",
      "fruit_calories[\"banana\"] = 95\n",
      "fruit_calories[\"orange\"] = 63\n",
      "\n",
      "# Getting dict keys\n",
      "print \"Fruits:\", fruit_calories.keys()\n",
      "\n",
      "# Getting dict values\n",
      "print \"Calories:\", fruit_calories.values()\n",
      "\n",
      "# Query\n",
      "print \"Orange calories:\", fruit_calories[\"orange\"]\n",
      "\n",
      "# Formated response\n",
      "print \"Orange has {0} calories\".format(fruit_calories[\"orange\"])\n"
     ],
     "language": "python",
     "metadata": {},
     "outputs": [
      {
       "output_type": "stream",
       "stream": "stdout",
       "text": [
        "Fruits: ['orange', 'apple', 'banana']\n",
        "Calories: [63, 53, 95]\n",
        "Orange calories: 63\n",
        "Orange has 63 calories\n"
       ]
      }
     ],
     "prompt_number": 4
    },
    {
     "cell_type": "code",
     "collapsed": false,
     "input": [
      "# Sets\n",
      "marvel = set([\"ironman\", \"hulk\", \"thor\"])\n",
      "capcom = set([\"ken\", \"ryu\", \"blanka\"])\n",
      "marvel_vs_capcom = marvel.union(capcom)\n",
      "print \"Marvel x Street Fighter:\", marvel_vs_capcom\n",
      "\n",
      "marvel_vs_capcom.add(\"hulk\") # hulk is already added, so nothing happens\n",
      "print \"Marvel x Street Fighter:\", marvel_vs_capcom, \"Hulk is Hulk!\" "
     ],
     "language": "python",
     "metadata": {},
     "outputs": [
      {
       "output_type": "stream",
       "stream": "stdout",
       "text": [
        "Marvel x Street Fighter: set(['ken', 'blanka', 'ironman', 'ryu', 'hulk', 'thor'])\n",
        "Marvel x Street Fighter: set(['ken', 'blanka', 'ironman', 'ryu', 'hulk', 'thor']) Hulk is Hulk!\n"
       ]
      }
     ],
     "prompt_number": 12
    },
    {
     "cell_type": "code",
     "collapsed": false,
     "input": [
      "# Tuples\n",
      "certain = (\"death\", \"taxes\")\n",
      "\n",
      "print certain[1], \"are certain\""
     ],
     "language": "python",
     "metadata": {},
     "outputs": [
      {
       "output_type": "stream",
       "stream": "stdout",
       "text": [
        "taxes are certain\n"
       ]
      }
     ],
     "prompt_number": 27
    },
    {
     "cell_type": "code",
     "collapsed": false,
     "input": [
      "certain[1] = \"blue unicorn\" # Will raise an error as below"
     ],
     "language": "python",
     "metadata": {},
     "outputs": [
      {
       "ename": "TypeError",
       "evalue": "'tuple' object does not support item assignment",
       "output_type": "pyerr",
       "traceback": [
        "\u001b[1;31m---------------------------------------------------------------------------\u001b[0m\n\u001b[1;31mTypeError\u001b[0m                                 Traceback (most recent call last)",
        "\u001b[1;32m<ipython-input-26-f46dc40d4565>\u001b[0m in \u001b[0;36m<module>\u001b[1;34m()\u001b[0m\n\u001b[1;32m----> 1\u001b[1;33m \u001b[0mcertain\u001b[0m\u001b[1;33m[\u001b[0m\u001b[1;36m1\u001b[0m\u001b[1;33m]\u001b[0m \u001b[1;33m=\u001b[0m \u001b[1;34m\"blue unicorn\"\u001b[0m \u001b[1;31m# Will raise an error as below\u001b[0m\u001b[1;33m\u001b[0m\u001b[0m\n\u001b[0m",
        "\u001b[1;31mTypeError\u001b[0m: 'tuple' object does not support item assignment"
       ]
      }
     ],
     "prompt_number": 26
    },
    {
     "cell_type": "markdown",
     "metadata": {},
     "source": [
      "> **Fact**: in Python, structures that couldn't be changed after creation are called *immutable*"
     ]
    },
    {
     "cell_type": "markdown",
     "metadata": {},
     "source": [
      "### Basic control flow\n",
      "\n",
      "#### If...esle\n",
      "\n",
      "*Ifs* are very straightforward."
     ]
    },
    {
     "cell_type": "code",
     "collapsed": false,
     "input": [
      "fighter = capcom.pop() #remove and return an arbitrary element from the set\n",
      "\n",
      "if fighter == \"ken\":\n",
      "    buddy = \"ryu\"\n",
      "elif fighter == \"blanka\":\n",
      "    buddy = \"hulk\"\n",
      "else:\n",
      "    buddy = \"no one\"\n",
      "    \n",
      "print fighter, \"is buddy of\", buddy"
     ],
     "language": "python",
     "metadata": {},
     "outputs": [
      {
       "output_type": "stream",
       "stream": "stdout",
       "text": [
        "blanka is buddy of no one\n"
       ]
      }
     ],
     "prompt_number": 9
    },
    {
     "cell_type": "markdown",
     "metadata": {},
     "source": [
      " Python has no *case...switch* control flow, but we could mock it using *if...elif...elif...else*"
     ]
    },
    {
     "cell_type": "markdown",
     "metadata": {},
     "source": [
      "#### for...in\n",
      "\n",
      "Python always expected that you will use *for loop* to iterate over a collection (list, dicts, tuples, arrays)\n",
      "\n",
      "    for fruit in fruits:\n",
      "        print fruit\n",
      "\n",
      "Compare with a *for loop* in C++. Isn't Python more concise and elegant?\n",
      "\n",
      "    for (int i = 0; i < fruits.size(); i++) {\n",
      "        std::cout << fruits[i];\n",
      "    }"
     ]
    },
    {
     "cell_type": "code",
     "collapsed": false,
     "input": [
      "# Iterate over fruits list\n",
      "for fruit in fruits:\n",
      "    print fruit"
     ],
     "language": "python",
     "metadata": {},
     "outputs": [
      {
       "output_type": "stream",
       "stream": "stdout",
       "text": [
        "apple\n",
        "orange\n",
        "mango\n"
       ]
      }
     ],
     "prompt_number": 17
    },
    {
     "cell_type": "markdown",
     "metadata": {},
     "source": [
      "To make a \"classic\" *for loop*, incrementing an `int` variable, use the `range()` function"
     ]
    },
    {
     "cell_type": "code",
     "collapsed": false,
     "input": [
      "# For from 0 to 2\n",
      "for i in range(3):\n",
      "    print i"
     ],
     "language": "python",
     "metadata": {},
     "outputs": [
      {
       "output_type": "stream",
       "stream": "stdout",
       "text": [
        "0\n",
        "1\n",
        "2\n"
       ]
      }
     ],
     "prompt_number": 18
    },
    {
     "cell_type": "markdown",
     "metadata": {},
     "source": [
      "`enumerate()` function helps you to count while iterate over a sequence"
     ]
    },
    {
     "cell_type": "code",
     "collapsed": false,
     "input": [
      "# Iterate over fruits list and get the index of each fruit\n",
      "for i, fruit in enumerate(fruits):\n",
      "    print i, fruit"
     ],
     "language": "python",
     "metadata": {},
     "outputs": [
      {
       "output_type": "stream",
       "stream": "stdout",
       "text": [
        "0 apple\n",
        "1 orange\n",
        "2 mango\n"
       ]
      }
     ],
     "prompt_number": 19
    },
    {
     "cell_type": "markdown",
     "metadata": {},
     "source": [
      "> **Fact:** Fortran programmers - yeah, Python indexing starts at 0 (zero)"
     ]
    },
    {
     "cell_type": "markdown",
     "metadata": {},
     "source": [
      "Here is a little more complex *for loop*. `continue` command skips directly to next iteration. `break` terminates the loop"
     ]
    },
    {
     "cell_type": "code",
     "collapsed": false,
     "input": [
      "# Go from 0 to 10, print only even numbers and break the loop when x >== 8\n",
      "for x in range(10):\n",
      "    if x % 2 != 0:\n",
      "        continue\n",
      "    if x >= 8:\n",
      "        break\n",
      "    print x, \" | \", math.pow(2,x), \" | \", math.sin(x), \" | \", math.cos(x)"
     ],
     "language": "python",
     "metadata": {},
     "outputs": [
      {
       "output_type": "stream",
       "stream": "stdout",
       "text": [
        "0  |  1.0  |  0.0  |  1.0\n",
        "2  |  4.0  |  0.909297426826  |  -0.416146836547\n",
        "4  |  16.0  |  -0.756802495308  |  -0.653643620864\n",
        "6  |  64.0  |  -0.279415498199  |  0.96017028665\n"
       ]
      }
     ],
     "prompt_number": 21
    },
    {
     "cell_type": "markdown",
     "metadata": {},
     "source": [
      "#### while\n",
      "\n",
      "*while* is similar to another languages. `break` and `continue` work like above"
     ]
    },
    {
     "cell_type": "code",
     "collapsed": false,
     "input": [
      "x = 1\n",
      "while x < 10:\n",
      "    x = x * 2\n",
      "print x"
     ],
     "language": "python",
     "metadata": {},
     "outputs": [
      {
       "output_type": "stream",
       "stream": "stdout",
       "text": [
        "16\n"
       ]
      }
     ],
     "prompt_number": 24
    },
    {
     "cell_type": "markdown",
     "metadata": {},
     "source": [
      "### Functions\n",
      "\n",
      "*Functions* are implemented using the `def` statemant. See examples below"
     ]
    },
    {
     "cell_type": "code",
     "collapsed": false,
     "input": [
      "def sum(a, b):\n",
      "    return a + b\n",
      "\n",
      "sum(3, 4)"
     ],
     "language": "python",
     "metadata": {},
     "outputs": [
      {
       "metadata": {},
       "output_type": "pyout",
       "prompt_number": 25,
       "text": [
        "7"
       ]
      }
     ],
     "prompt_number": 25
    },
    {
     "cell_type": "markdown",
     "metadata": {},
     "source": [
      "You could set default value for arguments"
     ]
    },
    {
     "cell_type": "code",
     "collapsed": false,
     "input": [
      "# Default arguments\n",
      "\n",
      "def power(x, y=2):\n",
      "    return x ** y\n",
      "\n",
      "print power(3), \"- using the default arg for 'y'\"\n",
      "print power(3, 3), \"- set another value for 'y'\""
     ],
     "language": "python",
     "metadata": {},
     "outputs": [
      {
       "output_type": "stream",
       "stream": "stdout",
       "text": [
        "9 - using the default arg for 'y'\n",
        "27 - set another value for 'y'\n"
       ]
      }
     ],
     "prompt_number": 15
    },
    {
     "cell_type": "markdown",
     "metadata": {},
     "source": [
      "It's also possible set an undefined number of arguments (below, `args` variable is a tuple with the given parameters)"
     ]
    },
    {
     "cell_type": "code",
     "collapsed": false,
     "input": [
      "#Undefined number of arguments\n",
      "\n",
      "def print_deco(*args):\n",
      "    for arg in args:\n",
      "        print \"\\o/\", arg, \"/o\\\\\"\n",
      "\n",
      "print_deco(\"arg1\", \"other\", -312, 2j)"
     ],
     "language": "python",
     "metadata": {},
     "outputs": [
      {
       "output_type": "stream",
       "stream": "stdout",
       "text": [
        "\\o/ arg1 /o\\\n",
        "\\o/ other /o\\\n",
        "\\o/ -312 /o\\\n",
        "\\o/ 2j /o\\\n"
       ]
      }
     ],
     "prompt_number": 14
    },
    {
     "cell_type": "markdown",
     "metadata": {},
     "source": [
      "<center>__... End of Chapter ...__</center>"
     ]
    }
   ],
   "metadata": {}
  }
 ]
}