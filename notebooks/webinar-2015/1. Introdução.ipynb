{
 "cells": [
  {
   "cell_type": "markdown",
   "metadata": {},
   "source": [
    "### Python: Diferenciais\n",
    "\n",
    "#### Tipagem Dinâmica e Sintaxe Elegange\n",
    "\n",
    "Em C:"
   ]
  },
  {
   "cell_type": "raw",
   "metadata": {},
   "source": [
    "#include <stdio.h>\n",
    "\n",
    "int soma(int a, int b)\n",
    "{\n",
    "    return a + b;\n",
    "}\n",
    "\n",
    "void main() \n",
    "{\n",
    "    printf(\"Resultado: %d\\n\", soma(102, 459));\n",
    "    return;\n",
    "}"
   ]
  },
  {
   "cell_type": "markdown",
   "metadata": {},
   "source": [
    "Em Python:"
   ]
  },
  {
   "cell_type": "code",
   "execution_count": 12,
   "metadata": {
    "collapsed": false
   },
   "outputs": [
    {
     "name": "stdout",
     "output_type": "stream",
     "text": [
      "Resultado: 561\n"
     ]
    }
   ],
   "source": [
    "def soma(a, b):\n",
    "    return a + b\n",
    "\n",
    "print(\"Resultado: %d\" % soma(102, 459))"
   ]
  },
  {
   "cell_type": "markdown",
   "metadata": {},
   "source": [
    "#### Baterias Incluídas\n",
    "\n",
    "+ Manipulação de Strings\n",
    "+ Tipos de Dados: *datetime*, *sets*, *Queue*, *Fraction*\n",
    "+ Algoritmos: *sort*, *bisect*, *random* \n",
    "+ Sistema de Arquivos (multiplataforma):\n",
    "    + cópia e manipulação de arquivos\n",
    "    + compactação de dados\n",
    "    + arquvios temporários\n",
    "    + váriaveis de ambiente\n",
    "+ Formato de Dados: *csv*, *xml*, *json*\n",
    "+ Rede: e-mail, FTP, HTML parser"
   ]
  },
  {
   "cell_type": "markdown",
   "metadata": {},
   "source": [
    "### Vamos Começar\n",
    "\n",
    "Baixar e Instalar o [Anaconda](https://www.continuum.io/downloads) (Distribuição Python)\n",
    "\n",
    "Inicializar o Spyder (IDE Python)\n",
    "\n",
    "![](files/resource/menu-anaconda-spyder.gif)\n",
    "\n",
    "Spyder - Atalhos Importantes:\n",
    "\n",
    "+ F5 - Executa Script\n",
    "+ Ctrl+Espaço - Lista de Funções\n",
    "+ Ctrl+I - Exibe Documentação\n",
    "\n",
    "#### Programando\n",
    "\n",
    "Você pode testar comandos na janela de Console, os resultados são apresentados instantaneamente"
   ]
  },
  {
   "cell_type": "code",
   "execution_count": 18,
   "metadata": {
    "collapsed": false
   },
   "outputs": [
    {
     "data": {
      "text/plain": [
       "99.25"
      ]
     },
     "execution_count": 18,
     "metadata": {},
     "output_type": "execute_result"
    }
   ],
   "source": [
    "12 * 3 + 64 - 3 / 4"
   ]
  },
  {
   "cell_type": "code",
   "execution_count": 19,
   "metadata": {
    "collapsed": false
   },
   "outputs": [
    {
     "data": {
      "text/plain": [
       "3.141592653589793"
      ]
     },
     "execution_count": 19,
     "metadata": {},
     "output_type": "execute_result"
    }
   ],
   "source": [
    "import math\n",
    "\n",
    "math.pi"
   ]
  },
  {
   "cell_type": "code",
   "execution_count": 21,
   "metadata": {
    "collapsed": false
   },
   "outputs": [
    {
     "data": {
      "text/plain": [
       "1.0"
      ]
     },
     "execution_count": 21,
     "metadata": {},
     "output_type": "execute_result"
    }
   ],
   "source": [
    "math.sin(math.pi / 2)"
   ]
  },
  {
   "cell_type": "code",
   "execution_count": 23,
   "metadata": {
    "collapsed": true
   },
   "outputs": [],
   "source": [
    "x = 1"
   ]
  },
  {
   "cell_type": "code",
   "execution_count": null,
   "metadata": {
    "collapsed": true
   },
   "outputs": [],
   "source": []
  }
 ],
 "metadata": {
  "kernelspec": {
   "display_name": "Python 3",
   "language": "python",
   "name": "python3"
  },
  "language_info": {
   "codemirror_mode": {
    "name": "ipython",
    "version": 3
   },
   "file_extension": ".py",
   "mimetype": "text/x-python",
   "name": "python",
   "nbconvert_exporter": "python",
   "pygments_lexer": "ipython3",
   "version": "3.4.3"
  }
 },
 "nbformat": 4,
 "nbformat_minor": 0
}
