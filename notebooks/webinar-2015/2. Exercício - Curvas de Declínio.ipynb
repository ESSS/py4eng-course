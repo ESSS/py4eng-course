{
 "cells": [
  {
   "cell_type": "markdown",
   "metadata": {},
   "source": [
    "## Exercício - Análise de Poço por Curvas de Declínio\n",
    "\n",
    "*Baseado no Exemplo 11.1 do livro [Engenharia de Reservatórios de Petróleo](http://www.saraiva.com.br/engenharia-de-reservatorios-de-petroleo-198191.html)*\n",
    "\n",
    "Dado o histórico de produção de um poço na tabela abaixo:\n",
    "\n",
    "| *t (ano)* | *q (m³std/d)* |\n",
    "|-----------|---------------|\n",
    "| 0         | 100           |\n",
    "| 1         | 77.0          |\n",
    "| 2         | 64.0          |\n",
    "| 3         | 49.5          |\n",
    "| 4         | 41.0          |\n",
    "| 5         | 34.5          |\n",
    "\n",
    "Considerando uma vazão de abandono de 5 m³std/d, determinar, através de análise de curva de declínio:\n",
    "\n",
    " 1. Tempo de abandono;\n",
    " 1. Produção acumulada até o abandono.\n",
    "\n",
    "### Solução:\n",
    "\n",
    "Utilizando a Análise de Curvas de Declínio, a vazão $q$ de um poço no tempo $t$ pode ser dada por\n",
    "\n",
    "$$q = \\frac{q_i}{(1 + n a_i t)^{1/n}}$$\n",
    "\n",
    "Podemos escrever esta equação em Python da seguinte forma:"
   ]
  },
  {
   "cell_type": "code",
   "execution_count": 87,
   "metadata": {
    "collapsed": true
   },
   "outputs": [],
   "source": [
    "def well_flow(t, qi, ai, n):\n",
    "    '''\n",
    "    Calculate well flow rate using decline curve analysis\n",
    "    '''\n",
    "    return qi / (1 + n * ai * t) ** (1 / n)"
   ]
  },
  {
   "cell_type": "code",
   "execution_count": 88,
   "metadata": {
    "collapsed": true
   },
   "outputs": [],
   "source": [
    "import numpy as np\n",
    "import matplotlib\n",
    "%matplotlib inline"
   ]
  },
  {
   "cell_type": "code",
   "execution_count": 91,
   "metadata": {
    "collapsed": true
   },
   "outputs": [],
   "source": [
    "# Define history data\n",
    "t = np.arange(6)\n",
    "history_q = np.array([100, 77, 61, 49.5, 41, 34.5])"
   ]
  },
  {
   "cell_type": "markdown",
   "metadata": {},
   "source": [
    "Vamos plotar a uma curva de declíneo qualquer, só para ver seu funcionamento"
   ]
  },
  {
   "cell_type": "code",
   "execution_count": 97,
   "metadata": {
    "collapsed": false
   },
   "outputs": [
    {
     "data": {
      "text/plain": [
       "[<matplotlib.lines.Line2D at 0xbd65ef0>]"
      ]
     },
     "execution_count": 97,
     "metadata": {},
     "output_type": "execute_result"
    },
    {
     "data": {
      "image/png": "[encoded data removed]",
      "text/plain": [
       "<matplotlib.figure.Figure at 0xbd65e10>"
      ]
     },
     "metadata": {},
     "output_type": "display_data"
    }
   ],
   "source": [
    "plot.plot(t, history_q, \"ro\")\n",
    "plot.plot(t, well_flow(t, 100, 0.5, 1e-3))"
   ]
  },
  {
   "cell_type": "markdown",
   "metadata": {},
   "source": [
    "Usaremos a função [curve_fit](http://docs.scipy.org/doc/scipy-0.16.0/reference/generated/scipy.optimize.curve_fit.html) da **SciPy** para encontrar os parâmetros da curva de declínio:"
   ]
  },
  {
   "cell_type": "code",
   "execution_count": 113,
   "metadata": {
    "collapsed": false
   },
   "outputs": [
    {
     "name": "stdout",
     "output_type": "stream",
     "text": [
      "[ 100.0120758     0.27952672    0.48942488]\n"
     ]
    }
   ],
   "source": [
    "from scipy.optimize import curve_fit\n",
    "\n",
    "params, fitted = curve_fit(well_flow, t, history_q, p0=[100, 0.5, 0.3])\n",
    "print(params)"
   ]
  },
  {
   "cell_type": "markdown",
   "metadata": {},
   "source": [
    "Assim, os parâmetros da nossa curva de declínio são:\n",
    "\n",
    "$$q_i = 100.012, a_i = 0.279, n = 0.489$$\n",
    "\n",
    "Plotando contra os dados de histórico, temos:"
   ]
  },
  {
   "cell_type": "code",
   "execution_count": 114,
   "metadata": {
    "collapsed": false
   },
   "outputs": [
    {
     "data": {
      "text/plain": [
       "(0, 100)"
      ]
     },
     "execution_count": 114,
     "metadata": {},
     "output_type": "execute_result"
    },
    {
     "data": {
      "image/png": "[encoded data removed]",
      "text/plain": [
       "<matplotlib.figure.Figure at 0xc86ab38>"
      ]
     },
     "metadata": {},
     "output_type": "display_data"
    }
   ],
   "source": [
    "plot.plot(t, history_q, \"ro\")\n",
    "plot.plot(t, well_flow(t, params[0], params[1], params[2]))\n",
    "plot.ylim(0, 100)"
   ]
  },
  {
   "cell_type": "markdown",
   "metadata": {},
   "source": [
    "Para encontrar o tempo de abandono, temos que achar $t$ em:\n",
    "\n",
    "$$5 = \\frac{100.012}{(1 + 0.489\\times0.279 t)^{1/0.489}}$$\n",
    "\n",
    "Para encontrar o tempo de abandono, ao invés de isolar a variável $t$, vamos tentar encontrar a raiz da equação:\n",
    "\n",
    "$$0 = \\frac{100.012}{(1 + 0.489\\times0.279 t)^{1/0.489}} - 5$$\n",
    "\n",
    "Uaremos a função [root](http://docs.scipy.org/doc/scipy-0.14.0/reference/tutorial/optimize.html#root-finding) da **SciPy** para este fim. "
   ]
  },
  {
   "cell_type": "code",
   "execution_count": 112,
   "metadata": {
    "collapsed": false
   },
   "outputs": [
    {
     "name": "stdout",
     "output_type": "stream",
     "text": [
      "[ 24.36224975]\n"
     ]
    }
   ],
   "source": [
    "from scipy.optimize import root\n",
    "\n",
    "objfunc = lambda x: well_flow(x, params[0], params[1], params[2]) - 5\n",
    "sol = root(objfunc, 10)\n",
    "print(sol.x)"
   ]
  },
  {
   "cell_type": "markdown",
   "metadata": {},
   "source": [
    "Tempo de Abandono é de **24.4 anos**\n",
    "\n",
    "A produção acumulada até o abandono pode ser calculada integrando-se o a função de declíneo. Para isso vamos usar a função [quad](http://docs.scipy.org/doc/scipy-0.14.0/reference/tutorial/integrate.html#general-integration-quad)."
   ]
  },
  {
   "cell_type": "code",
   "execution_count": 116,
   "metadata": {
    "collapsed": false
   },
   "outputs": [
    {
     "data": {
      "text/plain": [
       "(548.9611704832541, 7.287101512062888e-06)"
      ]
     },
     "execution_count": 116,
     "metadata": {},
     "output_type": "execute_result"
    }
   ],
   "source": [
    "from scipy.integrate import quad\n",
    "\n",
    "result, erquad(well_flow, 0, sol.x, (params[0], params[1], params[2]))"
   ]
  },
  {
   "cell_type": "code",
   "execution_count": 66,
   "metadata": {
    "collapsed": false
   },
   "outputs": [],
   "source": [
    "history_data = np.arange(6) * 365, np.array([100, 77, 61, 49.5, 41, 34.5])"
   ]
  },
  {
   "cell_type": "code",
   "execution_count": 67,
   "metadata": {
    "collapsed": false
   },
   "outputs": [
    {
     "data": {
      "text/plain": [
       "[<matplotlib.lines.Line2D at 0xa789d68>]"
      ]
     },
     "execution_count": 67,
     "metadata": {},
     "output_type": "execute_result"
    },
    {
     "data": {
      "image/png": "[encoded data removed]",
      "text/plain": [
       "<matplotlib.figure.Figure at 0xa68e7b8>"
      ]
     },
     "metadata": {},
     "output_type": "display_data"
    }
   ],
   "source": [
    "plot.plot(*history_data)"
   ]
  },
  {
   "cell_type": "code",
   "execution_count": null,
   "metadata": {
    "collapsed": true
   },
   "outputs": [],
   "source": []
  }
 ],
 "metadata": {
  "kernelspec": {
   "display_name": "Python 3",
   "language": "python",
   "name": "python3"
  },
  "language_info": {
   "codemirror_mode": {
    "name": "ipython",
    "version": 3
   },
   "file_extension": ".py",
   "mimetype": "text/x-python",
   "name": "python",
   "nbconvert_exporter": "python",
   "pygments_lexer": "ipython3",
   "version": "3.4.3"
  }
 },
 "nbformat": 4,
 "nbformat_minor": 0
}
