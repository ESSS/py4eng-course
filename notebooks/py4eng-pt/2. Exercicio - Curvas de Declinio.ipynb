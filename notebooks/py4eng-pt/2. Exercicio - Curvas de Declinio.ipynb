{
 "cells": [
  {
   "cell_type": "markdown",
   "metadata": {},
   "source": [
    "## Vamos Começar\n",
    "\n",
    "Baixar e Instalar o [Anaconda](https://www.continuum.io/downloads) (Python 3.5)\n",
    "\n",
    "Inicializar o Spyder (IDE Python)\n",
    "\n",
    "![](../resource/menu-anaconda-spyder.gif)\n",
    "\n",
    "Painéis Disponíveis:\n",
    "\n",
    "1. Editor de arquivos\n",
    "1. Inspetor de Variáveis\n",
    "1. Console Python\n",
    "\n",
    "![](../resource/spyder.png)\n",
    "\n",
    "**Atalhos Importantes:**\n",
    "\n",
    "+ F5 - Executa Script\n",
    "+ Ctrl+Espaço - Lista de Funções\n",
    "+ Ctrl+1 - Comenta Linha\n",
    "+ Ctrl+I - Mostra Documentação\n",
    "+ Ctrl+Shift+I - Foco no Console\n",
    "+ Ctrl+Shift+V - Foco Inspetor de Variáveis\n",
    "+ Ctrl+Shift+E - Foco no Editor"
   ]
  },
  {
   "cell_type": "markdown",
   "metadata": {},
   "source": [
    "## Exercício - Análise de Poço por Curvas de Declínio\n",
    "\n",
    "*Baseado no Exemplo 11.1 do livro [Engenharia de Reservatórios de Petróleo](http://www.saraiva.com.br/engenharia-de-reservatorios-de-petroleo-198191.html) de Rosa, A. et al.*\n",
    "\n",
    "### Curvas de Declínio\n",
    "\n",
    "![](https://upload.wikimedia.org/wikipedia/commons/thumb/6/67/GlennPool.jpg/220px-GlennPool.jpg)\n",
    "\n",
    "\n",
    ">Método simplificado e bastante usado na prática para a realização de ajuste de histórico e/ou previsão do comportamento de poços isolados (Rosa, A. et al, 2006)\n",
    "\n",
    "Equação do Declinio Hiperbólico:\n",
    "\n",
    "$$q = \\frac{q_i}{(1 + n a_i t)^{1/n}}$$\n",
    "\n",
    "Dado o histórico de produção de um poço na tabela abaixo:\n",
    "\n",
    "| *t (ano)* | *q (m³std/d)* |\n",
    "|-----------|---------------|\n",
    "| 0         | 100           |\n",
    "| 1         | 77.0          |\n",
    "| 2         | 61.0          |\n",
    "| 3         | 49.5          |\n",
    "| 4         | 41.0          |\n",
    "| 5         | 34.5          |\n",
    "\n",
    "Determinar, através da equação do declínio hiperbólico:\n",
    "\n",
    " 1. Tempo de abandono, considerando uma vazão de abandono de 5 m³std/d;\n",
    " 1. Produção acumulada até o abandono.\n"
   ]
  },
  {
   "cell_type": "markdown",
   "metadata": {},
   "source": [
    "### Solução\n",
    "\n",
    "Vamos criar uma lista com os dados do histórico"
   ]
  },
  {
   "cell_type": "code",
   "execution_count": 1,
   "metadata": {
    "collapsed": true
   },
   "outputs": [],
   "source": [
    "qm = [100, 77, 61, 49.5, 41, 34.5]"
   ]
  },
  {
   "cell_type": "markdown",
   "metadata": {},
   "source": [
    "**Listas não são Arrays!**\n",
    "\n",
    "|Lista                            |Array               |\n",
    "|:-------------------------------:|:------------------:|\n",
    "|![](../resource/paperbox.jpg) |![](../resource/beerbox.jpg)|"
   ]
  },
  {
   "cell_type": "code",
   "execution_count": 2,
   "metadata": {
    "collapsed": true
   },
   "outputs": [],
   "source": [
    "import numpy as np"
   ]
  },
  {
   "cell_type": "code",
   "execution_count": 3,
   "metadata": {
    "collapsed": false
   },
   "outputs": [],
   "source": [
    "qm = np.array([100, 77, 61, 49.5, 41, 34.5])\n",
    "tsteps = np.arange(6)"
   ]
  },
  {
   "cell_type": "markdown",
   "metadata": {},
   "source": [
    "### Funções"
   ]
  },
  {
   "cell_type": "markdown",
   "metadata": {},
   "source": [
    "Utilizando a equação de Declínio Hiperbólico, a vazão $q$ de um poço no tempo $t$ pode é dada por:\n",
    "\n",
    "$$q = \\frac{q_i}{(1 + n a_i t)^{1/n}}$$\n",
    "\n",
    "Podemos escrever esta equação em Python da seguinte forma:"
   ]
  },
  {
   "cell_type": "code",
   "execution_count": 4,
   "metadata": {
    "collapsed": true
   },
   "outputs": [],
   "source": [
    "def declinio_hiperb(t, qi, ai, n):\n",
    "    '''\n",
    "    Calcula vazão instantânea do poço usando curva de declinio hiperbólica\n",
    "    '''\n",
    "    q = qi / (1 + n * ai * t) ** (1 / n)\n",
    "    return q"
   ]
  },
  {
   "cell_type": "markdown",
   "metadata": {},
   "source": [
    "Tipagem dinâmica e foco na legibilidade\n",
    "\n",
    "Exemplo da mesma função em C++:\n",
    "\n",
    "```C\n",
    "#include <math.h>\n",
    "\n",
    "/*\n",
    " *  Calcula vazão instantânea do poço usando curva de declinio hiperbólica\n",
    " */\n",
    "const double &declinio_hiper(double &t, double &qi, double &ai, double &n) \n",
    "{\n",
    "    return qi / pow((1 + n * ai * t), (1 / n));\n",
    "}\n",
    "```"
   ]
  },
  {
   "cell_type": "markdown",
   "metadata": {},
   "source": [
    "Vamos testar a função"
   ]
  },
  {
   "cell_type": "code",
   "execution_count": 5,
   "metadata": {
    "collapsed": false
   },
   "outputs": [
    {
     "data": {
      "text/plain": [
       "57.87037037037038"
      ]
     },
     "execution_count": 5,
     "metadata": {},
     "output_type": "execute_result"
    }
   ],
   "source": [
    "declinio_hiperb(2, 100, 0.3, 1/3)"
   ]
  },
  {
   "cell_type": "markdown",
   "metadata": {},
   "source": [
    "Como nossos vetores tem suporte a operadores, podemos chamar a função passando um valor escalar ou vetorial:"
   ]
  },
  {
   "cell_type": "code",
   "execution_count": 6,
   "metadata": {
    "collapsed": false
   },
   "outputs": [
    {
     "data": {
      "text/plain": [
       "array([ 100.        ,   75.13148009,   57.87037037,   45.51661356,\n",
       "         36.44314869,   29.62962963])"
      ]
     },
     "execution_count": 6,
     "metadata": {},
     "output_type": "execute_result"
    }
   ],
   "source": [
    "declinio_hiperb(tsteps, 100, 0.3, 1/3)"
   ]
  },
  {
   "cell_type": "markdown",
   "metadata": {
    "collapsed": true
   },
   "source": [
    "### Plotando"
   ]
  },
  {
   "cell_type": "code",
   "execution_count": 7,
   "metadata": {
    "collapsed": true
   },
   "outputs": [],
   "source": [
    "import matplotlib.pyplot as plt\n",
    "%matplotlib inline"
   ]
  },
  {
   "cell_type": "code",
   "execution_count": 8,
   "metadata": {
    "collapsed": false
   },
   "outputs": [
    {
     "data": {
      "text/plain": [
       "[<matplotlib.lines.Line2D at 0x6df2710>]"
      ]
     },
     "execution_count": 8,
     "metadata": {},
     "output_type": "execute_result"
    },
    {
     "data": {
      "image/png": "[encoded data removed]",
      "text/plain": [
       "<matplotlib.figure.Figure at 0x4313908>"
      ]
     },
     "metadata": {},
     "output_type": "display_data"
    }
   ],
   "source": [
    "plt.plot(tsteps, qm, \"ro\")"
   ]
  },
  {
   "cell_type": "code",
   "execution_count": 9,
   "metadata": {
    "collapsed": false
   },
   "outputs": [
    {
     "data": {
      "text/plain": [
       "[<matplotlib.lines.Line2D at 0x7538278>]"
      ]
     },
     "execution_count": 9,
     "metadata": {},
     "output_type": "execute_result"
    },
    {
     "data": {
      "image/png": "[encoded data removed]",
      "text/plain": [
       "<matplotlib.figure.Figure at 0x6e39e80>"
      ]
     },
     "metadata": {},
     "output_type": "display_data"
    }
   ],
   "source": [
    "qs = declinio_hiperb(tsteps, 100, 0.3, 1/3)\n",
    "plt.plot(tsteps, qs)"
   ]
  },
  {
   "cell_type": "markdown",
   "metadata": {},
   "source": [
    "- [`plot()` function](http://matplotlib.org/api/pyplot_api.html#matplotlib.pyplot.plot) - documentação da função `plot()`"
   ]
  },
  {
   "cell_type": "markdown",
   "metadata": {},
   "source": [
    "### Ajustando os Parâmetros da Curva de Declínio\n",
    "\n",
    "Usaremos a função [curve_fit][curve-fit] da [SciPy][scipy-ref] para encontrar os parâmetros da curva de declínio para nossos dados de histórico:\n",
    "\n",
    "[scipy-ref]: http://docs.scipy.org/doc/scipy-0.14.0/reference/index.html\n",
    "[curve-fit]: http://docs.scipy.org/doc/scipy-0.16.0/reference/generated/scipy.optimize.curve_fit.html"
   ]
  },
  {
   "cell_type": "code",
   "execution_count": 10,
   "metadata": {
    "collapsed": false
   },
   "outputs": [],
   "source": [
    "import scipy.optimize\n",
    "\n",
    "params, fitted = scipy.optimize.curve_fit(declinio_hiperb, tsteps, qm, p0=[100, 0.3, 1/3])\n",
    "qi_fit, ai_fit, n_fit = params"
   ]
  },
  {
   "cell_type": "code",
   "execution_count": 11,
   "metadata": {
    "collapsed": false
   },
   "outputs": [
    {
     "name": "stdout",
     "output_type": "stream",
     "text": [
      "100.012075806\n",
      "0.279526724773\n",
      "0.489424884092\n"
     ]
    }
   ],
   "source": [
    "print(qi_fit)\n",
    "print(ai_fit)\n",
    "print(n_fit)"
   ]
  },
  {
   "cell_type": "markdown",
   "metadata": {},
   "source": [
    "Plotando contra os dados de histórico, temos:"
   ]
  },
  {
   "cell_type": "code",
   "execution_count": 12,
   "metadata": {
    "collapsed": false
   },
   "outputs": [
    {
     "data": {
      "text/plain": [
       "<matplotlib.legend.Legend at 0x7f515f8>"
      ]
     },
     "execution_count": 12,
     "metadata": {},
     "output_type": "execute_result"
    },
    {
     "data": {
      "image/png": "[encoded data removed]",
      "text/plain": [
       "<matplotlib.figure.Figure at 0x7eefd30>"
      ]
     },
     "metadata": {},
     "output_type": "display_data"
    }
   ],
   "source": [
    "qs = declinio_hiperb(tsteps, qi_fit, ai_fit, n_fit)\n",
    "plt.plot(tsteps, qm, \"ro\", label=\"medido\")\n",
    "plt.plot(tsteps, qs, label=\"simulado\")\n",
    "plt.xlabel(\"anos\")\n",
    "plt.ylabel(\"$m^3 std/d$\")\n",
    "plt.legend()"
   ]
  },
  {
   "cell_type": "markdown",
   "metadata": {},
   "source": [
    "### Solução do Item 1: Tempo de Abandono\n",
    "\n",
    "Para encontrar o tempo de abandono, vamos isolar $t$ na equação de declíneo:\n",
    "\n",
    "$$q = \\frac{q_i}{(1 + n a_i t)^{1/n}}$$\n",
    "\n",
    "temos:\n",
    "\n",
    "$$t = \\frac{(q_i/q)^n - 1}{n a_i}$$\n"
   ]
  },
  {
   "cell_type": "code",
   "execution_count": 13,
   "metadata": {
    "collapsed": false
   },
   "outputs": [],
   "source": [
    "def tempo_abandono(qa, qi, ai, n):\n",
    "    t = ((qi/qa)**n - 1) / (ai*n)\n",
    "    return t"
   ]
  },
  {
   "cell_type": "code",
   "execution_count": 14,
   "metadata": {
    "collapsed": false
   },
   "outputs": [
    {
     "data": {
      "text/plain": [
       "24.36224982496239"
      ]
     },
     "execution_count": 14,
     "metadata": {},
     "output_type": "execute_result"
    }
   ],
   "source": [
    "qa = 5\n",
    "tempo_abandono(qa, qi_fit, ai_fit, n_fit)"
   ]
  },
  {
   "cell_type": "markdown",
   "metadata": {},
   "source": [
    "Temos que o tempo de abandono é de **24.36 anos**"
   ]
  },
  {
   "cell_type": "markdown",
   "metadata": {},
   "source": [
    "### Solução do Item 2: Produção Acumulada\n",
    "\n",
    "A produção acumulada até o abandono pode ser calculada integrando-se o a função de declíneo no interavlo de produção $(0, 24.36)$. Para isso vamos usar a função [quad][quad] da [SciPy][scipy-ref].\n",
    "\n",
    "[scipy-ref]: http://docs.scipy.org/doc/scipy-0.14.0/reference/index.html\n",
    "[quad]: http://docs.scipy.org/doc/scipy-0.14.0/reference/generated/scipy.integrate.quad.html#scipy.integrate.quad"
   ]
  },
  {
   "cell_type": "code",
   "execution_count": 15,
   "metadata": {
    "collapsed": false
   },
   "outputs": [
    {
     "name": "stdout",
     "output_type": "stream",
     "text": [
      "Np: 200503.96\n"
     ]
    }
   ],
   "source": [
    "import scipy.integrate\n",
    "\n",
    "result, error = scipy.integrate.quad(declinio_hiperb, 0, 24.36, (qi_fit, ai_fit, n_fit))\n",
    "Np = result * 365.25 # mult por 365.25 (vazão está em dias e tempo em anos)\n",
    "print(\"Np: %.2f\" % (Np))"
   ]
  },
  {
   "cell_type": "markdown",
   "metadata": {
    "collapsed": true
   },
   "source": [
    "Produção acumulada até o tempo de abandono de **200.503 m³std**"
   ]
  },
  {
   "cell_type": "code",
   "execution_count": 16,
   "metadata": {
    "collapsed": false
   },
   "outputs": [
    {
     "data": {
      "image/png": "[encoded data removed]",
      "text/plain": [
       "<matplotlib.figure.Figure at 0x7f7e828>"
      ]
     },
     "metadata": {},
     "output_type": "display_data"
    }
   ],
   "source": [
    "tsteps_a = np.linspace(0, 24.3)\n",
    "qs_a = declinio_hiperb(tsteps_a, qi_fit, ai_fit, n_fit)\n",
    "\n",
    "plt.plot(tsteps_a, qs_a)\n",
    "plt.plot(tsteps, qm, \"ro\")\n",
    "plt.xlabel(\"anos\")\n",
    "plt.ylabel(\"$m^3 std/d $\")\n",
    "plt.title(\"Curva Declinio\")\n",
    "plt.annotate(r\"$N_p = %.0f m^3std$\" % Np, xy=(0.3, 0.5), xycoords='figure fraction', size=16)\n",
    "plt.fill_between(tsteps_a, qs_a, 0, facecolor=\"g\", alpha=0.3)\n",
    "plt.savefig(\"declinio.png\", dpi=300)"
   ]
  },
  {
   "cell_type": "markdown",
   "metadata": {},
   "source": [
    "#### Links\n",
    "- [Matplotlib Gallery](http://matplotlib.org/gallery.html) - exemplos de gráficos gerados pela Matplotlib acompanhado do código-fonte\n",
    "- [SciPy - Guia de Referência](http://docs.scipy.org/doc/scipy/reference/)\n",
    "- [Numpy for Matlab users](https://docs.scipy.org/doc/numpy-dev/user/numpy-for-matlab-users.html#general-purpose-equivalents)"
   ]
  },
  {
   "cell_type": "markdown",
   "metadata": {},
   "source": [
    "### Round Bônus\n",
    "\n",
    "Executar o *Anaconda Command Prompt* e instalar a biblioteca `yahoo_finance` com o seguinte comando:\n",
    "\n",
    "```\n",
    "pip install yahoo_finance\n",
    "```"
   ]
  },
  {
   "cell_type": "code",
   "execution_count": 17,
   "metadata": {
    "collapsed": false
   },
   "outputs": [
    {
     "data": {
      "text/plain": [
       "'3.7408'"
      ]
     },
     "execution_count": 17,
     "metadata": {},
     "output_type": "execute_result"
    }
   ],
   "source": [
    "import yahoo_finance\n",
    "\n",
    "yahoo_finance.Currency(\"USDBRL\").get_rate()"
   ]
  },
  {
   "cell_type": "code",
   "execution_count": 18,
   "metadata": {
    "collapsed": false,
    "scrolled": true
   },
   "outputs": [
    {
     "data": {
      "text/plain": [
       "'OIL Brent: U$ 47.24'"
      ]
     },
     "execution_count": 18,
     "metadata": {},
     "output_type": "execute_result"
    }
   ],
   "source": [
    "brent_share = yahoo_finance.Share(\"BZZ15.NYM\")\n",
    "brent_price = float(brent_share.get_price())\n",
    "\"OIL Brent: U$ %.2f\" % (brent_price)"
   ]
  },
  {
   "cell_type": "code",
   "execution_count": 19,
   "metadata": {
    "collapsed": false
   },
   "outputs": [
    {
     "name": "stdout",
     "output_type": "stream",
     "text": [
      "Produção em US$: 59575873.77\n"
     ]
    }
   ],
   "source": [
    "# Imprimindo valor em moeda corrente, agrupand milhar\n",
    "m3tobrl = 6.28981077\n",
    "Np_usd = Np * m3tobrl * brent_price\n",
    "print(\"Produção em US$: %.2f\" % (Np_usd))"
   ]
  },
  {
   "cell_type": "code",
   "execution_count": 20,
   "metadata": {
    "collapsed": false
   },
   "outputs": [
    {
     "data": {
      "text/plain": [
       "'R$ 222.843.555,82'"
      ]
     },
     "execution_count": 20,
     "metadata": {},
     "output_type": "execute_result"
    }
   ],
   "source": [
    "import locale\n",
    "\n",
    "dolar = float(yahoo_finance.Currency(\"USDBRL\").get_rate())\n",
    "# Aplica as configurações regionais que estão definidas no computador\n",
    "locale.setlocale(locale.LC_MONETARY, \"Portuguese_Brazil\")\n",
    "locale.currency(Np_usd * dolar, grouping=True)"
   ]
  },
  {
   "cell_type": "markdown",
   "metadata": {},
   "source": [
    "- [locale](https://docs.python.org/3.4/library/locale.html)\n",
    "- [yahoo_finance](https://pypi.python.org/pypi/yahoo-finance/1.2.1)"
   ]
  }
 ],
 "metadata": {
  "kernelspec": {
   "display_name": "Python 3",
   "language": "python",
   "name": "python3"
  },
  "language_info": {
   "codemirror_mode": {
    "name": "ipython",
    "version": 3
   },
   "file_extension": ".py",
   "mimetype": "text/x-python",
   "name": "python",
   "nbconvert_exporter": "python",
   "pygments_lexer": "ipython3",
   "version": "3.4.3"
  }
 },
 "nbformat": 4,
 "nbformat_minor": 0
}
