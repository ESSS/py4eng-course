{
 "cells": [
  {
   "cell_type": "markdown",
   "metadata": {},
   "source": [
    "## Instalando Novos Pacotes\n",
    "\n",
    "Precisamos instalar o pacote **cx_freeze**, que não vem pré-disponibilizado no *Anaconda*. Utilize o *Anaconda Command Prompt* e digite o seguinte comando:\n",
    "\n",
    "```\n",
    "conda install -c http://conda.anaconda.org/pyzo cx_freeze\n",
    "```\n",
    "\n",
    "O gerenciador de pacotes *Conda* fará o download e a instalação do pacote. Para verificar outros pacotes disponíveis para instalação consulte o [Anaconda.org](http://anaconda.org).\n",
    "\n",
    "\n",
    "## Compilando Executável no Windows\n",
    "\n",
    "### Criando arquivo de configuração (setup.py)\n",
    "\n",
    "Segue um exemplo do arquivo de configuração para criação de executável com **cx_Freeze**. O arquivo é normalmente chamado de *setup.py*. As opções principais estão definidas nas primeiras 5 variáveis. Para quem desejar is mais a fundo, basta consultar a [documentação do cx_Freeze](http://cx-freeze.readthedocs.org/)\n",
    "\n",
    "```python\n",
    "# -*- coding: utf-8 -*-\n",
    "from cx_Freeze import setup, Executable\n",
    "\n",
    "\n",
    "# Principais opções\n",
    "main_script = \"main.py\"\n",
    "includes = [\"matplotlib.backends.backend_qt4agg\"]\n",
    "excludes = [\"tkinter\"]\n",
    "base = \"Console\"  # Win32GUI or Console\n",
    "build_dir = \"build\"\n",
    "\n",
    "\n",
    "# Call setup\n",
    "setup(  \n",
    "    name = \"<unnamed>\",\n",
    "    version = \"1.0\",\n",
    "    description = \"Python Application!\",\n",
    "    options = {\n",
    "        \"build_exe\": {\n",
    "            \"build_exe\": build_dir,\n",
    "            \"includes\": includes,\n",
    "            \"excludes\": excludes,\n",
    "            \"compressed\": True,\n",
    "           }\n",
    "        },\n",
    "    executables = [Executable(main_script, base=base, targetDir=build_dir)]\n",
    "    )\n",
    "```\n",
    "\n",
    "### Compilando Executável\n",
    "\n",
    "Existem 2 opções: dentro do próprio *Spyder* ou utilizando o *Anaconda Command Prompt*:\n",
    "\n",
    "####Spyder\n",
    "\n",
    "No *Spyder*, com o arquivo `setup.py` selecionado no editor, use o atalho **F6** e configure os opções **Console** e **Command line options** conforme abaixo:\n",
    "\n",
    "![](..\\resource\\cx_freeze_run.png)\n",
    "\n",
    "####Anaconda Command Prompt\n",
    "\n",
    "No *Anaconda Command Prompt*, siga até o diretório onde se localiza o script `setup.py` e digite:\n",
    "\n",
    "```\n",
    "python setup.py build\n",
    "```\n",
    "\n",
    "Se a compilação for encerrada com sucesso, uma pasta `build` será criada contendo o executável e suas dependências."
   ]
  },
  {
   "cell_type": "markdown",
   "metadata": {},
   "source": [
    "## IPython Notebook\n",
    "\n",
    "http://ipython.org/ipython-doc/3/notebook/notebook.html\n",
    "\n",
    "..."
   ]
  },
  {
   "cell_type": "code",
   "execution_count": null,
   "metadata": {
    "collapsed": true
   },
   "outputs": [],
   "source": []
  }
 ],
 "metadata": {
  "kernelspec": {
   "display_name": "Python 3",
   "language": "python",
   "name": "python3"
  },
  "language_info": {
   "codemirror_mode": {
    "name": "ipython",
    "version": 3
   },
   "file_extension": ".py",
   "mimetype": "text/x-python",
   "name": "python",
   "nbconvert_exporter": "python",
   "pygments_lexer": "ipython3",
   "version": "3.4.3"
  }
 },
 "nbformat": 4,
 "nbformat_minor": 0
}
