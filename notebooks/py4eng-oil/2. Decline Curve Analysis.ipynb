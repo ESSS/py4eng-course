{
 "cells": [
  {
   "cell_type": "markdown",
   "metadata": {},
   "source": [
    "# Hands On\n",
    "\n",
    "It's recommendend to use [Anaconda](https://www.continuum.io/downloads) (Python 3.5)\n",
    "\n",
    "Spyder:\n",
    "\n",
    "1. File editors\n",
    "1. Variable Explorer\n",
    "1. Python Console\n",
    "\n",
    "<img src=\"../resource/spyder.png\" width=60%>\n",
    "\n",
    "**Important Shortcuts (Windows)**\n",
    "\n",
    "+ F5 - Run selected file\n",
    "+ Ctrl+Space - Code completion\n",
    "+ Ctrl+1 - Line comment\n",
    "+ Ctrl+I - Show docs\n",
    "+ Ctrl+Shift+I - Set focus on Console\n",
    "+ Ctrl+Shift+V - Set focus on Variable Explorer\n",
    "+ Ctrl+Shift+E - Set focus on File editor\n"
   ]
  },
  {
   "cell_type": "markdown",
   "metadata": {},
   "source": [
    "\n",
    "## Exercise - Decline Curve Analysis\n",
    "\n",
    "Based on sample 11.1 from the Book [Engenharia de Reservatórios de Petróleo](http://www.saraiva.com.br/engenharia-de-reservatorios-de-petroleo-198191.html) from Rosa, A. et al.*\n",
    "\n",
    ">Decline curve analysis is a means of predicting future oil well production based on past production history. Production decline curve analysis is a traditional means of identifying well production problems and predicting well performance and life (Wikipedia)\n",
    "\n",
    "<img src=http://www.resilience.org/articles/General/2013/09_Sep/snake-oil/Figure19_PRF.png width=420px>\n",
    "<center>**Figure 1:** Decline Curve for Barnett Shale Gas Wells.</center>\n",
    "<center>*(source: [Drill, Baby, Drill](https://pt.scribd.com/doc/126063765/Drill-Baby-Drill-Can-Unconventional-Fuels-Usher-in-a-New-Era-of-Energy-Abundance) from Hughes, D.)*</center>\n",
    "\n",
    "Hiperbolic Decline equation:\n",
    "\n",
    "$$q = \\frac{q_i}{(1 + n a_i t)^{1/n}}$$\n",
    "\n",
    "Given a oil well with the following production history\n",
    "\n",
    "| *t (years)* | *q (m³/d)* |\n",
    "|-----------|---------------|\n",
    "| 0         | 100           |\n",
    "| 1         | 77.0          |\n",
    "| 2         | 61.0          |\n",
    "| 3         | 49.5          |\n",
    "| 4         | 41.0          |\n",
    "| 5         | 34.5          |\n",
    "\n",
    "the student must determine:\n",
    "\n",
    " 1. Hiperbolic curve parameters to fit the well history data;\n",
    " 1. Number of years til the well abandonment, with the break-even point defined to be 5 m³/d;\n",
    " 1. Well cumulative production til the abandonment."
   ]
  },
  {
   "cell_type": "markdown",
   "metadata": {},
   "source": [
    "## Solution\n",
    "\n",
    "Let's create a list with representing well history data"
   ]
  },
  {
   "cell_type": "markdown",
   "metadata": {},
   "source": [
    "### arrays"
   ]
  },
  {
   "cell_type": "code",
   "execution_count": 87,
   "metadata": {
    "collapsed": true
   },
   "outputs": [],
   "source": [
    "qm = [100, 77, 61, 49.5, 41, 34.5]"
   ]
  },
  {
   "cell_type": "markdown",
   "metadata": {},
   "source": [
    "**List's are not arrays!**\n",
    "\n",
    "Lista                            |Array               \n",
    ":-------------------------------:|:------------------:\n",
    "![](../resource/paperbox.jpg) |![](../resource/beerbox.jpg)\n",
    "\n",
    "Arrays:\n",
    "\n",
    "+ faster\n",
    "+ memory efficient\n",
    "+ arithmetic operators support (numpy)\n",
    "\n",
    "So, let's create history data again, now using the right structure"
   ]
  },
  {
   "cell_type": "code",
   "execution_count": 88,
   "metadata": {
    "collapsed": true
   },
   "outputs": [],
   "source": [
    "import numpy as np"
   ]
  },
  {
   "cell_type": "code",
   "execution_count": 89,
   "metadata": {
    "collapsed": true
   },
   "outputs": [],
   "source": [
    "qm = np.array([100, 77, 61, 49.5, 41, 34.5])\n",
    "tsteps = np.arange(6)"
   ]
  },
  {
   "cell_type": "markdown",
   "metadata": {},
   "source": [
    "### plotting"
   ]
  },
  {
   "cell_type": "code",
   "execution_count": 90,
   "metadata": {
    "collapsed": true
   },
   "outputs": [],
   "source": [
    "import matplotlib.pyplot as plt\n",
    "%matplotlib inline"
   ]
  },
  {
   "cell_type": "code",
   "execution_count": 91,
   "metadata": {
    "collapsed": false
   },
   "outputs": [
    {
     "data": {
      "text/plain": [
       "[<matplotlib.lines.Line2D at 0x112ae40f0>]"
      ]
     },
     "execution_count": 91,
     "metadata": {},
     "output_type": "execute_result"
    },
    {
     "data": {
      "image/png": "[encoded data removed]",
      "text/plain": [
       "<matplotlib.figure.Figure at 0x110e005c0>"
      ]
     },
     "metadata": {},
     "output_type": "display_data"
    }
   ],
   "source": [
    "plt.plot(tsteps, qm, \"ro\")"
   ]
  },
  {
   "cell_type": "markdown",
   "metadata": {},
   "source": [
    "- [`plot()` function](http://matplotlib.org/api/pyplot_api.html#matplotlib.pyplot.plot) - documentação da função `plot()`"
   ]
  },
  {
   "cell_type": "markdown",
   "metadata": {},
   "source": [
    "### functions"
   ]
  },
  {
   "cell_type": "markdown",
   "metadata": {},
   "source": [
    "Recaping the hiperbolic decline curve equation\n",
    "\n",
    "$$q = \\frac{q_i}{(1 + n a_i t)^{1/n}}$$\n",
    "\n",
    "Let's write it as a Python funciton:"
   ]
  },
  {
   "cell_type": "code",
   "execution_count": 92,
   "metadata": {
    "collapsed": true
   },
   "outputs": [],
   "source": [
    "def hiperb_decline(t, qi, ai, n):\n",
    "    '''\n",
    "    Calculate instante flow rate of a well using hiperbolic decline\n",
    "    '''\n",
    "    q = qi / (1 + n * ai * t) ** (1 / n)\n",
    "    return q    "
   ]
  },
  {
   "cell_type": "markdown",
   "metadata": {},
   "source": [
    "Testing it:"
   ]
  },
  {
   "cell_type": "code",
   "execution_count": 93,
   "metadata": {
    "collapsed": false
   },
   "outputs": [
    {
     "data": {
      "text/plain": [
       "57.87037037037038"
      ]
     },
     "execution_count": 93,
     "metadata": {},
     "output_type": "execute_result"
    }
   ],
   "source": [
    "hiperb_decline(2, 100, 0.3, 1/3)"
   ]
  },
  {
   "cell_type": "markdown",
   "metadata": {},
   "source": [
    "Our arrays support arithmetic operators, so we could call the above function with a scalar or a vector: "
   ]
  },
  {
   "cell_type": "code",
   "execution_count": 94,
   "metadata": {
    "collapsed": false
   },
   "outputs": [
    {
     "data": {
      "text/plain": [
       "array([ 100.        ,   75.13148009,   57.87037037,   45.51661356,\n",
       "         36.44314869,   29.62962963])"
      ]
     },
     "execution_count": 94,
     "metadata": {},
     "output_type": "execute_result"
    }
   ],
   "source": [
    "hiperb_decline(tsteps, 100, 0.3, 1/3)"
   ]
  },
  {
   "cell_type": "markdown",
   "metadata": {},
   "source": [
    "## Solution (item 1): Fitting well history data\n",
    "\n",
    "We will use [curve_fit][curve-fit] function from [SciPy][scipy-ref] library to find decline curve parameters for our well history data.\n",
    "\n",
    "[scipy-ref]: http://docs.scipy.org/doc/scipy-0.14.0/reference/index.html\n",
    "[curve-fit]: http://docs.scipy.org/doc/scipy-0.16.0/reference/generated/scipy.optimize.curve_fit.html"
   ]
  },
  {
   "cell_type": "code",
   "execution_count": 95,
   "metadata": {
    "collapsed": false
   },
   "outputs": [],
   "source": [
    "import scipy.optimize\n",
    "\n",
    "params, fitted = scipy.optimize.curve_fit(hiperb_decline, tsteps, qm, p0=[100, 0.3, 1/3])\n",
    "qi_fit, ai_fit, n_fit = params"
   ]
  },
  {
   "cell_type": "code",
   "execution_count": 96,
   "metadata": {
    "collapsed": false
   },
   "outputs": [
    {
     "name": "stdout",
     "output_type": "stream",
     "text": [
      "Qi: 100.01\n",
      "Ai: 0.28\n",
      "n:  0.49\n"
     ]
    }
   ],
   "source": [
    "print(\"Qi: %.2f\" % qi_fit)\n",
    "print(\"Ai: %.2f\" % ai_fit)\n",
    "print(\"n:  %.2f\" % n_fit)"
   ]
  },
  {
   "cell_type": "markdown",
   "metadata": {},
   "source": [
    "**Answer 1:** the curve parameters to fit well production history is $Q_i = 100, a_i = 0.28, n = 0.49$\n",
    "\n",
    "Let's plot this curve againts well history data to visualize if it really fits:"
   ]
  },
  {
   "cell_type": "code",
   "execution_count": 97,
   "metadata": {
    "collapsed": false
   },
   "outputs": [
    {
     "data": {
      "text/plain": [
       "<matplotlib.legend.Legend at 0x112e07da0>"
      ]
     },
     "execution_count": 97,
     "metadata": {},
     "output_type": "execute_result"
    },
    {
     "data": {
      "image/png": "[encoded data removed]",
      "text/plain": [
       "<matplotlib.figure.Figure at 0x11136a710>"
      ]
     },
     "metadata": {},
     "output_type": "display_data"
    }
   ],
   "source": [
    "qs = hiperb_decline(tsteps, qi_fit, ai_fit, n_fit)\n",
    "plt.plot(tsteps, qm, \"ro\", label=\"history\")\n",
    "plt.plot(tsteps, qs, \"b-\", label=\"predicted\")\n",
    "plt.xlabel(\"month\")\n",
    "plt.ylabel(\"$m^3/d$\")\n",
    "plt.legend()"
   ]
  },
  {
   "cell_type": "markdown",
   "metadata": {},
   "source": [
    "<img src=\"http://i4.tietuku.cn/634147f5300a430a.jpg\" width=300px>"
   ]
  },
  {
   "cell_type": "markdown",
   "metadata": {},
   "source": [
    "#### Links\n",
    "- [Matplotlib Gallery](http://matplotlib.org/gallery.html) - plot examples with attached source code\n",
    "- [SciPy - Reference Guide](http://docs.scipy.org/doc/scipy/reference/)\n",
    "- [Numpy for Matlab users](https://docs.scipy.org/doc/numpy-dev/user/numpy-for-matlab-users.html#general-purpose-equivalents)"
   ]
  },
  {
   "cell_type": "markdown",
   "metadata": {},
   "source": [
    "### Solution (item 2): Predicting well abandonment\n",
    "\n",
    "We have many possible solutions for this one, but we choose to calculate it using SciPy [root finding][root_finding-ref] functions.\n",
    "\n",
    "Since our break-even is 5 m³std/d, we could find the abandonment time by calculating the zero of the equation when $q = 5$. So, from:\n",
    "\n",
    "$$q = \\frac{q_i}{(1 + n a_i t)^{1/n}}$$\n",
    "\n",
    "we must find the root of: \n",
    "\n",
    "$$\\frac{q_i}{(1 + n a_i t)^{1/n}} - 5$$\n",
    "\n",
    "Let's define this function and find its root using bisection method.\n",
    "\n",
    "[root_finding-ref]: http://docs.scipy.org/doc/scipy/reference/optimize.html#root-finding"
   ]
  },
  {
   "cell_type": "code",
   "execution_count": 98,
   "metadata": {
    "collapsed": false
   },
   "outputs": [
    {
     "name": "stdout",
     "output_type": "stream",
     "text": [
      "Np: 24.35 years\n"
     ]
    }
   ],
   "source": [
    "def abandonment(t, qa, qi, ai, n):\n",
    "    return hiperb_decline(t, qi, ai, n) - qa\n",
    "\n",
    "res = scipy.optimize.bisect(abandonment, 0, 50, (5, 100, 0.28, 0.49))\n",
    "print(\"Np: %.2f years\" % res)"
   ]
  },
  {
   "cell_type": "markdown",
   "metadata": {},
   "source": [
    "**Answer 2:** well abandonment time is 24.35 years"
   ]
  },
  {
   "cell_type": "markdown",
   "metadata": {},
   "source": [
    "### Solution (item 3): Cumulative production until abandonment\n",
    "\n"
   ]
  },
  {
   "cell_type": "code",
   "execution_count": 100,
   "metadata": {
    "collapsed": false
   },
   "outputs": [
    {
     "name": "stdout",
     "output_type": "stream",
     "text": [
      "Np: 200394.16\n"
     ]
    }
   ],
   "source": [
    "import scipy.integrate\n",
    "\n",
    "result, error = scipy.integrate.quad(hiperb_decline, 0, 24.3, (qi_fit, ai_fit, n_fit))\n",
    "Np = result * 365.25 # mult by 365.25 (flow rate is in days, time in years)\n",
    "print(\"Np: %.2f\" % (Np))"
   ]
  },
  {
   "cell_type": "markdown",
   "metadata": {},
   "source": [
    "**Answer 3**: cumulative production until abandonment is **200.394 m3**"
   ]
  },
  {
   "cell_type": "code",
   "execution_count": 83,
   "metadata": {
    "collapsed": false
   },
   "outputs": [
    {
     "data": {
      "text/plain": [
       "<matplotlib.collections.PolyCollection at 0x112c64e48>"
      ]
     },
     "execution_count": 83,
     "metadata": {},
     "output_type": "execute_result"
    },
    {
     "data": {
      "image/png": "[encoded data removed]",
      "text/plain": [
       "<matplotlib.figure.Figure at 0x112aafd68>"
      ]
     },
     "metadata": {},
     "output_type": "display_data"
    }
   ],
   "source": [
    "tsteps_a = np.linspace(0, 24.3)\n",
    "qs_a = hiperb_decline(tsteps_a, qi_fit, ai_fit, n_fit)\n",
    "\n",
    "plt.plot(tsteps_a, qs_a)      # plot predicted data\n",
    "plt.plot(tsteps, qm, \"ro\")    # plot history data\n",
    "plt.xlabel(\"months\")            \n",
    "plt.ylabel(\"$m^3/d $\")\n",
    "plt.title(\"Well Production\")\n",
    "# And an anotation with well total production, note we could use TeX\n",
    "plt.annotate(r\"$N_p = %.0f m^3std$\" % Np, xy=(0.3, 0.5), xycoords='figure fraction', size=16)  \n",
    "# Color fill predicted data curve\n",
    "plt.fill_between(tsteps_a, qs_a, 0, facecolor=\"g\", alpha=0.3)\n",
    "# plt.savefig(\"declinio.png\", dpi=300)"
   ]
  },
  {
   "cell_type": "markdown",
   "metadata": {},
   "source": [
    "### Bonus Round"
   ]
  },
  {
   "cell_type": "code",
   "execution_count": 106,
   "metadata": {
    "collapsed": false
   },
   "outputs": [
    {
     "name": "stdout",
     "output_type": "stream",
     "text": [
      "Brent Crude Oil: U$ 47.84\n"
     ]
    }
   ],
   "source": [
    "import yahoo_finance\n",
    "\n",
    "brent_share = yahoo_finance.Share(\"BZN16.NYM\")\n",
    "brent_price = float(brent_share.get_price())\n",
    "print(\"Brent Crude Oil: U$ %.2f\" % float(brent_price))"
   ]
  },
  {
   "cell_type": "code",
   "execution_count": 112,
   "metadata": {
    "collapsed": false
   },
   "outputs": [
    {
     "name": "stdout",
     "output_type": "stream",
     "text": [
      "Well predicted Np: U$ 60299512.59\n"
     ]
    }
   ],
   "source": [
    "m3tobrl = 6.28981077\n",
    "Np_usd = Np * m3tobrl * brent_price\n",
    "print(\"Well predicted Np: U$ %.2f\" % Np_usd)"
   ]
  },
  {
   "cell_type": "code",
   "execution_count": null,
   "metadata": {
    "collapsed": true
   },
   "outputs": [],
   "source": []
  }
 ],
 "metadata": {
  "kernelspec": {
   "display_name": "Python 3",
   "language": "python",
   "name": "python3"
  },
  "language_info": {
   "codemirror_mode": {
    "name": "ipython",
    "version": 3
   },
   "file_extension": ".py",
   "mimetype": "text/x-python",
   "name": "python",
   "nbconvert_exporter": "python",
   "pygments_lexer": "ipython3",
   "version": "3.5.1"
  }
 },
 "nbformat": 4,
 "nbformat_minor": 0
}
