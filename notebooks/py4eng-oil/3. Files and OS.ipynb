{
 "cells": [
  {
   "cell_type": "markdown",
   "metadata": {},
   "source": [
    "# Hands On\n",
    "\n",
    "## Dealing with the File System\n",
    "\n",
    "Python has the module [os](os-ref) to deal with the file system. We will demonstrate some commands below, but it's recommended that you check the [full documentation](os-ref).\n",
    "\n",
    "[os-ref]: https://docs.python.org/3.5/library/os.html"
   ]
  },
  {
   "cell_type": "code",
   "execution_count": 1,
   "metadata": {
    "collapsed": true
   },
   "outputs": [],
   "source": [
    "import os"
   ]
  },
  {
   "cell_type": "code",
   "execution_count": 2,
   "metadata": {
    "collapsed": false
   },
   "outputs": [
    {
     "data": {
      "text/plain": [
       "'/Users/igortg/Dev/projects/py4eng-course/notebooks/py4eng-oil'"
      ]
     },
     "execution_count": 2,
     "metadata": {},
     "output_type": "execute_result"
    }
   ],
   "source": [
    "os.getcwd()"
   ]
  },
  {
   "cell_type": "code",
   "execution_count": 4,
   "metadata": {
    "collapsed": false
   },
   "outputs": [
    {
     "data": {
      "text/plain": [
       "True"
      ]
     },
     "execution_count": 4,
     "metadata": {},
     "output_type": "execute_result"
    }
   ],
   "source": [
    "os.path.isdir(\"/dev\")"
   ]
  },
  {
   "cell_type": "code",
   "execution_count": 30,
   "metadata": {
    "collapsed": false
   },
   "outputs": [],
   "source": [
    "temp_dir = os.path.expanduser('~/Documents/temp-py4eng')\n",
    "\n",
    "if not os.path.isdir(temp_dir):\n",
    "    os.mkdir(temp_dir)\n",
    "\n",
    "text_filename = os.path.join(temp_dir, 'my-text.txt')"
   ]
  },
  {
   "cell_type": "code",
   "execution_count": 28,
   "metadata": {
    "collapsed": false
   },
   "outputs": [
    {
     "data": {
      "text/plain": [
       "'/Users/igortg/Documents/temp-py4eng/my-text.txt'"
      ]
     },
     "execution_count": 28,
     "metadata": {},
     "output_type": "execute_result"
    }
   ],
   "source": [
    "text_filename"
   ]
  },
  {
   "cell_type": "markdown",
   "metadata": {},
   "source": [
    "**Creating a new file**"
   ]
  },
  {
   "cell_type": "code",
   "execution_count": 31,
   "metadata": {
    "collapsed": false
   },
   "outputs": [],
   "source": [
    "endl = '\\n'\n",
    "with open(text_filename, 'w') as text_file:\n",
    "    text_file.write('Dealing whit files in Python' + endl)\n",
    "    text_file.write('is pretty easy' + endl)\n",
    "    text_file.write('-- end --' + endl)"
   ]
  },
  {
   "cell_type": "markdown",
   "metadata": {},
   "source": [
    "**Reading**"
   ]
  },
  {
   "cell_type": "code",
   "execution_count": 32,
   "metadata": {
    "collapsed": false
   },
   "outputs": [
    {
     "name": "stdout",
     "output_type": "stream",
     "text": [
      "Dealing whit files in Python\n",
      "is pretty easy\n",
      "-- end --\n",
      "\n"
     ]
    }
   ],
   "source": [
    "contents = ''\n",
    "with open(text_filename, 'r') as text_file:\n",
    "    for line in text_file:\n",
    "        contents += line\n",
    "print(contents)"
   ]
  },
  {
   "cell_type": "markdown",
   "metadata": {},
   "source": [
    "<font color='red'>**Open a file in an unsafe form**</font>\n",
    "```python\n",
    "text_file = open(texto_filename)\n",
    "```"
   ]
  },
  {
   "cell_type": "markdown",
   "metadata": {},
   "source": [
    "**Cleaning up**"
   ]
  },
  {
   "cell_type": "code",
   "execution_count": 36,
   "metadata": {
    "collapsed": false
   },
   "outputs": [
    {
     "ename": "OSError",
     "evalue": "[Errno 66] Directory not empty: '/Users/igortg/Documents/temp-py4eng'",
     "output_type": "error",
     "traceback": [
      "\u001b[0;31m---------------------------------------------------------------------------\u001b[0m",
      "\u001b[0;31mOSError\u001b[0m                                   Traceback (most recent call last)",
      "\u001b[0;32m<ipython-input-36-d541deaf313e>\u001b[0m in \u001b[0;36m<module>\u001b[0;34m()\u001b[0m\n\u001b[0;32m----> 1\u001b[0;31m \u001b[0mos\u001b[0m\u001b[0;34m.\u001b[0m\u001b[0mrmdir\u001b[0m\u001b[0;34m(\u001b[0m\u001b[0mtemp_dir\u001b[0m\u001b[0;34m)\u001b[0m\u001b[0;34m\u001b[0m\u001b[0m\n\u001b[0m",
      "\u001b[0;31mOSError\u001b[0m: [Errno 66] Directory not empty: '/Users/igortg/Documents/temp-py4eng'"
     ]
    }
   ],
   "source": [
    "os.rmdir(temp_dir)"
   ]
  },
  {
   "cell_type": "markdown",
   "metadata": {},
   "source": [
    "Directory is not empty, let's appeal to [shutil](shutil-ref) module.\n",
    "\n",
    "[shutil-ref]: https://docs.python.org/3.5/library/shutil.html"
   ]
  },
  {
   "cell_type": "code",
   "execution_count": 37,
   "metadata": {
    "collapsed": true
   },
   "outputs": [],
   "source": [
    "import shutil\n",
    "shutil.rmtree(temp_dir)  # watch out, will remove without asking"
   ]
  },
  {
   "cell_type": "markdown",
   "metadata": {},
   "source": [
    "## Spreadsheet files"
   ]
  },
  {
   "cell_type": "markdown",
   "metadata": {},
   "source": [
    "We could read spreadsheets using [openpyxl](https://openpyxl.readthedocs.org/en/latest/) lib."
   ]
  },
  {
   "cell_type": "code",
   "execution_count": 42,
   "metadata": {
    "collapsed": true
   },
   "outputs": [],
   "source": [
    "import openpyxl"
   ]
  },
  {
   "cell_type": "code",
   "execution_count": 43,
   "metadata": {
    "collapsed": false
   },
   "outputs": [
    {
     "data": {
      "text/plain": [
       "'t (ano)'"
      ]
     },
     "execution_count": 43,
     "metadata": {},
     "output_type": "execute_result"
    }
   ],
   "source": [
    "wb = openpyxl.load_workbook(filename='../resource/well.xlsx')\n",
    "sheet = wb.active\n",
    "sheet.cell(\"A1\").value"
   ]
  },
  {
   "cell_type": "markdown",
   "metadata": {},
   "source": [
    "Reading them into arrays"
   ]
  },
  {
   "cell_type": "code",
   "execution_count": 44,
   "metadata": {
    "collapsed": true
   },
   "outputs": [],
   "source": [
    "m = []\n",
    "t = []\n",
    "\n",
    "for row in sheet.rows[1:]:\n",
    "    t.append(int(row[0].value))\n",
    "    m.append(row[1].value)\n",
    "\n",
    "t = np.array(t)\n",
    "m = np.array(m)"
   ]
  },
  {
   "cell_type": "code",
   "execution_count": 45,
   "metadata": {
    "collapsed": false
   },
   "outputs": [
    {
     "name": "stdout",
     "output_type": "stream",
     "text": [
      "[0 1 2 3 4 5] [ 100.    77.    61.    49.5   41.    34.5]\n"
     ]
    }
   ],
   "source": [
    "print(t, m)"
   ]
  },
  {
   "cell_type": "markdown",
   "metadata": {},
   "source": [
    "## Running external programs"
   ]
  },
  {
   "cell_type": "markdown",
   "metadata": {},
   "source": [
    "To running external programs, we use the [subprocess](https://docs.python.org/3.4/library/subprocess.html) module."
   ]
  },
  {
   "cell_type": "code",
   "execution_count": null,
   "metadata": {
    "collapsed": false
   },
   "outputs": [],
   "source": [
    "import subprocess\n",
    "\n",
    "ret = subprocess.call('notepad')\n",
    "if ret == 0:\n",
    "    print('success')"
   ]
  },
  {
   "cell_type": "markdown",
   "metadata": {},
   "source": [
    "## Exercise - Kriging Experiment\n",
    "\n",
    "As an exercise, let's run a kriging with the program [KB2D](http://www.statios.com/Resources/05-kriging.pdf) from [GSLIB](http://www.gslib.com/).\n",
    "\n",
    "**Part 1**: run kriging with the available samples and create a function that read the results to an array.\n",
    "\n",
    "Tips:\n",
    "\n",
    "- Use `split()` function to divide a line of the file by the white spaces\n",
    "- The kriging grid size from the sample is 25x25. Initialize your arrays with the right size\n",
    "- USe the above code to plot the results\n",
    "\n",
    "```python\n",
    "result = ...  # array read from the file\n",
    "\n",
    "xi = np.linspace(0, 25 * 2.0, 25)\n",
    "yi = np.linspace(0, 25 * 2.0, 25)\n",
    "plt.contourf(xi, yi, results.reshape(25,25))    \n",
    "plt.colorbar()\n",
    "```\n",
    "\n",
    "![Resultado da Krigagem](../resource/kriging.png)\n",
    "\n",
    "**Part 2**: create a template file and use it to do kriging runs by varying max. and min. reachs (a_max, a_min)."
   ]
  },
  {
   "cell_type": "code",
   "execution_count": null,
   "metadata": {
    "collapsed": true
   },
   "outputs": [],
   "source": []
  }
 ],
 "metadata": {
  "kernelspec": {
   "display_name": "Python 3",
   "language": "python",
   "name": "python3"
  },
  "language_info": {
   "codemirror_mode": {
    "name": "ipython",
    "version": 3
   },
   "file_extension": ".py",
   "mimetype": "text/x-python",
   "name": "python",
   "nbconvert_exporter": "python",
   "pygments_lexer": "ipython3",
   "version": "3.5.1"
  }
 },
 "nbformat": 4,
 "nbformat_minor": 0
}
