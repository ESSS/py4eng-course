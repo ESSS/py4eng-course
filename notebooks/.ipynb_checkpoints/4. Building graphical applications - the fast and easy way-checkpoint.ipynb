{
 "metadata": {
  "name": ""
 },
 "nbformat": 3,
 "nbformat_minor": 0,
 "worksheets": [
  {
   "cells": [
    {
     "cell_type": "markdown",
     "metadata": {},
     "source": [
      "Building Graphical Applications - the fast and easy way\n",
      "=======================================================\n",
      "\n",
      "## Qt and the guidata package\n",
      "\n",
      "In this step we'll create a simple graphical application using the [guidata](https://code.google.com/p/guidata/) package. **guidata** defines a high level API to create graphical windows in [Qt](http://qt.digia.com). **Qt** is a complete cross-platform library to build applications and graphical interfaces. To learn **Qt** we would need more time to get some depth knowledge in UI application concepts. So, let's stick with the powerfull and simple **guidata** for now."
     ]
    },
    {
     "cell_type": "markdown",
     "metadata": {},
     "source": [
      "## A very simple GUI\n",
      "\n",
      "To create a window using guidata, first we define a class inheriting from *DataSet* and define the parameters we want to ask the user."
     ]
    },
    {
     "cell_type": "code",
     "collapsed": false,
     "input": [
      "from guidata.dataset.datatypes import DataSet\n",
      "from guidata.dataset.dataitems import FloatItem\n",
      "\n",
      "class OptimizationInput(DataSet):\n",
      "    \n",
      "    stress_ratio = FloatItem('Stress Ratio', default=3.0)\n",
      "    copper_initial = FloatItem('Copper Initial Cross-section', min=0.1, max=1.0, default=0.5)\n",
      "    steel_initial = FloatItem('Steel Initial Cross-section', min=0.1, max=1.0, default=0.5)\n",
      "\n"
     ],
     "language": "python",
     "metadata": {},
     "outputs": []
    },
    {
     "cell_type": "markdown",
     "metadata": {},
     "source": [
      "Now we create our window and call `edit()` method to show it up."
     ]
    },
    {
     "cell_type": "code",
     "collapsed": false,
     "input": [
      "import guidata\n",
      "\n",
      "app = guidata.qapplication()\n",
      "optinput = OptimizationInput()\n",
      "is_ok = optinput.edit()"
     ],
     "language": "python",
     "metadata": {},
     "outputs": []
    },
    {
     "cell_type": "markdown",
     "metadata": {},
     "source": [
      "![](files/resource/optimization_input.png)"
     ]
    },
    {
     "cell_type": "markdown",
     "metadata": {},
     "source": [
      "If the *OK* button is pressed, `is_ok` variable will get a True value. Then you could access the given values through the optinput object:"
     ]
    },
    {
     "cell_type": "code",
     "collapsed": false,
     "input": [
      "if is_ok:\n",
      "    print optinput.stress_ratio\n",
      "    print optinput.copper_initial\n",
      "    print optinput.steel_initial"
     ],
     "language": "python",
     "metadata": {},
     "outputs": []
    },
    {
     "cell_type": "markdown",
     "metadata": {},
     "source": [
      "## Creating an Executable\n",
      "\n",
      "For simple command line scripts, creating a standalone Windows executable is not a big deal. Let's say we have the code below saved in the file \"hello.py\""
     ]
    },
    {
     "cell_type": "code",
     "collapsed": false,
     "input": [
      "if __name__ == \"__main__\":\n",
      "    name = raw_input(\"Type your name: \")\n",
      "    print \"Hellow %s\" % name"
     ],
     "language": "python",
     "metadata": {},
     "outputs": []
    },
    {
     "cell_type": "markdown",
     "metadata": {},
     "source": [
      "In the same directory we create a \"setup.py\" file describing what we want to pack: "
     ]
    },
    {
     "cell_type": "code",
     "collapsed": true,
     "input": [
      "import sys\n",
      "from cx_Freeze import setup, Executable\n",
      "\n",
      "setup(name = \"hello\",\n",
      "      executables = [Executable(\"hello.py\")])"
     ],
     "language": "python",
     "metadata": {},
     "outputs": []
    },
    {
     "cell_type": "markdown",
     "metadata": {},
     "source": [
      "Then we open a the WinPython Command Prompt (on the root of your WinPython installation), change to the script directory and type:\n",
      "\n",
      "    python setup.py build\n",
      "    \n",
      "A directory \"build\" will be created. Inside it you will have Python compiled files and the \"hello.exe\".\n",
      "\n",
      "To see more options for the setup script, check the sample [A Richer GUI]()"
     ]
    }
   ],
   "metadata": {}
  }
 ]
}