{
 "metadata": {
  "name": ""
 },
 "nbformat": 3,
 "nbformat_minor": 0,
 "worksheets": [
  {
   "cells": [
    {
     "cell_type": "markdown",
     "metadata": {},
     "source": [
      "Building Graphical Applications - the fast and easy way\n",
      "=======================================================\n",
      "\n",
      "## Qt and the guidata package\n",
      "\n",
      "In this chapter we'll create a simple graphical application using the [guidata](https://code.google.com/p/guidata/) package. **guidata** defines a high level API to create graphical windows.  So, let's stick with the powerfull and simple **guidata** for now."
     ]
    },
    {
     "cell_type": "markdown",
     "metadata": {},
     "source": [
      "## A very simple GUI\n",
      "\n",
      "To create a window using guidata, first we define a class inheriting from *DataSet* and define the parameters we want to ask the user. Then we call `edit()` method to show it up."
     ]
    },
    {
     "cell_type": "code",
     "collapsed": false,
     "input": [
      "import guidata\n",
      "from guidata.dataset.datatypes import DataSet\n",
      "from guidata.dataset.dataitems import FloatItem\n",
      "\n",
      "# Define my dialog\n",
      "class OptimizationInput(DataSet):\n",
      "    \n",
      "    stress_ratio = FloatItem('Stress Ratio', default=3.0)\n",
      "    copper_initial = FloatItem('Copper Initial Cross-section', min=0.1, max=1.0, default=0.5)\n",
      "    steel_initial = FloatItem('Steel Initial Cross-section', min=0.1, max=1.0, default=0.5)\n",
      "\n",
      "    \n",
      "    \n",
      "app = guidata.qapplication()\n",
      "optinput = OptimizationInput()\n",
      "if optinput.edit():\n",
      "    print optinput.stress_ratio\n",
      "    print optinput.copper_initial\n",
      "    print optinput.steel_initial"
     ],
     "language": "python",
     "metadata": {},
     "outputs": []
    },
    {
     "cell_type": "markdown",
     "metadata": {},
     "source": [
      "![](files/resource/optimization_input.png)"
     ]
    },
    {
     "cell_type": "markdown",
     "metadata": {},
     "source": [
      "If the *OK* button is pressed, `is_ok` variable will get a True value. Then you could access the given values through the `optinput` object:"
     ]
    },
    {
     "cell_type": "markdown",
     "metadata": {},
     "source": [
      "## Creating an Executable\n",
      "\n",
      "For simple command line scripts, creating a standalone Windows executable is not a big deal. Let's say we have the code below saved in the file \"hello.py\""
     ]
    },
    {
     "cell_type": "code",
     "collapsed": false,
     "input": [
      "if __name__ == \"__main__\":\n",
      "    name = raw_input(\"Type your name: \")\n",
      "    print \"Hellow %s\" % name"
     ],
     "language": "python",
     "metadata": {},
     "outputs": []
    },
    {
     "cell_type": "markdown",
     "metadata": {},
     "source": [
      "In the same directory we create a \"setup.py\" file describing what we want to pack: "
     ]
    },
    {
     "cell_type": "code",
     "collapsed": true,
     "input": [
      "import sys\n",
      "from cx_Freeze import setup, Executable\n",
      "\n",
      "setup(name = \"hello\",\n",
      "      executables = [Executable(\"hello.py\")])"
     ],
     "language": "python",
     "metadata": {},
     "outputs": []
    },
    {
     "cell_type": "markdown",
     "metadata": {},
     "source": [
      "Open the *WinPython Command Prompt* (on the root of your WinPython installation), change to the script directory and type:\n",
      "\n",
      "    python setup.py build\n",
      "    \n",
      "A directory \"build\" will be created. Inside it you will have Python compiled files and the \"hello.exe\".\n",
      "\n",
      "To see more options for the setup script, check the sample [A Richer GUI]()"
     ]
    },
    {
     "cell_type": "markdown",
     "metadata": {},
     "source": [
      "### Creating Executable for GUI scripts\n",
      "\n",
      "*guidata* library provides a Distribution helper class to embed all necessary resources into the executable. You could go on based on the sample below (obtained on *guidata* documentation)."
     ]
    },
    {
     "cell_type": "code",
     "collapsed": false,
     "input": [
      "# Copyright \u00a9 2009-2010 CEA\n",
      "# Pierre Raybaut\n",
      "# Licensed under the terms of the CECILL License\n",
      "# (see guidata/__init__.py for details)\n",
      "\n",
      "\n",
      "from guidata.disthelpers import Distribution\n",
      "\n",
      "if __name__ == '__main__':\n",
      "    dist = Distribution()\n",
      "    dist.setup(name=\"Application demo\", version='1.0.0',\n",
      "               description=\"Application demo based on editgroupbox.py\",\n",
      "               script=\"editgroupbox.py\", target_name=\"demo.exe\")\n",
      "    dist.add_modules('guidata')\n",
      "    dist.build('cx_Freeze')"
     ],
     "language": "python",
     "metadata": {},
     "outputs": []
    },
    {
     "cell_type": "markdown",
     "metadata": {},
     "source": [
      "<center>__... End of Chapter ...__</center>"
     ]
    }
   ],
   "metadata": {}
  }
 ]
}