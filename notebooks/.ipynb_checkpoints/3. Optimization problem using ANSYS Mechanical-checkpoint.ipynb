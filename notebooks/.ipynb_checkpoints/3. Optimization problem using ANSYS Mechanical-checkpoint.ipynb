{
 "metadata": {
  "name": ""
 },
 "nbformat": 3,
 "nbformat_minor": 0,
 "worksheets": [
  {
   "cells": [
    {
     "cell_type": "markdown",
     "metadata": {},
     "source": [
      "## Beam Support Optimizer\n",
      "\n",
      "In this exercise we'll implement an optimizer for a thermally loaded support structure (ANSYS Mechanical\u00ae Verification Test Case 3). The objective is to adjust wires cross-sectional area until the stress on copper wires are 3x lower than stress in steel wire.\n",
      "\n",
      "![](https://www.sharcnet.ca/Software/Fluent14/help/ans_vm/graphics/gvm3-1.png)\n",
      "\n",
      "Basically we'll implement Python functions for:\n",
      "\n",
      "1. Create the ANSYS Mechanical\u00ae case file from wires cross-section area values\n",
      "1. Run ANSYS Mechanical\u00ae simulation\n",
      "1. Read the stress results\n",
      "\n",
      "Then merge the 3 steps above in one function and give it to the optimizer."
     ]
    },
    {
     "cell_type": "markdown",
     "metadata": {},
     "source": [
      "### Using Template files\n",
      "\n",
      "First thing, we'll use the original case file to create a template. *Save as* [vm3.dat](files/resource/vm3.dat) file and replace cross section values (SECDATA parameters) for keywords, using \"$\" char as below."
     ]
    },
    {
     "cell_type": "raw",
     "metadata": {},
     "source": [
      "<pre><code>...\n",
      "ET,1,LINK180\n",
      "SECTYPE,1,LINK\n",
      "SECDATA,$copper_area      ! REPLACING ORIGINAL VALUE OF COPPER CROSS-SECTION AREA\n",
      "SECTYPE,2,LINK\n",
      "SECDATA,$steel_area       ! REPLACING ORIGINAL VALUE OF STEEK CROSS-SECTION AREA\n",
      "MP,EX,1,16E6\n",
      "...</code></pre>"
     ]
    },
    {
     "cell_type": "markdown",
     "metadata": {},
     "source": [
      "Then we create a Python function which gets the template file contents, replace keywords with valid values and create a new file."
     ]
    },
    {
     "cell_type": "code",
     "collapsed": false,
     "input": [
      "from string import Template\n",
      "\n",
      "def create_from_template(template_filename, output_filename, keyword_values):\n",
      "    \"\"\"\n",
      "    Create a new file by replacing keywords in a given template file\n",
      "    \"\"\"\n",
      "    template_file = open(template_filename, \"r\")\n",
      "    # God Practice: always close a file\n",
      "    try:\n",
      "        template_content = template_file.read()\n",
      "        template = Template(template_content)\n",
      "        content = template.substitute(keyword_values)\n",
      "    finally:\n",
      "        template_file.close()\n",
      "    \n",
      "    output_file = open(output_filename, \"w\")\n",
      "    try:\n",
      "        output_file.write(content)\n",
      "    finally:\n",
      "        output_file.close()"
     ],
     "language": "python",
     "metadata": {},
     "outputs": []
    },
    {
     "cell_type": "markdown",
     "metadata": {},
     "source": [
      "Call the function and see if it works ([vm3.out.dat](files/resource/vm3.out.dat) file should be created with the given cross section values):"
     ]
    },
    {
     "cell_type": "raw",
     "metadata": {},
     "source": [
      "// Add ceveat about file paths"
     ]
    },
    {
     "cell_type": "code",
     "collapsed": true,
     "input": [
      "areas = {}\n",
      "areas[\"copper_area\"] = 0.32\n",
      "areas[\"steel_area\"] = 0.18\n",
      "create_from_template(\"vm3.tpl\", \"vm3.out.dat\", areas)"
     ],
     "language": "python",
     "metadata": {},
     "outputs": []
    },
    {
     "cell_type": "markdown",
     "metadata": {},
     "source": [
      "### Running ANSYS Mechanical\n",
      "\n",
      "Now we'll use Python [subprocess module](http://docs.python.org/2/library/subprocess.html) to run a simulation in batch mode. Using [subprocess.call](http://docs.python.org/2/library/subprocess.html#subprocess.call) function we could execute any system executable within a Python script. The command parameters is given by a Python list. See below."
     ]
    },
    {
     "cell_type": "code",
     "collapsed": false,
     "input": [
      "import subprocess\n",
      "import os\n",
      "\n",
      "\n",
      "def run_ansys(input_filename, output_filename):\n",
      "    job_name = \"vm3-optimz\"\n",
      "    cmd_params = [\n",
      "        r\"C:\\Program Files\\ANSYS Inc\\v145\\ANSYS\\bin\\winx64\\ansys145.exe\",\n",
      "        \"-b\",\n",
      "        \"-p\",\n",
      "        \"ane3fl\",\n",
      "        \"-j\",\n",
      "        job_name,\n",
      "        \"-i\",\n",
      "        input_filename,\n",
      "        \"-o\",\n",
      "        output_filename,\n",
      "    ]\n",
      "    subprocess.call(cmd_params, cwd=os.path.dirname(input_filename))"
     ],
     "language": "python",
     "metadata": {},
     "outputs": []
    },
    {
     "cell_type": "markdown",
     "metadata": {},
     "source": [
      "### Post-processing results\n",
      "\n",
      "Our case file was designed to print the stream forces as output, like above:"
     ]
    },
    {
     "cell_type": "raw",
     "metadata": {},
     "source": [
      "<pre><code>------------------- VM3 RESULTS ---------------------\n",
      "\n",
      "STRSS_ST (psi)             19695.\n",
      "STRSS_CO (psi)             10152.\n",
      "</code></pre>"
     ]
    },
    {
     "cell_type": "markdown",
     "metadata": {},
     "source": [
      "Read [Chapter 3c: Regular Expressions](3c.%20Regular%20Expressions.ipynb) and try to implement a function to parse the Stress values from the above text."
     ]
    },
    {
     "cell_type": "markdown",
     "metadata": {},
     "source": [
      "### Exercise 3: Implementing an Optimizer for the Beam Support case\n",
      "\n",
      "As explained, our objective is to adjust wires cross-sectional area until the stress on copper wires are 3x lower than stress in steel wires.\n",
      "\n",
      "We'll use function [minimize](http://docs.scipy.org/doc/scipy/reference/generated/scipy.optimize.minimize.html#scipy.optimize.minimize) of [scipy.optimize](http://docs.scipy.org/doc/scipy/reference/tutorial/optimize.html) module. [Minimize](http://docs.scipy.org/doc/scipy/reference/generated/scipy.optimize.minimize.html#scipy.optimize.minimize) call the objective function passing an array of values (optimization variables) several times, in an attemp to minimize the returning value.\n",
      "\n",
      "Implement a function named `evaluate` which receive an array of two values (copper and steel wires cross-section area) and return the cost of materials. The function must\n",
      "\n",
      "* Create the Mechanical case file from the template file assigning cross-section area values\n",
      "* Run ANSYS Mechanical simulation for the case file\n",
      "* Read stress results from output file\n",
      "* Return the stress ratio of copper and steel\n",
      "\n",
      "Then call [minimize](http://docs.scipy.org/doc/scipy/reference/generated/scipy.optimize.minimize.html#scipy.optimize.minimize) and pass the created function as 1st parameter. Setting the correct optimizer parameters could be tricky, so use the following function when you're done."
     ]
    },
    {
     "cell_type": "code",
     "collapsed": false,
     "input": [
      "def optimize():\n",
      "    res = minimize(\n",
      "        evaluate, # Function we create to evalute steel/copper stress\n",
      "        (0.2, 0.5),\n",
      "        method=\"COBYLA\",\n",
      "        constraints =[{'type': 'ineq', 'fun': lambda x: x[0] - 0.1},\n",
      "                      {'type': 'ineq', 'fun': lambda x: x[1] - 0.1},\n",
      "                      {'type': 'ineq', 'fun': lambda x: 1 - x[0]},\n",
      "        ],\n",
      "        options={'disp': True, 'maxiter': 20},\n",
      "        )\n",
      "    return res\n"
     ],
     "language": "python",
     "metadata": {},
     "outputs": [],
     "prompt_number": 1
    },
    {
     "cell_type": "markdown",
     "metadata": {},
     "source": [
      "<center>__... End of Chapter ...__</center>"
     ]
    }
   ],
   "metadata": {}
  }
 ]
}