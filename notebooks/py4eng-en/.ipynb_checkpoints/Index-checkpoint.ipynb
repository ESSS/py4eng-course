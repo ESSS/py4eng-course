{
 "metadata": {
  "name": ""
 },
 "nbformat": 3,
 "nbformat_minor": 0,
 "worksheets": [
  {
   "cells": [
    {
     "cell_type": "markdown",
     "metadata": {},
     "source": [
      "# Python 4 Engineers - 1-day training"
     ]
    },
    {
     "cell_type": "markdown",
     "metadata": {},
     "source": [
      "[1. Python Basics](1.%20Python%20Basics.ipynb)\n",
      "\n",
      "[2. The Scipy Stack](2.%20The%20Scipy%20stack.ipynb)\n",
      "\n",
      "[3. Optimization problem using ANSYS Mechanical](3.%20Optimization%20problem%20using%20ANSYS%20Mechanical.ipynb)\n",
      "\n",
      "[3c. Regular Expressions](3c.%20Regular%20Expressions.ipynb)\n",
      "\n",
      "[4. Building Graphical Applications - the fast and easy way](4.%20Building%20graphical%20applications%20-%20the%20fast%20and%20easy%20way.ipynb)\n"
     ]
    }
   ],
   "metadata": {}
  }
 ]
}