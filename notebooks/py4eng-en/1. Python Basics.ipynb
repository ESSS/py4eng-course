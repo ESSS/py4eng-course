{
 "cells": [
  {
   "cell_type": "markdown",
   "metadata": {},
   "source": [
    "# Python Basics\n",
    "\n",
    "> *Python’s elegant syntax and dynamic typing, together with its interpreted nature, make it an ideal language for scripting and rapid application development in many areas on most platforms* -- Python v2.7.2 Manual\n",
    "\n",
    "### Where Python Excels:\n",
    "\n",
    "+ Easy, concise, elegant and powerfull\n",
    "+ Batteries included\n",
    "+ Multi-platform (Windows, Linux, OSX)\n",
    "+ Large open source library collection for scientific computation (see [Python(x,y) Package Index](https://code.google.com/p/pythonxy/wiki/StandardPlugins))\n",
    "\n",
    "### Where it falls short:\n",
    "\n",
    "+ Performance (not if we use the right libraries, like [NumPy](http://www.numpy.org/))\n",
    "+ No compile-time error check\n",
    "+ Deployment could be painfull (specially on Windows)\n",
    "\n",
    "## IDEs\n",
    "\n",
    "+ Vi, Notepad++ (__#not__)\n",
    "+ [Spyder](https://code.google.com/p/spyderlib/) (MATLAB® like IDE) - intended to be used in this course\n",
    "+ [PyCharm](http://www.jetbrains.com/pycharm/) or [Eclipse w/ PyDev](http://www.eclipse.org/) (for a more application driven development)\n"
   ]
  },
  {
   "cell_type": "markdown",
   "metadata": {},
   "source": [
    "# Installation\n",
    "\n",
    "1. Download *Miniconda* at https://conda.io/miniconda.html\n",
    "1. Open **Anaconda Prompt** on Start Menu\n",
    "1. Type: `conda install spyder`\n",
    "1. Start **Spyder** from the Start Menu\n",
    "\n",
    "Instead of installing Python directly, we'll be using [Conda](https://conda.io/docs/index.html) - a package management system that bundles a Python distribution and facilitates the installation of Python Scientific Libraries. We then use Conda to install [Spyder](https://pythonhosted.org/spyder/) - a MATLAB like development interface.\n",
    "\n",
    "**Important Shortcuts (Windows)**\n",
    "\n",
    "- F5 - Run selected file\n",
    "- Ctrl+Space - Code completion\n",
    "- Ctrl+1 - Line comment\n",
    "- Ctrl+I - Show docs\n",
    "- Ctrl+Shift+I - Set focus on Console\n",
    "- Ctrl+Shift+V - Set focus on Variable Explorer\n",
    "- Ctrl+Shift+E - Set focus on File editor"
   ]
  },
  {
   "cell_type": "markdown",
   "metadata": {},
   "source": [
    "# Coding\n",
    "\n",
    "Starting with **hello world**, as usual:"
   ]
  },
  {
   "cell_type": "code",
   "execution_count": null,
   "metadata": {},
   "outputs": [],
   "source": [
    "print(\"Hello World\")"
   ]
  },
  {
   "cell_type": "markdown",
   "metadata": {},
   "source": [
    "You could type operations in the command line, and Python will output the result"
   ]
  },
  {
   "cell_type": "code",
   "execution_count": 2,
   "metadata": {},
   "outputs": [
    {
     "data": {
      "text/plain": [
       "77"
      ]
     },
     "execution_count": 2,
     "metadata": {},
     "output_type": "execute_result"
    }
   ],
   "source": [
    "12 + 3 + 64 - 2"
   ]
  },
  {
   "cell_type": "markdown",
   "metadata": {},
   "source": [
    "More math operations:"
   ]
  },
  {
   "cell_type": "code",
   "execution_count": 15,
   "metadata": {},
   "outputs": [
    {
     "data": {
      "text/plain": [
       "73.0"
      ]
     },
     "execution_count": 15,
     "metadata": {},
     "output_type": "execute_result"
    }
   ],
   "source": [
    "14.6 * 10 / 2"
   ]
  },
  {
   "cell_type": "code",
   "execution_count": 3,
   "metadata": {},
   "outputs": [
    {
     "data": {
      "text/plain": [
       "8"
      ]
     },
     "execution_count": 3,
     "metadata": {},
     "output_type": "execute_result"
    }
   ],
   "source": [
    "2 ** 3       # power"
   ]
  },
  {
   "cell_type": "code",
   "execution_count": 2,
   "metadata": {},
   "outputs": [],
   "source": [
    "import math  # Module math should be included"
   ]
  },
  {
   "cell_type": "code",
   "execution_count": 18,
   "metadata": {},
   "outputs": [
    {
     "data": {
      "text/plain": [
       "1.0"
      ]
     },
     "execution_count": 18,
     "metadata": {},
     "output_type": "execute_result"
    }
   ],
   "source": [
    "math.sin(math.pi/2)"
   ]
  },
  {
   "cell_type": "markdown",
   "metadata": {},
   "source": [
    "Type `math` in the Spyder editor and then `Ctrl+Space`, choose a function and then `Ctrl+I`"
   ]
  },
  {
   "cell_type": "markdown",
   "metadata": {},
   "source": [
    "## Data Structures\n",
    "\n",
    "Python comes with some basic structures. Let's start with the main ones:\n",
    "\n",
    "+ Lists - a collection of \"things\" that could be indexed\n",
    "+ Dicts - maps a \"key\" to a value\n",
    "+ Sets - collections with support for set operations (union, intersection)\n",
    "+ Tuples - like lists, but you can't change them after created\n",
    "+ Arrays (later)"
   ]
  },
  {
   "cell_type": "markdown",
   "metadata": {},
   "source": [
    "### Lists"
   ]
  },
  {
   "cell_type": "code",
   "execution_count": 5,
   "metadata": {},
   "outputs": [
    {
     "name": "stdout",
     "output_type": "stream",
     "text": [
      "Fruit 0:  apple\n",
      "numbers using range():  [1, 2, 3]\n"
     ]
    }
   ],
   "source": [
    "# Lists\n",
    "fruits = [\"apple\", \"orange\", \"mango\"]\n",
    "print \"Fruit 0: \", fruits[0]\n",
    "\n",
    "# List items could have different types (although it's not a good practice to do it)\n",
    "different_types = [\"apple\", 1, 15.3, 0xA]\n",
    "\n",
    "# List of numbers could be created with range() function\n",
    "numbers = range(1, 4)\n",
    "print \"numbers using range(): \", numbers"
   ]
  },
  {
   "cell_type": "markdown",
   "metadata": {},
   "source": [
    "### Dicts"
   ]
  },
  {
   "cell_type": "code",
   "execution_count": 21,
   "metadata": {},
   "outputs": [],
   "source": [
    "# Dicts\n",
    "fruit_calories = {}\n",
    "fruit_calories[\"apple\"] = 53\n",
    "fruit_calories[\"banana\"] = 95\n",
    "fruit_calories[\"orange\"] = 63"
   ]
  },
  {
   "cell_type": "code",
   "execution_count": 22,
   "metadata": {},
   "outputs": [
    {
     "data": {
      "text/plain": [
       "63"
      ]
     },
     "execution_count": 22,
     "metadata": {},
     "output_type": "execute_result"
    }
   ],
   "source": [
    "fruit_calories[\"orange\"]"
   ]
  },
  {
   "cell_type": "markdown",
   "metadata": {},
   "source": [
    "### Sets and Tuples"
   ]
  },
  {
   "cell_type": "code",
   "execution_count": 7,
   "metadata": {},
   "outputs": [
    {
     "name": "stdout",
     "output_type": "stream",
     "text": [
      "Marvel x Street Fighter: set(['ken', 'blanka', 'ironman', 'ryu', 'hulk', 'thor'])\n",
      "Marvel x Street Fighter: set(['ken', 'blanka', 'ironman', 'ryu', 'hulk', 'thor']) Hulk is Hulk!\n"
     ]
    }
   ],
   "source": [
    "# Sets\n",
    "marvel = set([\"ironman\", \"hulk\", \"thor\"])\n",
    "capcom = set([\"ken\", \"ryu\", \"blanka\"])\n",
    "marvel_vs_capcom = marvel.union(capcom)\n",
    "print \"Marvel x Street Fighter:\", marvel_vs_capcom\n",
    "\n",
    "marvel_vs_capcom.add(\"hulk\") # hulk is already added, so nothing happens\n",
    "print \"Marvel x Street Fighter:\", marvel_vs_capcom, \"Hulk is Hulk!\" "
   ]
  },
  {
   "cell_type": "code",
   "execution_count": 8,
   "metadata": {},
   "outputs": [
    {
     "name": "stdout",
     "output_type": "stream",
     "text": [
      "taxes are certain\n"
     ]
    }
   ],
   "source": [
    "# Tuples\n",
    "certain = (\"death\", \"taxes\")\n",
    "\n",
    "print certain[1], \"are certain\""
   ]
  },
  {
   "cell_type": "markdown",
   "metadata": {},
   "source": [
    "Tuple modifications aren't allowed and will raise an error, like below"
   ]
  },
  {
   "cell_type": "code",
   "execution_count": 9,
   "metadata": {},
   "outputs": [
    {
     "ename": "TypeError",
     "evalue": "'tuple' object does not support item assignment",
     "output_type": "error",
     "traceback": [
      "\u001b[1;31m---------------------------------------------------------------------------\u001b[0m\n\u001b[1;31mTypeError\u001b[0m                                 Traceback (most recent call last)",
      "\u001b[1;32m<ipython-input-9-2f3c53a69e8c>\u001b[0m in \u001b[0;36m<module>\u001b[1;34m()\u001b[0m\n\u001b[1;32m----> 1\u001b[1;33m \u001b[0mcertain\u001b[0m\u001b[1;33m[\u001b[0m\u001b[1;36m1\u001b[0m\u001b[1;33m]\u001b[0m \u001b[1;33m=\u001b[0m \u001b[1;34m\"blue unicorn\"\u001b[0m\u001b[1;33m\u001b[0m\u001b[0m\n\u001b[0m",
      "\u001b[1;31mTypeError\u001b[0m: 'tuple' object does not support item assignment"
     ]
    }
   ],
   "source": [
    "certain[1] = \"blue unicorn\""
   ]
  },
  {
   "cell_type": "markdown",
   "metadata": {},
   "source": [
    "> **Fact**: types that couldn't be changed after creation are called *immutable* (i.e.: tuple, string)"
   ]
  },
  {
   "cell_type": "markdown",
   "metadata": {},
   "source": [
    "## Basic control flow\n",
    "\n",
    "### If...esle\n",
    "\n",
    "*Ifs* are very straightforward."
   ]
  },
  {
   "cell_type": "code",
   "execution_count": 10,
   "metadata": {},
   "outputs": [
    {
     "name": "stdout",
     "output_type": "stream",
     "text": [
      "ken is buddy of ryu\n"
     ]
    }
   ],
   "source": [
    "fighter = capcom.pop() #remove and return an arbitrary element from the set\n",
    "\n",
    "if fighter == \"ken\":\n",
    "    buddy = \"ryu\"\n",
    "elif fighter == \"blanka\":\n",
    "    buddy = \"hulk\"\n",
    "else:\n",
    "    buddy = \"no one\"\n",
    "    \n",
    "print fighter, \"is buddy of\", buddy"
   ]
  },
  {
   "cell_type": "markdown",
   "metadata": {},
   "source": [
    " Python has no *case...switch* control flow, but we could mock it using *if...elif...elif...else*"
   ]
  },
  {
   "cell_type": "markdown",
   "metadata": {},
   "source": [
    "### for...in\n",
    "\n",
    "Python always expected that you will use *for loop* to iterate over a collection (list, dicts, tuples, arrays)\n",
    "\n",
    "    for fruit in fruits:\n",
    "        print fruit\n",
    "\n",
    "Compare with a *for loop* in C++. Isn't Python more concise and elegant?\n",
    "\n",
    "    for (int i = 0; i < fruits.size(); i++) {\n",
    "        std::cout << fruits[i] << std::endl;\n",
    "    }"
   ]
  },
  {
   "cell_type": "code",
   "execution_count": 11,
   "metadata": {},
   "outputs": [
    {
     "name": "stdout",
     "output_type": "stream",
     "text": [
      "apple\n",
      "orange\n",
      "mango\n"
     ]
    }
   ],
   "source": [
    "# Iterate over fruits list\n",
    "for fruit in fruits:\n",
    "    print fruit"
   ]
  },
  {
   "cell_type": "markdown",
   "metadata": {},
   "source": [
    "To make a \"classic\" *for loop*, incrementing an `int` variable, use the `range()` function"
   ]
  },
  {
   "cell_type": "code",
   "execution_count": 12,
   "metadata": {},
   "outputs": [
    {
     "name": "stdout",
     "output_type": "stream",
     "text": [
      "0\n",
      "1\n",
      "2\n"
     ]
    }
   ],
   "source": [
    "# For from 0 to 2\n",
    "for i in range(3):\n",
    "    print i"
   ]
  },
  {
   "cell_type": "markdown",
   "metadata": {},
   "source": [
    "`enumerate()` function helps you to count while iterate over a sequence"
   ]
  },
  {
   "cell_type": "code",
   "execution_count": 13,
   "metadata": {},
   "outputs": [
    {
     "name": "stdout",
     "output_type": "stream",
     "text": [
      "0 apple\n",
      "1 orange\n",
      "2 mango\n"
     ]
    }
   ],
   "source": [
    "# Iterate over fruits list and get the index of each fruit\n",
    "for i, fruit in enumerate(fruits):\n",
    "    print i, fruit"
   ]
  },
  {
   "cell_type": "markdown",
   "metadata": {},
   "source": [
    "> **Fact:** (for **Fortran** programmers) Python indexing starts at 0 (zero)"
   ]
  },
  {
   "cell_type": "markdown",
   "metadata": {},
   "source": [
    "Here is a little more complex *for loop*"
   ]
  },
  {
   "cell_type": "code",
   "execution_count": 25,
   "metadata": {},
   "outputs": [
    {
     "name": "stdout",
     "output_type": "stream",
     "text": [
      "0  |  1.0  |  0.0  |  1.0\n",
      "2  |  4.0  |  0.909297426826  |  -0.416146836547\n",
      "4  |  16.0  |  -0.756802495308  |  -0.653643620864\n",
      "6  |  64.0  |  -0.279415498199  |  0.96017028665\n"
     ]
    }
   ],
   "source": [
    "# Go from 0 to 10, print only even numbers and break the loop when x >== 8\n",
    "for x in range(10):\n",
    "    if x % 2 != 0:\n",
    "        continue # jump to the next iteration (x+1)\n",
    "    if x >= 8:\n",
    "        break # terminates the loop\n",
    "    print x, \" | \", math.pow(2,x), \" | \", math.sin(x), \" | \", math.cos(x)"
   ]
  },
  {
   "cell_type": "markdown",
   "metadata": {},
   "source": [
    "### while\n",
    "\n",
    "*while* is similar to another languages. `break` and `continue` work like above"
   ]
  },
  {
   "cell_type": "code",
   "execution_count": 26,
   "metadata": {},
   "outputs": [
    {
     "name": "stdout",
     "output_type": "stream",
     "text": [
      "2\n",
      "4\n",
      "8\n",
      "16\n"
     ]
    }
   ],
   "source": [
    "x = 1\n",
    "while x < 10:\n",
    "    x = x * 2\n",
    "    print x"
   ]
  },
  {
   "cell_type": "markdown",
   "metadata": {},
   "source": [
    "## Functions\n",
    "\n",
    "*Functions* are implemented using the `def` statemant. See examples below"
   ]
  },
  {
   "cell_type": "code",
   "execution_count": 27,
   "metadata": {},
   "outputs": [
    {
     "data": {
      "text/plain": [
       "81"
      ]
     },
     "execution_count": 27,
     "metadata": {},
     "output_type": "execute_result"
    }
   ],
   "source": [
    "def power(x, y):\n",
    "    return x ** y\n",
    "\n",
    "power(3, 4)"
   ]
  },
  {
   "cell_type": "markdown",
   "metadata": {},
   "source": [
    "You could set default value for arguments"
   ]
  },
  {
   "cell_type": "code",
   "execution_count": 17,
   "metadata": {},
   "outputs": [
    {
     "name": "stdout",
     "output_type": "stream",
     "text": [
      "9 - using the default arg for 'y'\n",
      "27 - set another value for 'y'\n"
     ]
    }
   ],
   "source": [
    "# Default arguments\n",
    "\n",
    "def power(x, y=2):\n",
    "    return x ** y\n",
    "\n",
    "print power(3), \"- using the default arg for 'y'\"\n",
    "print power(3, 3), \"- set another value for 'y'\""
   ]
  },
  {
   "cell_type": "markdown",
   "metadata": {},
   "source": [
    "It's also possible set an undefined number of arguments (below, `args` variable is a tuple with the given parameters)"
   ]
  },
  {
   "cell_type": "code",
   "execution_count": 3,
   "metadata": {},
   "outputs": [
    {
     "name": "stdout",
     "output_type": "stream",
     "text": [
      "arg1 is of <type 'str'>\n",
      "other is of <type 'str'>\n",
      "-312 is of <type 'int'>\n",
      "2j is of <type 'complex'>\n"
     ]
    }
   ],
   "source": [
    "#Undefined number of arguments\n",
    "\n",
    "def print_deco(*args):\n",
    "    for arg in args:\n",
    "        print arg, \"is of\", type(arg)\n",
    "\n",
    "print_deco(\"arg1\", \"other\", -312, 2j)"
   ]
  },
  {
   "cell_type": "markdown",
   "metadata": {},
   "source": [
    "<center>__... End of Chapter ...__</center>"
   ]
  }
 ],
 "metadata": {
  "kernelspec": {
   "display_name": "Python 3",
   "language": "python",
   "name": "python3"
  },
  "language_info": {
   "codemirror_mode": {
    "name": "ipython",
    "version": 3
   },
   "file_extension": ".py",
   "mimetype": "text/x-python",
   "name": "python",
   "nbconvert_exporter": "python",
   "pygments_lexer": "ipython3",
   "version": "3.6.4"
  }
 },
 "nbformat": 4,
 "nbformat_minor": 1
}
