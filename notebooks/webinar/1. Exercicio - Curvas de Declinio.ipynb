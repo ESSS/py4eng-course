{
 "cells": [
  {
   "cell_type": "markdown",
   "metadata": {},
   "source": [
    "## Vamos Começar\n",
    "\n",
    "Baixar e Instalar o [Anaconda](https://www.continuum.io/downloads) (Distribuição Python)\n",
    "\n",
    "Inicializar o Spyder (IDE Python)\n",
    "\n",
    "![](../resource/spyder.png)\n",
    "\n",
    "1. Editor de arquivos\n",
    "1. Inspetor de Variáveis\n",
    "1. Console Python\n",
    "\n",
    "**Atalhos Importantes:**\n",
    "\n",
    "+ Ctrl+Espaço - Lista de Funções\n",
    "+ Ctrl+I - Mostra Documentação\n",
    "+ Ctrl+Shift+I - Foco no Console\n",
    "+ Ctrl+Shift+V - Foco Inspetor de Variáveis\n",
    "+ Ctrl+Shift+E - Foco no Editor\n",
    "+ F5 - Executa Script\n"
   ]
  },
  {
   "cell_type": "markdown",
   "metadata": {},
   "source": [
    "## Exercício - Análise de Poço por Curvas de Declínio\n",
    "\n",
    "![](https://upload.wikimedia.org/wikipedia/commons/thumb/6/67/GlennPool.jpg/220px-GlennPool.jpg)\n",
    "\n",
    "*Baseado no Exemplo 11.1 do livro [Engenharia de Reservatórios de Petróleo](http://www.saraiva.com.br/engenharia-de-reservatorios-de-petroleo-198191.html) de Rosa, A. et al.*\n",
    "\n",
    ">Método simplificado e bastante usado na prática para a realização de ajuste de histórico e/ou previsão do comportamento de poços isolados (Rosa, A. et al, 2006)\n",
    " \n",
    "Dado o histórico de produção de um poço na tabela abaixo:\n",
    "\n",
    "| *t (ano)* | *q (m³std/d)* |\n",
    "|-----------|---------------|\n",
    "| 0         | 100           |\n",
    "| 1         | 77.0          |\n",
    "| 2         | 61.0          |\n",
    "| 3         | 49.5          |\n",
    "| 4         | 41.0          |\n",
    "| 5         | 34.5          |\n",
    "\n",
    "Considerando uma vazão de abandono de 5 m³std/d, determinar, através de análise de curva de declínio:\n",
    "\n",
    " 1. Tempo de abandono;\n",
    " 1. Produção acumulada até o abandono.\n"
   ]
  },
  {
   "cell_type": "markdown",
   "metadata": {},
   "source": [
    "Vamos criar uma lista com os dados do histórico"
   ]
  },
  {
   "cell_type": "code",
   "execution_count": 52,
   "metadata": {
    "collapsed": true
   },
   "outputs": [],
   "source": [
    "qm = [100, 77, 61, 49.5, 41, 34.5]"
   ]
  },
  {
   "cell_type": "markdown",
   "metadata": {},
   "source": [
    "**Listas não são Arrays!**\n",
    "\n",
    "|Lista                            |Array               |\n",
    "|:-------------------------------:|:------------------:|\n",
    "|![](../resource/paperbox.jpg) |![](../resource/beerbox.jpg)|"
   ]
  },
  {
   "cell_type": "code",
   "execution_count": 5,
   "metadata": {
    "collapsed": true
   },
   "outputs": [],
   "source": [
    "import numpy as np"
   ]
  },
  {
   "cell_type": "code",
   "execution_count": 6,
   "metadata": {
    "collapsed": false
   },
   "outputs": [],
   "source": [
    "qm = np.array([100, 77, 61, 49.5, 41, 34.5])\n",
    "t = np.arange(6)"
   ]
  },
  {
   "cell_type": "markdown",
   "metadata": {},
   "source": [
    "[Exemplo lendo dados do Excel](#Lendo-dados-do-Excel)"
   ]
  },
  {
   "cell_type": "markdown",
   "metadata": {
    "collapsed": true
   },
   "source": [
    "#### Plot"
   ]
  },
  {
   "cell_type": "code",
   "execution_count": 7,
   "metadata": {
    "collapsed": true
   },
   "outputs": [],
   "source": [
    "import matplotlib.pyplot as plot\n",
    "%matplotlib inline"
   ]
  },
  {
   "cell_type": "code",
   "execution_count": 8,
   "metadata": {
    "collapsed": false
   },
   "outputs": [
    {
     "data": {
      "text/plain": [
       "<matplotlib.text.Text at 0x6f5ea20>"
      ]
     },
     "execution_count": 8,
     "metadata": {},
     "output_type": "execute_result"
    },
    {
     "data": {
      "image/png": "[encoded data removed]",
      "text/plain": [
       "<matplotlib.figure.Figure at 0x6f22c18>"
      ]
     },
     "metadata": {},
     "output_type": "display_data"
    }
   ],
   "source": [
    "plot.plot(t, qm, \"ro\")\n",
    "plot.xlabel(\"anos\")\n",
    "plot.ylabel(\"$m^3 std/d$\")"
   ]
  },
  {
   "cell_type": "markdown",
   "metadata": {},
   "source": [
    "#### Funções"
   ]
  },
  {
   "cell_type": "markdown",
   "metadata": {},
   "source": [
    "Utilizando a equação de Declínio Hiperbólico, a vazão $q$ de um poço no tempo $t$ pode é dada por:\n",
    "\n",
    "$$q = \\frac{q_i}{(1 + n a_i t)^{1/n}}$$\n",
    "\n",
    "Podemos escrever esta equação em Python da seguinte forma:"
   ]
  },
  {
   "cell_type": "code",
   "execution_count": 9,
   "metadata": {
    "collapsed": true
   },
   "outputs": [],
   "source": [
    "def well_flow(t, qi, ai, n):\n",
    "    '''\n",
    "    Calculate well flow rate using decline curve analysis\n",
    "    '''\n",
    "    return qi / (1 + n * ai * t) ** (1 / n)"
   ]
  },
  {
   "cell_type": "markdown",
   "metadata": {},
   "source": [
    "Tipagem dinâmica e foco na legibilidade\n",
    "\n",
    "Exemplo da mesma função em C:"
   ]
  },
  {
   "cell_type": "raw",
   "metadata": {},
   "source": [
    "/*\n",
    " * Calculate well flow rate using decline curve analysis\n",
    " */\n",
    "const double &well_flow(double &t, double &qi, double &ai, double &n) \n",
    "{\n",
    "    return qi / (1 + n * ai * t) ** (1 / n);\n",
    "}"
   ]
  },
  {
   "cell_type": "markdown",
   "metadata": {},
   "source": [
    "Como nossos vetores tem suporte a operadores, podemos chamar a função passando um valor escalar ou os próprios vetores:"
   ]
  },
  {
   "cell_type": "code",
   "execution_count": 10,
   "metadata": {
    "collapsed": false
   },
   "outputs": [
    {
     "data": {
      "text/plain": [
       "57.87037037037038"
      ]
     },
     "execution_count": 10,
     "metadata": {},
     "output_type": "execute_result"
    }
   ],
   "source": [
    "# using a scalar\n",
    "well_flow(2, 100, 0.3, 1/3)"
   ]
  },
  {
   "cell_type": "code",
   "execution_count": 11,
   "metadata": {
    "collapsed": false
   },
   "outputs": [
    {
     "data": {
      "text/plain": [
       "array([ 100.        ,   75.13148009,   57.87037037,   45.51661356,\n",
       "         36.44314869,   29.62962963])"
      ]
     },
     "execution_count": 11,
     "metadata": {},
     "output_type": "execute_result"
    }
   ],
   "source": [
    "# using an array\n",
    "well_flow(t, 100, 0.3, 1/3)"
   ]
  },
  {
   "cell_type": "markdown",
   "metadata": {},
   "source": [
    "Plotando"
   ]
  },
  {
   "cell_type": "code",
   "execution_count": 12,
   "metadata": {
    "collapsed": false
   },
   "outputs": [
    {
     "data": {
      "text/plain": [
       "<matplotlib.text.Text at 0x7724550>"
      ]
     },
     "execution_count": 12,
     "metadata": {},
     "output_type": "execute_result"
    },
    {
     "data": {
      "image/png": "[encoded data removed]",
      "text/plain": [
       "<matplotlib.figure.Figure at 0x7702f28>"
      ]
     },
     "metadata": {},
     "output_type": "display_data"
    }
   ],
   "source": [
    "qs = well_flow(t, 100, 0.3, 1/3)\n",
    "plot.plot(t, qs)\n",
    "plot.xlabel(\"anos\")\n",
    "plot.ylabel(\"$m^3 std/d$\")"
   ]
  },
  {
   "cell_type": "markdown",
   "metadata": {},
   "source": [
    "Usaremos a função [curve_fit][curve-fit] da [SciPy][scipy-ref] para encontrar os parâmetros da curva de declínio para nossos dados de histórico:\n",
    "\n",
    "[scipy-ref]: http://docs.scipy.org/doc/scipy-0.14.0/reference/index.html\n",
    "[curve-fit]: http://docs.scipy.org/doc/scipy-0.16.0/reference/generated/scipy.optimize.curve_fit.html"
   ]
  },
  {
   "cell_type": "code",
   "execution_count": 13,
   "metadata": {
    "collapsed": false
   },
   "outputs": [],
   "source": [
    "from scipy.optimize import curve_fit\n",
    "\n",
    "params, fitted = curve_fit(well_flow, t, qm, p0=[100, 0.3, 1/3])\n",
    "qi, ai, n = params"
   ]
  },
  {
   "cell_type": "markdown",
   "metadata": {},
   "source": [
    "Podemos imprimir o resultad usando [formatação de strings](https://docs.python.org/3/library/string.html#format-specification-mini-language)"
   ]
  },
  {
   "cell_type": "code",
   "execution_count": 15,
   "metadata": {
    "collapsed": false
   },
   "outputs": [
    {
     "name": "stdout",
     "output_type": "stream",
     "text": [
      "Qi: 100.01 m³std/d, ai: 0.280, n: 0.489\n"
     ]
    }
   ],
   "source": [
    "print(\"Qi: %.2f m³std/d, ai: %.3f, n: %.3f\" % (qi, ai, n))"
   ]
  },
  {
   "cell_type": "markdown",
   "metadata": {},
   "source": [
    "Plotando contra os dados de histórico, temos:"
   ]
  },
  {
   "cell_type": "code",
   "execution_count": 16,
   "metadata": {
    "collapsed": false
   },
   "outputs": [
    {
     "data": {
      "text/plain": [
       "<matplotlib.legend.Legend at 0x8100e80>"
      ]
     },
     "execution_count": 16,
     "metadata": {},
     "output_type": "execute_result"
    },
    {
     "data": {
      "image/png": "[encoded data removed]",
      "text/plain": [
       "<matplotlib.figure.Figure at 0x80bb588>"
      ]
     },
     "metadata": {},
     "output_type": "display_data"
    }
   ],
   "source": [
    "qs = well_flow(t, qi, ai, n)\n",
    "plot.plot(t, qm, \"ro\", label=\"medido\")\n",
    "plot.plot(t, qs, label=\"simulado\")\n",
    "plot.xlabel(\"anos\")\n",
    "plot.ylabel(\"$m^3 std/d$\")\n",
    "plot.legend()"
   ]
  },
  {
   "cell_type": "markdown",
   "metadata": {},
   "source": [
    "Para encontrar o tempo de abandono, vamos isolar $t$ na equação de declíneo:\n",
    "\n",
    "$$q = \\frac{q_i}{(1 + n a_i t)^{1/n}}$$\n",
    "\n",
    "temos:\n",
    "\n",
    "$$t = \\frac{(q_i/q)^n - 1}{n a_i}$$\n"
   ]
  },
  {
   "cell_type": "code",
   "execution_count": 17,
   "metadata": {
    "collapsed": false
   },
   "outputs": [],
   "source": [
    "def abandon_time(q, qi, ai, n):\n",
    "    return ((qi/q)**n - 1) / (ai*n)"
   ]
  },
  {
   "cell_type": "code",
   "execution_count": 20,
   "metadata": {
    "collapsed": false
   },
   "outputs": [
    {
     "data": {
      "text/plain": [
       "24.36224982496239"
      ]
     },
     "execution_count": 20,
     "metadata": {},
     "output_type": "execute_result"
    }
   ],
   "source": [
    "ta = 5\n",
    "abandon_time(ta, qi, ai, n)"
   ]
  },
  {
   "cell_type": "markdown",
   "metadata": {},
   "source": [
    "Temos que o tempo de abandono é de **24.36 anos**\n",
    "\n",
    "A produção acumulada até o abandono pode ser calculada integrando-se o a função de declíneo no interavlo de produção $(0, 24.36)$. Para isso vamos usar a função [quad][quad] da [SciPy][scipy-ref].\n",
    "\n",
    "[scipy-ref]: http://docs.scipy.org/doc/scipy-0.14.0/reference/index.html\n",
    "[quad]: http://docs.scipy.org/doc/scipy-0.14.0/reference/generated/scipy.integrate.quad.html#scipy.integrate.quad"
   ]
  },
  {
   "cell_type": "code",
   "execution_count": 21,
   "metadata": {
    "collapsed": false
   },
   "outputs": [
    {
     "name": "stdout",
     "output_type": "stream",
     "text": [
      "200576.92524981254\n"
     ]
    }
   ],
   "source": [
    "from scipy.integrate import quad\n",
    "\n",
    "result, error = quad(well_flow, 0, 24.4, (params[0], params[1], params[2]))\n",
    "Np = result * 365.25\n",
    "print(Np) # mult by 365 since flow is in days"
   ]
  },
  {
   "cell_type": "markdown",
   "metadata": {
    "collapsed": true
   },
   "source": [
    "Produção acumulada até o tempo de abandono de **200.576 m³std**"
   ]
  },
  {
   "cell_type": "code",
   "execution_count": 22,
   "metadata": {
    "collapsed": false
   },
   "outputs": [
    {
     "data": {
      "text/plain": [
       "<matplotlib.text.Text at 0x819dd68>"
      ]
     },
     "execution_count": 22,
     "metadata": {},
     "output_type": "execute_result"
    },
    {
     "data": {
      "image/png": "[encoded data removed]",
      "text/plain": [
       "<matplotlib.figure.Figure at 0x81552b0>"
      ]
     },
     "metadata": {},
     "output_type": "display_data"
    }
   ],
   "source": [
    "t = np.linspace(0, 24.3, 100)\n",
    "q = well_flow(t, qi, ai, n)\n",
    "\n",
    "plot.fill_between(t, q, 0, facecolor='g', alpha=0.3)\n",
    "plot.annotate(r\"$N_p = %.0f m^3std$\" % Np, xy=(0.3, 0.5), xycoords='figure fraction', size=16)\n",
    "plot.xlabel(\"anos\")\n",
    "plot.ylabel(\"$m^3 std/d$\")"
   ]
  },
  {
   "cell_type": "markdown",
   "metadata": {},
   "source": [
    "### Links Interessantes\n",
    "\n",
    "- [SciPy - Referênciia](http://docs.scipy.org/doc/scipy/reference/)\n",
    "- [Matplotlib Gallery](http://matplotlib.org/gallery.html)\n",
    "- [Numpy for Matlab users](https://docs.scipy.org/doc/numpy-dev/user/numpy-for-matlab-users.html#general-purpose-equivalents)"
   ]
  },
  {
   "cell_type": "markdown",
   "metadata": {},
   "source": [
    "### Round Bônus"
   ]
  },
  {
   "cell_type": "code",
   "execution_count": 33,
   "metadata": {
    "collapsed": false
   },
   "outputs": [
    {
     "data": {
      "text/plain": [
       "'Brent: 47.68 - Dólar: 3.77'"
      ]
     },
     "execution_count": 33,
     "metadata": {},
     "output_type": "execute_result"
    }
   ],
   "source": [
    "import yahoo_finance\n",
    "brent_share = yahoo_finance.Share(\"BZZ15.NYM\")\n",
    "usd_curr = yahoo_finance.Currency(\"USDBRL\")\n",
    "brent_price = float(brent_share.get_price())\n",
    "usd = float(usd_curr.get_rate())\n",
    "\"Brent: %.2f - Dólar: %.2f\" % (brent_price, usd)\n"
   ]
  },
  {
   "cell_type": "code",
   "execution_count": 51,
   "metadata": {
    "collapsed": false
   },
   "outputs": [
    {
     "data": {
      "text/plain": [
       "'R$ 226.829.644,23'"
      ]
     },
     "execution_count": 51,
     "metadata": {},
     "output_type": "execute_result"
    }
   ],
   "source": [
    "import locale\n",
    "# Definindo locale para as configurações regionais da máquina\n",
    "locale.setlocale(locale.LC_ALL, \"\")\n",
    "# Imprimindo valor em moeda corrente, agrupand milhar\n",
    "locale.currency(Np * 6.28981077 * brent_price * usd, grouping=True)"
   ]
  },
  {
   "cell_type": "code",
   "execution_count": null,
   "metadata": {
    "collapsed": true
   },
   "outputs": [],
   "source": []
  }
 ],
 "metadata": {
  "kernelspec": {
   "display_name": "Python 3",
   "language": "python",
   "name": "python3"
  },
  "language_info": {
   "codemirror_mode": {
    "name": "ipython",
    "version": 3
   },
   "file_extension": ".py",
   "mimetype": "text/x-python",
   "name": "python",
   "nbconvert_exporter": "python",
   "pygments_lexer": "ipython3",
   "version": "3.4.3"
  }
 },
 "nbformat": 4,
 "nbformat_minor": 0
}
